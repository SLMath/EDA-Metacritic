{
 "cells": [
  {
   "cell_type": "markdown",
   "metadata": {},
   "source": [
    "# Importanto Bibliotecas & Definindo Constantes"
   ]
  },
  {
   "cell_type": "code",
   "execution_count": null,
   "metadata": {},
   "outputs": [],
   "source": [
    "from typing import Dict, List\n",
    "import os\n",
    "import re\n",
    "from collections import Counter\n",
    "\n",
    "import numpy as np\n",
    "import pandas as pd\n",
    "\n",
    "import matplotlib.pyplot as plt\n",
    "import seaborn as sns\n",
    "import plotly.express as px\n",
    "\n",
    "%matplotlib inline"
   ]
  },
  {
   "cell_type": "code",
   "execution_count": null,
   "metadata": {},
   "outputs": [],
   "source": [
    "DATA_INPUT_FOLDER = 'data'\n",
    "ARCHIVE_FOLDER = 'archive'\n",
    "OUTPUT_FOLDER = 'output'"
   ]
  },
  {
   "cell_type": "markdown",
   "metadata": {},
   "source": [
    "# Importando os Dados"
   ]
  },
  {
   "cell_type": "markdown",
   "metadata": {},
   "source": [
    "Extraídos da base: https://www.kaggle.com/datasets/patkle/metacritic-scores-for-games-movies-tv-and-music\n",
    "\n",
    "Os dados são referentes a notas de jogos, filmes, músicas e séries (de TV) avaliados por usuários e pelo próprio domínio Metacritic."
   ]
  },
  {
   "cell_type": "code",
   "execution_count": null,
   "metadata": {},
   "outputs": [],
   "source": [
    "# Um dicionário contendo os 4 DataFrames, separados \n",
    "df_dict : Dict[ str, pd.DataFrame ] = {}\n",
    "for file_data in os.listdir(DATA_INPUT_FOLDER):\n",
    "    df_dict[file_data[:-4]] = pd.read_csv(\n",
    "        os.path.join( DATA_INPUT_FOLDER, file_data ),\n",
    "        index_col=0,\n",
    "        parse_dates= ['release_date'],\n",
    "        dayfirst= True\n",
    "    )\n",
    "\n",
    "print(df_dict.keys())"
   ]
  },
  {
   "cell_type": "markdown",
   "metadata": {},
   "source": [
    "# Analizando Inicialmente a Base exclusiva de Jogos"
   ]
  },
  {
   "cell_type": "markdown",
   "metadata": {},
   "source": [
    "## Visão Geral"
   ]
  },
  {
   "cell_type": "code",
   "execution_count": null,
   "metadata": {},
   "outputs": [],
   "source": [
    "games_df = df_dict['games']\n",
    "\n",
    "# Observar informações gerais sobre os dados e tipos\n",
    "display(games_df.info())\n",
    "display(games_df.head())"
   ]
  },
  {
   "cell_type": "markdown",
   "metadata": {},
   "source": [
    "O banco apresenta 20022 registros (linhas), com 7 propriedades (colunas):\n",
    "\n",
    "- metascore: nota da plataforma\n",
    "- plataforma\n",
    "- data de lançamento\n",
    "- número de ordenação (não está claro a que se refere)\n",
    "- resumo: descrição breve do jogo\n",
    "- título: nome do jogo\n",
    "- nota dos usuários\n",
    "\n",
    "Podemos verificar que \n",
    "\n",
    "- metascore é de 0 a 100 e está ocupando espaco de um int 64\n",
    "- Há dados nulos (faltando) para o resumo (summary) de alguns registros\n",
    "- Os dados de nota dos usuários (user_score) estão sendo tratados como texto (object) em vez de números (float)"
   ]
  },
  {
   "cell_type": "markdown",
   "metadata": {},
   "source": [
    "## Entendendo o Significado dos Dados"
   ]
  },
  {
   "cell_type": "markdown",
   "metadata": {},
   "source": [
    "### sort_no"
   ]
  },
  {
   "cell_type": "markdown",
   "metadata": {},
   "source": [
    "Analisar número de ordenação (sort_no), para tentar entendê-lo e descobrir se ele é útil"
   ]
  },
  {
   "cell_type": "code",
   "execution_count": null,
   "metadata": {},
   "outputs": [],
   "source": [
    "# Conferir se é único\n",
    "np.any(games_df['sort_no'].duplicated())"
   ]
  },
  {
   "cell_type": "code",
   "execution_count": null,
   "metadata": {},
   "outputs": [],
   "source": [
    "# Conferir se tem alguma relação com outra coluna, principalmente de notas\n",
    "games_df.sort_values('sort_no')"
   ]
  },
  {
   "cell_type": "code",
   "execution_count": null,
   "metadata": {},
   "outputs": [],
   "source": [
    "# comparar se a ordenação pelo metascore (decrescente) e pelo sort_no (crescente) tem mesmas notas metascore\n",
    "np.all(\n",
    "    games_df.sort_values('metascore', ascending= False, ignore_index= True)['metascore'] == \n",
    "    games_df.sort_values('sort_no', ignore_index= True)['metascore']\n",
    ")"
   ]
  },
  {
   "cell_type": "markdown",
   "metadata": {},
   "source": [
    "Logo concluímos que sort_no é uma ordenação de ranking com base nos maiores metascore"
   ]
  },
  {
   "cell_type": "markdown",
   "metadata": {},
   "source": [
    "## Levantando Hipóteses e Questionamentos"
   ]
  },
  {
   "cell_type": "markdown",
   "metadata": {},
   "source": [
    "1. Qual o top 10 jogos mais bem avaliados pelo site? E pelos usuários?\n",
    "2. Qual a plataforma que mais aparece entre os 100 melhores avaliados pelos usuários?\n",
    "3. As notas dos jogos melhoraram a cada ano? E para cada plataforma ao longo dos anos?\n",
    "4. Tem alguma epoca do ano que apresenta maior sucesso em relação a notas maiores?\n",
    "5. Que palavras mais aparecem nos títulos dos 1000 melhores jogos? E dos 100 piores? E nos resumos?\n",
    "6. Histograma - Distribuição de Lançamento de Jogos por Ano\n",
    "7. Histograma - Distribuição de Lançamento de Jogos por Mês\n",
    "8. Histograma - Distribuição da avaliação dos usuários\n",
    "9. Histograma - Distribuição da avaliação do Metacritic\n",
    "10. Heatmap - Correlação entre as variáveis\n",
    "11. Qual o número de games produzidos para cada plataforma do Dataset? Esses valores indicam qual porcentagem do total?\n",
    "12. Comparativo: PlayStation 4 e PlayStation 5\n",
    "13. Games Disponíveis por Mês por 7 anos (PS4 e Previsão PS5)\n",
    "14. Qual a proporção de cada tipo de classificação atribuída aos games? Qual a porcentagem do total de cada uma?\n",
    "15. Distribuição de Classificações Metacritic\n",
    "16. Quais são os top 10 games mais bem avaliados pelos usuários e pelo metacritic? Eles são muito diferentes?\n",
    "17. Quais são os bottom 10 games pior avaliados pelos usuários e pelo metacritic? Eles são muito diferentes?"
   ]
  },
  {
   "cell_type": "markdown",
   "metadata": {},
   "source": [
    "## Limpando dados"
   ]
  },
  {
   "attachments": {},
   "cell_type": "markdown",
   "metadata": {},
   "source": [
    "### metascore (número de bytes)"
   ]
  },
  {
   "cell_type": "code",
   "execution_count": null,
   "metadata": {},
   "outputs": [],
   "source": [
    "# int 8 vai até 128, contemplando todos os valores\n",
    "games_df = ( games_df.astype({'metascore': 'int8'}) )"
   ]
  },
  {
   "cell_type": "markdown",
   "metadata": {},
   "source": [
    "### user_score"
   ]
  },
  {
   "cell_type": "code",
   "execution_count": null,
   "metadata": {},
   "outputs": [],
   "source": [
    "# tentativa de converter o tipo dos dados de user_score, para ver os valores que falham\n",
    "set_errors = set()\n",
    "for score in games_df['user_score']:\n",
    "    try:\n",
    "        float(score)\n",
    "    except Exception as e:\n",
    "        set_errors.add(str(e))\n",
    "print(set_errors)"
   ]
  },
  {
   "cell_type": "code",
   "execution_count": null,
   "metadata": {},
   "outputs": [],
   "source": [
    "# Entendendo os registros com nota tbd (To Be Determined, traduzido como \"a ser determinado\")\n",
    "display( games_df[ games_df['user_score'] == 'tbd' ].head() )\n",
    "print(f\"Número de registros com nota dos usuários pendente: { np.sum( games_df['user_score'] == 'tbd' ) }\")\n",
    "print(f\"Porcentagem de registros com nota dos usuários pendente: { np.sum( games_df['user_score'] == 'tbd' ) / len( games_df ) :0.1%}\")"
   ]
  },
  {
   "cell_type": "markdown",
   "metadata": {},
   "source": [
    "Uma possível explicação para esse valor é de que esse número é uma média e ainda não tiveram avaliações de usuários o suficiente para computar uma média adequada.\n",
    "\n",
    "Podemos adotar algumas abordagens:\n",
    "\n",
    "- substituir os valores pela média geral\n",
    "- separar em grupos de acordo com algum critério e substituir os valores pelas médias de cada grupo \n",
    "    - mesmo metascore\n",
    "    - mesma plataforma\n",
    "    - mesmo metascore e plataforma\n",
    "- substituir os valores usando técnicas que mantenham a distribuição dos dados válidos\n",
    "    - bfill (backward fill) : substituir pela proxima observacao\n",
    "    - ffill (forward fill) : substituir pela observacao anterior\n",
    "- excluir linhas\n",
    "\n",
    "Como esses dados representam 7% dos valores, não desejo excluí-los, então tentarei uma média de acordo o agrupamento pela plataforma"
   ]
  },
  {
   "cell_type": "code",
   "execution_count": null,
   "metadata": {},
   "outputs": [],
   "source": [
    "# para comparação\n",
    "games_df['user_score_raw'] = games_df['user_score']\n",
    "\n",
    "# Transformar a coluna em float, e os valores faltantes em NaN para poder computar a média\n",
    "games_df['user_score'] = games_df['user_score'].replace('tbd', np.nan).astype(float)\n",
    "\n",
    "# Criar uma cópia do dataframe, para alterar o user_score somente na cópia\n",
    "games_df['user_score'] = games_df['user_score'].fillna(\n",
    "    games_df.groupby('platform')['user_score'].transform('mean')\n",
    ")\n",
    "\n",
    "display( games_df[['user_score', 'user_score_raw']].head() )\n",
    "display( games_df[games_df['user_score_raw'] == 'tbd'][['platform', 'user_score', 'user_score_raw']].head(10) )\n",
    "\n",
    "games_df = games_df.drop(columns= 'user_score_raw')"
   ]
  },
  {
   "cell_type": "markdown",
   "metadata": {},
   "source": [
    "### summary"
   ]
  },
  {
   "cell_type": "code",
   "execution_count": null,
   "metadata": {},
   "outputs": [],
   "source": [
    "print('número de resumos faltantes:', games_df['summary'].isna().sum() )\n",
    "display( games_df[games_df['summary'].isna()].head() )"
   ]
  },
  {
   "cell_type": "markdown",
   "metadata": {},
   "source": [
    "Parece ser um caso de dados não coletados, pois a falta de um texto no csv gera um NaN\n",
    "\n",
    "Podemos adotar algumas abordagens:\n",
    "\n",
    "- procurar os dados na internet e preencher manualmente\n",
    "- substituir por um valor padrão\n",
    "- deixar como está\n",
    "- excluir linhas\n",
    "\n",
    "Como é uma descrição do jogo, não há necessidade em perder os outros dados por conta dele.\n",
    "\n",
    "Substituirei os valores por uma string vazia, assim como está em games.csv"
   ]
  },
  {
   "cell_type": "code",
   "execution_count": null,
   "metadata": {},
   "outputs": [],
   "source": [
    "games_df['summary'] = games_df['summary'].fillna('')\n",
    "games_df['summary'].isna().sum()"
   ]
  },
  {
   "cell_type": "markdown",
   "metadata": {},
   "source": [
    "## Criando Novas Variáveis"
   ]
  },
  {
   "attachments": {},
   "cell_type": "markdown",
   "metadata": {},
   "source": [
    "### Trimestre de Lançamento"
   ]
  },
  {
   "cell_type": "markdown",
   "metadata": {},
   "source": [
    "Como forma de expandir nossas possibilidades de análise, vamos inserir nos dados uma nova variável que informa qual o trimestre do ano em que o Jogo foi lançado."
   ]
  },
  {
   "cell_type": "code",
   "execution_count": null,
   "metadata": {},
   "outputs": [],
   "source": [
    "def set_year_quarter(data: pd.DataFrame) -> pd.DataFrame:\n",
    "    '''Retorna uma nova variável que informa o trimestre do ano em que\n",
    "    o jogo foi lançado. Essa definição de trimestre se baseia no mês de lançamento\n",
    "    da coluna release_date.\n",
    "    \n",
    "    PARÂMETROS:\n",
    "    \n",
    "        data > DataFrame para se aplicar a alteração.\n",
    "    '''\n",
    "    data['release_quarter'] = data['release_date'].apply(\n",
    "        lambda value:\n",
    "            'Q1' if value.month in [1, 2, 3] else\n",
    "            'Q2' if value.month in [4, 5, 6] else\n",
    "            'Q3' if value.month in [7, 8, 9] else\n",
    "            'Q4' if value.month in [10, 11, 12] else\n",
    "            value\n",
    "            )\n",
    "    \n",
    "    return data"
   ]
  },
  {
   "cell_type": "code",
   "execution_count": null,
   "metadata": {},
   "outputs": [],
   "source": [
    "# Aplicando função:\n",
    "games_df = set_year_quarter(games_df)\n",
    "\n",
    "# Checando resultado:\n",
    "games_df.sample(10)"
   ]
  },
  {
   "cell_type": "markdown",
   "metadata": {},
   "source": [
    "### Subdivisões da Variável release_date"
   ]
  },
  {
   "cell_type": "markdown",
   "metadata": {},
   "source": [
    "Com a nova variável de trimestre de lançamento criada, vamos retornar as atenções a variável 'release_date' e utilizá-la para criar três variáveis distintas que informam apenas o dia, mês e ano do lançamento."
   ]
  },
  {
   "cell_type": "markdown",
   "metadata": {},
   "source": [
    "Essa divisão da variável 'release_date' será feita para facilitar a criação de plots na etapa de análises."
   ]
  },
  {
   "cell_type": "markdown",
   "metadata": {},
   "source": [
    "- Criando variável 'release_day':"
   ]
  },
  {
   "cell_type": "code",
   "execution_count": null,
   "metadata": {},
   "outputs": [],
   "source": [
    "# Criando nova variável:\n",
    "games_df['release_day'] = games_df['release_date'].dt.day"
   ]
  },
  {
   "cell_type": "markdown",
   "metadata": {},
   "source": [
    "- Criando variável 'release_month':"
   ]
  },
  {
   "cell_type": "code",
   "execution_count": null,
   "metadata": {},
   "outputs": [],
   "source": [
    "games_df['release_month'] = games_df['release_date'].dt.month"
   ]
  },
  {
   "cell_type": "markdown",
   "metadata": {},
   "source": [
    "- Criando variável 'release_year':"
   ]
  },
  {
   "cell_type": "code",
   "execution_count": null,
   "metadata": {},
   "outputs": [],
   "source": [
    "# Criando nova variável:\n",
    "games_df['release_year'] = games_df['release_date'].dt.year"
   ]
  },
  {
   "cell_type": "code",
   "execution_count": null,
   "metadata": {},
   "outputs": [],
   "source": [
    "games_df.head(5)"
   ]
  },
  {
   "attachments": {},
   "cell_type": "markdown",
   "metadata": {},
   "source": [
    "### Metascore_class"
   ]
  },
  {
   "cell_type": "markdown",
   "metadata": {},
   "source": [
    "Essa variável tem como objetivo abrigar a classificação dos valores do Metascore. De acordo com um [FAQ do próprio site](https://www.metacritic.com/about-metascores), para cada range de notas temos uma classificação geral atribuída a ele como ilustrado na imagem abaixo retirada diretamente do FAQ:\n",
    "\n",
    "<img src=\"https://raw.githubusercontent.com/JoSEPHDev2022/Metacritc_Scores_Video_Games/main/images/metascore_classification.png\" width=700 height=350>\n",
    "\n",
    "https://www.metacritic.com/about-metascores"
   ]
  },
  {
   "cell_type": "code",
   "execution_count": null,
   "metadata": {},
   "outputs": [],
   "source": [
    "def set_metascore_class(data: pd.DataFrame) -> pd.DataFrame:\n",
    "    '''Retorna uma nova variável que consta a classificação do Jogo\n",
    "    com base em sua nota. Essas classificações são:\n",
    "    \n",
    "        - \"Universal Acclaim\" para games com notas entre 90 e 100;\n",
    "        - \"Generally Favorable Reviews\" para games com notas entre 75 e 89;\n",
    "        - \"Mixed or Average Reviews\" para games com notas entre 50 e 74;\n",
    "        - \"Generally Unfavorable Reviews\" para games com notas entre 20 e 49;\n",
    "        - \"Overwhelming Dislike\" para games com notas entre 0 e 19.\n",
    "\n",
    "        PARÂMETROS:\n",
    "        \n",
    "        data > DataFrame para se aplicar a alteração. \n",
    "    '''\n",
    "    data['classification'] = data['metascore'].apply(\n",
    "        lambda value:\n",
    "            'Universal Acclaim' if 90 <= value <= 100 else\n",
    "            'Generally Favorable' if 75 <= value <= 89 else\n",
    "            'Mixed or Average' if 50 <= value <= 74 else\n",
    "            'Generally Unfavorable' if 20 <= value <= 49 else\n",
    "            'Overwhelming Dislike'   \n",
    "            )\n",
    "    \n",
    "    return data"
   ]
  },
  {
   "cell_type": "code",
   "execution_count": null,
   "metadata": {},
   "outputs": [],
   "source": [
    "# Aplicando função:\n",
    "games_df = set_metascore_class(games_df)"
   ]
  },
  {
   "cell_type": "code",
   "execution_count": null,
   "metadata": {
    "scrolled": true
   },
   "outputs": [],
   "source": [
    "# Visualizando resultados:\n",
    "games_df.sample(10)"
   ]
  },
  {
   "cell_type": "markdown",
   "metadata": {},
   "source": [
    "## Funcoes auxiliares"
   ]
  },
  {
   "cell_type": "markdown",
   "metadata": {},
   "source": [
    "Com objetivo de estudar palavras presentes na descrição e título, criarei uma função que realiza a extração das palavras"
   ]
  },
  {
   "cell_type": "code",
   "execution_count": null,
   "metadata": {},
   "outputs": [],
   "source": [
    "def extract_words(texto : str) -> List[str]:\n",
    "    return re.findall('\\w+', texto)\n",
    "\n",
    "extract_words('Injustice 2: Legendary Edition')"
   ]
  },
  {
   "cell_type": "code",
   "execution_count": null,
   "metadata": {},
   "outputs": [],
   "source": [
    "def count_words(serie_texto : pd.Series) -> Dict[str, int]:\n",
    "    '''\n",
    "    It counts the number of text elements from the input series which contain a certain word\n",
    "    @input:\n",
    "        - serie_texto: a string-type pd.Series\n",
    "    @output:\n",
    "        A dict where each key is a word and the value its count as described\n",
    "    '''\n",
    "    word_counter = Counter()\n",
    "    for texto in serie_texto:\n",
    "        word_counter.update( Counter( set( extract_words(texto) ) ) )\n",
    "    return word_counter\n",
    "\n",
    "count_words(pd.Series(['Injustice 2: Legendary Edition', 'Injustice 2: Legendary Edition', 'Mini Metro']))"
   ]
  },
  {
   "cell_type": "markdown",
   "metadata": {},
   "source": [
    "## EDA"
   ]
  },
  {
   "cell_type": "markdown",
   "metadata": {},
   "source": [
    "### Análise Univariada"
   ]
  },
  {
   "cell_type": "code",
   "execution_count": null,
   "metadata": {},
   "outputs": [],
   "source": [
    "games_df.columns"
   ]
  },
  {
   "attachments": {},
   "cell_type": "markdown",
   "metadata": {},
   "source": [
    "#### Ánalise de Variável Categórica: platform"
   ]
  },
  {
   "cell_type": "code",
   "execution_count": null,
   "metadata": {},
   "outputs": [],
   "source": [
    "games_df['platform'].value_counts(ascending= True).plot.barh()"
   ]
  },
  {
   "attachments": {},
   "cell_type": "markdown",
   "metadata": {},
   "source": [
    "Há muitas plataformas, e muitas estão relacionadas pelo 'fabricante', entao criaremos outra coluna"
   ]
  },
  {
   "cell_type": "code",
   "execution_count": null,
   "metadata": {},
   "outputs": [],
   "source": [
    "platform_manufacturer = {\n",
    "    'PC' : 'PC',\n",
    "    'PlayStation' : 'PlayStation',\n",
    "    'PlayStation 5' : 'PlayStation',\n",
    "    'PlayStation 4' : 'PlayStation',\n",
    "    'PlayStation 3' : 'PlayStation',\n",
    "    'PlayStation 2' : 'PlayStation',\n",
    "    'PlayStation Vita' : 'PlayStation',\n",
    "    'PSP' : 'PlayStation',\n",
    "    'Nintendo 64' : 'Nintendo',\n",
    "    'GameCube' : 'Nintendo',\n",
    "    'Wii U' : 'Nintendo',\n",
    "    'Wii' : 'Nintendo',\n",
    "    'Switch' : 'Nintendo',\n",
    "    'Game Boy Advance' : 'Nintendo',\n",
    "    'DS' : 'Nintendo',\n",
    "    '3DS' : 'Nintendo',\n",
    "    'Xbox Series X' : 'Xbox',\n",
    "    'Xbox' : 'Xbox',\n",
    "    'Xbox One' : 'Xbox',\n",
    "    'Xbox 360' : 'Xbox',\n",
    "    'Xbox 360' : 'Xbox',\n",
    "    'Stadia' : 'Other',\n",
    "    'Dreamcast' : 'Other'\n",
    "}\n",
    "games_df['manufacturer'] = games_df['platform'].map(platform_manufacturer)\n",
    "games_df['manufacturer'].value_counts().plot.bar(rot= 45)"
   ]
  },
  {
   "attachments": {},
   "cell_type": "markdown",
   "metadata": {},
   "source": [
    "Assim podemos ver que a PlayStation na verdade ultrapassa o número de jogos de PC no total,\n",
    "considerando que ela renova o console de tempos em tempos"
   ]
  },
  {
   "attachments": {},
   "cell_type": "markdown",
   "metadata": {},
   "source": [
    "#### Histogramas: analisando variáveis numéricas continuas"
   ]
  },
  {
   "attachments": {},
   "cell_type": "markdown",
   "metadata": {},
   "source": [
    "##### funcao auxiliar"
   ]
  },
  {
   "cell_type": "code",
   "execution_count": null,
   "metadata": {
    "cell_id": "7baa9993bd464e1586be4b213e9927b1",
    "deepnote_cell_type": "code",
    "deepnote_to_be_reexecuted": false,
    "execution_millis": 6,
    "execution_start": 1679965963322,
    "source_hash": "8503f567"
   },
   "outputs": [],
   "source": [
    "# Definindo uma função para plotagem dos histogramas pelo MatPlotLib:\n",
    "\n",
    "def histogram_plot(data: pd.DataFrame, column: pd.Series, bin_width: float, title: str):\n",
    "    '''Retorna um Histograma detalhado sobre os dados fornecidos.\n",
    "    \n",
    "    PARÂMETROS:\n",
    "\n",
    "        - data > Um DataFrame do Pandas contendo os dados;\n",
    "        - column > Uma Series do Pandas contendo os dados desejados para plotagem;\n",
    "        - bin_width: > Número float para a dimensão das barras do histograma;\n",
    "        - title > O título desejado para o plot.\n",
    "    '''\n",
    "    fig, ax1 = plt.subplots(figsize=(12,6))\n",
    "\n",
    "    ax2 = sns.histplot(data=data, \n",
    "                       x=column, \n",
    "                       kde=True,\n",
    "                       label='Frequência', \n",
    "                       binwidth=bin_width,\n",
    "                       edgecolor='black', \n",
    "                       line_kws={'linestyle': 'dashdot'},\n",
    "                       color='#151bbf')\n",
    "    \n",
    "    ax2.set_title(title, fontdict={'size': 15, \n",
    "                                   'weight': 'bold'})\n",
    "    \n",
    "    ax2.set_ylabel('Num. Registros', fontdict={'size': 12,\n",
    "                                               'family': 'monospace'})\n",
    "\n",
    "    ax2.get_yaxis().set_major_formatter(plt.FuncFormatter(lambda number, char: format(int(number), ',')))\n",
    "\n",
    "    ax2.set_xlabel('')"
   ]
  },
  {
   "attachments": {},
   "cell_type": "markdown",
   "metadata": {},
   "source": [
    "##### release_year"
   ]
  },
  {
   "cell_type": "code",
   "execution_count": null,
   "metadata": {
    "cell_id": "8e840893168642c6a6244a22136b26cf",
    "deepnote_cell_type": "code",
    "deepnote_to_be_reexecuted": false,
    "execution_millis": 723,
    "execution_start": 1679965963332,
    "source_hash": "8af53fc1"
   },
   "outputs": [],
   "source": [
    "# Histograma:\n",
    "histogram_plot(games_df, \n",
    "               'release_year', \n",
    "               1, \n",
    "               'Distribuição de Lançamento de Jogos por Ano')\n",
    "\n",
    "# Anotando lançamento PS2:\n",
    "plt.annotate('Lançamento PS2', \n",
    "             fontsize=9, \n",
    "             fontfamily='monospace',\n",
    "             xy=(2000.1, 370), \n",
    "             xytext=(1994.5,400), \n",
    "             arrowprops={'arrowstyle':'->', 'color':'black'},\n",
    "             bbox={'boxstyle': 'round', 'fc': '0.65', 'color': '#0bc3d4'})\n",
    "\n",
    "# Anotando lançamento X-Box:\n",
    "plt.annotate('Lançamento X-Box', \n",
    "             fontsize=9, \n",
    "             fontfamily='monospace',\n",
    "             xy=(2001.1, 555), \n",
    "             xytext=(1994.5,570), \n",
    "             arrowprops={'arrowstyle':'->', 'color':'black'},\n",
    "             bbox={'boxstyle': 'round', 'fc': '0.65', 'color': '#0bd422'})\n",
    "\n",
    "plt.show()"
   ]
  },
  {
   "cell_type": "markdown",
   "metadata": {
    "cell_id": "83492036c2cf41e195f1c98410f40221",
    "deepnote_cell_type": "markdown"
   },
   "source": [
    "Centralidade\n",
    "\n",
    "- Em relação aos anos de lançamento dos jogos, temos uma tendência central entre 2015 e 2020, onde as maiores quantidades de data points se acumulam."
   ]
  },
  {
   "cell_type": "markdown",
   "metadata": {
    "cell_id": "2798eef77cf34e95ae3cd6b7aa134140",
    "deepnote_cell_type": "markdown"
   },
   "source": [
    "Amplitude"
   ]
  },
  {
   "cell_type": "code",
   "execution_count": null,
   "metadata": {
    "cell_id": "b121d73f4202476486f59b39a9e177df",
    "deepnote_cell_type": "code",
    "deepnote_to_be_reexecuted": false,
    "execution_millis": 9,
    "execution_start": 1679965964055,
    "source_hash": "7e854576"
   },
   "outputs": [],
   "source": [
    "amplitude = games_df['release_year'].max() - games_df['release_year'].min()\n",
    "\n",
    "print(f'Período de {amplitude} anos.')"
   ]
  },
  {
   "attachments": {},
   "cell_type": "markdown",
   "metadata": {},
   "source": [
    "##### release_month"
   ]
  },
  {
   "cell_type": "code",
   "execution_count": null,
   "metadata": {
    "cell_id": "250eac3b806b45f9872c9acaca1d68fe",
    "deepnote_cell_type": "code",
    "deepnote_to_be_reexecuted": false,
    "execution_millis": 515,
    "execution_start": 1679965964075,
    "source_hash": "92cb26f3"
   },
   "outputs": [],
   "source": [
    "# Histograma:\n",
    "histogram_plot(games_df, \n",
    "               'release_month',\n",
    "               0.95,\n",
    "               'Distribuição de Lançamento de Jogos por Mês')"
   ]
  },
  {
   "cell_type": "markdown",
   "metadata": {
    "cell_id": "cf4dd89cafb34264a19c915c5843f108",
    "deepnote_cell_type": "markdown"
   },
   "source": [
    "Centralidade\n",
    "\n",
    "- Em relação aos meses de lançamento dos jogos, temos uma tendência central mais ao final do ano, a partir de Setembro (9) a Novembro (11)."
   ]
  },
  {
   "cell_type": "markdown",
   "metadata": {
    "cell_id": "ac030ece59ae49c283d9919a6ebc9fe5",
    "deepnote_cell_type": "markdown"
   },
   "source": [
    "Amplitude"
   ]
  },
  {
   "cell_type": "code",
   "execution_count": null,
   "metadata": {
    "cell_id": "36087134091e47cfaf402624d74476c4",
    "deepnote_cell_type": "code",
    "deepnote_to_be_reexecuted": false,
    "execution_millis": 6,
    "execution_start": 1679965964599,
    "source_hash": "d18bf214"
   },
   "outputs": [],
   "source": [
    "amplitude = games_df['release_month'].max() - games_df['release_month'].min() \n",
    "\n",
    "print(f'Intervalo de Tempo de {amplitude} meses.')"
   ]
  },
  {
   "attachments": {},
   "cell_type": "markdown",
   "metadata": {},
   "source": [
    "##### user_score"
   ]
  },
  {
   "cell_type": "code",
   "execution_count": null,
   "metadata": {
    "cell_id": "1a17554fcb29469cba7b79d54eabdce9",
    "deepnote_cell_type": "code",
    "deepnote_to_be_reexecuted": false,
    "execution_millis": 605,
    "execution_start": 1679965964609,
    "scrolled": false,
    "source_hash": "a6e791d2"
   },
   "outputs": [],
   "source": [
    "# Histograma:\n",
    "histogram_plot(games_df, \n",
    "               'user_score',\n",
    "               0.3,\n",
    "               'Distribuição de Avaliações de Usuários')"
   ]
  },
  {
   "cell_type": "markdown",
   "metadata": {
    "cell_id": "a3c982e3ca3a43b8bdeb397eff6c9b43",
    "deepnote_cell_type": "markdown"
   },
   "source": [
    "Centralidade\n",
    "\n",
    "- Em relação as notas fornecidas pelos usuários, temos uma tendência central dos dados entre 7 e 8, como a mediana de 7.1 nos apontou anteriormente."
   ]
  },
  {
   "cell_type": "markdown",
   "metadata": {
    "cell_id": "280f9f2b81584be29c352504aa12fbc9",
    "deepnote_cell_type": "markdown"
   },
   "source": [
    "Amplitude\n",
    "\n",
    "- Temos uma amplitude pequena por se tratar de uma avaliação, indo de 0 a 10."
   ]
  },
  {
   "attachments": {},
   "cell_type": "markdown",
   "metadata": {},
   "source": [
    "##### metascore"
   ]
  },
  {
   "cell_type": "code",
   "execution_count": null,
   "metadata": {
    "cell_id": "961c65f99a8648899abfe39bf69aa542",
    "deepnote_cell_type": "code",
    "deepnote_to_be_reexecuted": false,
    "execution_millis": 670,
    "execution_start": 1679965965222,
    "source_hash": "f589b21"
   },
   "outputs": [],
   "source": [
    "# Histograma:\n",
    "histogram_plot(games_df, \n",
    "               'metascore',\n",
    "               1,\n",
    "               'Distribuição de Avaliações Metacritic')"
   ]
  },
  {
   "cell_type": "markdown",
   "metadata": {
    "cell_id": "1d7806c5a94349ce9a9d84365464bb80",
    "deepnote_cell_type": "markdown"
   },
   "source": [
    "Centralidade\n",
    "\n",
    "- Em relação as notas fornecidas pelo Metacritic, temos uma tendência central dos dados entre 70 e 80. A distribuição de notas do Metacritic parece seguir o mesmo padrão das notas fornecidas pelos usuários, o que demonstra que as notas fornecidas pelo site não são tão discrepantes em relação as fornecidas pelos usuários. A correlação exata dessas duas métricas de avaliação será estudada mais a frente."
   ]
  },
  {
   "cell_type": "markdown",
   "metadata": {
    "cell_id": "e5ffbe55dc9d4803af6f4725b663bfc4",
    "deepnote_cell_type": "markdown"
   },
   "source": [
    "Amplitude\n",
    "\n",
    "- Temos uma amplitude de dados variando de 0 a 100."
   ]
  },
  {
   "cell_type": "code",
   "execution_count": null,
   "metadata": {},
   "outputs": [],
   "source": [
    "_= games_df['metascore'].plot.box(vert= False)"
   ]
  },
  {
   "attachments": {},
   "cell_type": "markdown",
   "metadata": {},
   "source": [
    "metascore apresentam muitos outliers a esquerda (valores baixos)\n",
    "e mais da metade dos jogos está avaliado no intervalo de 60 a 80."
   ]
  },
  {
   "attachments": {},
   "cell_type": "markdown",
   "metadata": {},
   "source": [
    "### Análise Bivariada"
   ]
  },
  {
   "attachments": {},
   "cell_type": "markdown",
   "metadata": {
    "cell_id": "aa45a473366942e1894a96ec648b6239",
    "deepnote_cell_type": "markdown"
   },
   "source": [
    "#### Correlação entre as variáveis"
   ]
  },
  {
   "cell_type": "code",
   "execution_count": null,
   "metadata": {
    "cell_id": "1e659ebdd4554245ad3952fd3e14e4e5",
    "deepnote_cell_type": "code",
    "deepnote_to_be_reexecuted": false,
    "execution_millis": 28,
    "execution_start": 1679965965900,
    "source_hash": "1840cc72"
   },
   "outputs": [],
   "source": [
    "# Criando matriz de correlações:\n",
    "\n",
    "correlation_matrix = games_df.select_dtypes(include=[np.number]).corr()\n",
    "\n",
    "correlation_matrix"
   ]
  },
  {
   "cell_type": "code",
   "execution_count": null,
   "metadata": {
    "cell_id": "b623c55e83b44b7aab21b3e1a2ec6674",
    "deepnote_cell_type": "code",
    "deepnote_to_be_reexecuted": false,
    "execution_millis": 458,
    "execution_start": 1679966470920,
    "source_hash": "6a5995e6"
   },
   "outputs": [],
   "source": [
    "# Selecionando as colunas relevantes (excluindo 'sort_no')\n",
    "cols = [col for col in games_df.columns if col != 'sort_no']\n",
    "subset_df = games_df[cols]\n",
    "\n",
    "# Calculando a matriz de correlação\n",
    "correlation_matrix = subset_df.corr()\n",
    "\n",
    "# Criando o Heatmap:\n",
    "fig, ax = plt.subplots(figsize=(16, 6))\n",
    "\n",
    "ax = sns.heatmap(correlation_matrix, \n",
    "                 vmin=-1, \n",
    "                 vmax=1, \n",
    "                 annot=True, \n",
    "                 linewidths=1, \n",
    "                 cmap='coolwarm')\n",
    "\n",
    "# Formatação:\n",
    "plt.title('Correlações de Variáveis', fontdict={'size': 18, 'weight': 'bold'}, pad=16)\n",
    "\n",
    "plt.show()"
   ]
  },
  {
   "cell_type": "markdown",
   "metadata": {
    "cell_id": "b483ff7c94e24169b6565ab24331cec8",
    "deepnote_cell_type": "markdown"
   },
   "source": [
    "<font color='#039c0b'>**Correlação igual a 1**</font>\n",
    "\n",
    "- Correlação positiva perfeita. Quando o valor de uma variável X aumenta, o valor de outra variável Y também aumenta.\n",
    "\n",
    "<font color='#039c0b'>**Correlação acima de 0**</font>\n",
    "\n",
    "- Correlação positiva. Quando o valor de uma variável X aumenta, o valor de outra variável Y tende a aumentar, porém essa regra não é absoluta, tendo valores da variável Y que não se alteram ou diminuem.\n",
    "\n",
    "**Correlação igual a 0**\n",
    "\n",
    "- Não existe correlação entre as duas variáveis.\n",
    "\n",
    "<font color='#a80505'>**Correlação menor que 0**</font>\n",
    "\n",
    "- Correlação negativa. Quando o valor de uma variável X aumenta, o valor de outra variável Y tende a diminuir, porém essa regra não é absoluta, tendo valores da variável Y que não se alteram ou aumentam.\n",
    "\n",
    "<font color='#a80505'>**Correlação igual a -1**</font>\n",
    "\n",
    "- Correlação neagtiva perfeita. Quando o valor de uma variável X aumenta, o valor de outra variável Y diminui."
   ]
  },
  {
   "attachments": {},
   "cell_type": "markdown",
   "metadata": {},
   "source": [
    "#### user_score e metascore"
   ]
  },
  {
   "cell_type": "code",
   "execution_count": null,
   "metadata": {},
   "outputs": [],
   "source": [
    "def scale_scores(row : pd.DataFrame) -> pd.DataFrame:\n",
    "    row['metascore'] /= 100\n",
    "    row['user_score'] /= 10\n",
    "    return row\n",
    "\n",
    "_= sns.violinplot( games_df[['user_score', 'metascore']].apply(scale_scores, axis= 1) )"
   ]
  },
  {
   "cell_type": "code",
   "execution_count": null,
   "metadata": {},
   "outputs": [],
   "source": []
  },
  {
   "cell_type": "code",
   "execution_count": null,
   "metadata": {},
   "outputs": [],
   "source": []
  }
 ],
 "metadata": {
  "kernelspec": {
   "display_name": "Python 3 (ipykernel)",
   "language": "python",
   "name": "python3"
  },
  "language_info": {
   "codemirror_mode": {
    "name": "ipython",
    "version": 3
   },
   "file_extension": ".py",
   "mimetype": "text/x-python",
   "name": "python",
   "nbconvert_exporter": "python",
   "pygments_lexer": "ipython3",
   "version": "3.9.6"
  }
 },
 "nbformat": 4,
 "nbformat_minor": 2
}
