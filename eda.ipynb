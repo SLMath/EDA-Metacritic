{
 "cells": [
  {
   "attachments": {},
   "cell_type": "markdown",
   "metadata": {},
   "source": [
    "# Importanto Bibliotecas & Definindo Constantes"
   ]
  },
  {
   "cell_type": "code",
   "execution_count": null,
   "metadata": {},
   "outputs": [],
   "source": [
    "from typing import Dict, List\n",
    "import os\n",
    "import re\n",
    "from collections import Counter\n",
    "\n",
    "import numpy as np\n",
    "import pandas as pd\n",
    "\n",
    "import matplotlib.pyplot as plt\n",
    "import seaborn as sns\n",
    "import plotly.express as px\n",
    "\n",
    "%matplotlib inline"
   ]
  },
  {
   "cell_type": "code",
   "execution_count": null,
   "metadata": {},
   "outputs": [],
   "source": [
    "DATA_INPUT_FOLDER = 'data'\n",
    "ARCHIVE_FOLDER = 'archive'\n",
    "OUTPUT_FOLDER = 'output'"
   ]
  },
  {
   "attachments": {},
   "cell_type": "markdown",
   "metadata": {},
   "source": [
    "# Importando os Dados"
   ]
  },
  {
   "attachments": {},
   "cell_type": "markdown",
   "metadata": {},
   "source": [
    "Extraídos da base: https://www.kaggle.com/datasets/patkle/metacritic-scores-for-games-movies-tv-and-music\n",
    "\n",
    "Os dados são referentes a notas de jogos, filmes, músicas e séries (de TV) avaliados por usuários e pelo próprio domínio Metacritic."
   ]
  },
  {
   "cell_type": "code",
   "execution_count": null,
   "metadata": {},
   "outputs": [],
   "source": [
    "# Um dicionário contendo os 4 DataFrames, separados \n",
    "df_dict : Dict[ str, pd.DataFrame ] = {}\n",
    "for file_data in os.listdir(DATA_INPUT_FOLDER):\n",
    "    df_dict[file_data[:-4]] = pd.read_csv(\n",
    "        os.path.join( DATA_INPUT_FOLDER, file_data ),\n",
    "        index_col=0,\n",
    "        parse_dates= ['release_date'],\n",
    "        dayfirst= True\n",
    "    )\n",
    "\n",
    "print(df_dict.keys())"
   ]
  },
  {
   "attachments": {},
   "cell_type": "markdown",
   "metadata": {},
   "source": [
    "# Analizando Inicialmente a Base exclusiva de Jogos"
   ]
  },
  {
   "attachments": {},
   "cell_type": "markdown",
   "metadata": {},
   "source": [
    "## Visão Geral"
   ]
  },
  {
   "cell_type": "code",
   "execution_count": null,
   "metadata": {},
   "outputs": [],
   "source": [
    "games_df = df_dict['games']\n",
    "\n",
    "# Observar informações gerais sobre os dados e tipos\n",
    "display(games_df.info())\n",
    "display(games_df.head())"
   ]
  },
  {
   "attachments": {},
   "cell_type": "markdown",
   "metadata": {},
   "source": [
    "O banco apresenta 20022 registros (linhas), com 7 propriedades (colunas):\n",
    "\n",
    "- metascore: nota da plataforma\n",
    "- plataforma\n",
    "- data de lançamento\n",
    "- número de ordenação (não está claro a que se refere)\n",
    "- resumo: descrição breve do jogo\n",
    "- título: nome do jogo\n",
    "- nota dos usuários\n",
    "\n",
    "Podemos verificar que \n",
    "\n",
    "- Há dados nulos (faltando) para o resumo (summary) de alguns registros\n",
    "- Os dados de nota dos usuários (user_score) estão sendo tratados como texto (object) em vez de números (float)"
   ]
  },
  {
   "attachments": {},
   "cell_type": "markdown",
   "metadata": {},
   "source": [
    "## Entendendo o Signifado dos Dados"
   ]
  },
  {
   "cell_type": "markdown",
   "metadata": {},
   "source": [
    "### sort_no"
   ]
  },
  {
   "cell_type": "markdown",
   "metadata": {},
   "source": [
    "Analisar número de ordenação (sort_no), para tentar entendê-lo e descobrir se ele é útil"
   ]
  },
  {
   "cell_type": "code",
   "execution_count": null,
   "metadata": {},
   "outputs": [],
   "source": [
    "# Conferir se é único\n",
    "np.any(games_df['sort_no'].duplicated())"
   ]
  },
  {
   "cell_type": "code",
   "execution_count": null,
   "metadata": {},
   "outputs": [],
   "source": [
    "# Conferir se tem alguma relação com outra coluna, principalmente de notas\n",
    "games_df.sort_values('sort_no')"
   ]
  },
  {
   "cell_type": "code",
   "execution_count": null,
   "metadata": {},
   "outputs": [],
   "source": [
    "# comparar se a ordenação pelo metascore (decrescente) e pelo sort_no (crescente) tem mesmas notas metascore\n",
    "np.all(\n",
    "    games_df.sort_values('metascore', ascending= False, ignore_index= True)['metascore'] == \n",
    "    games_df.sort_values('sort_no', ignore_index= True)['metascore']\n",
    ")"
   ]
  },
  {
   "cell_type": "markdown",
   "metadata": {},
   "source": [
    "Logo concluímos que sort_no é uma ordenação de ranking com base nos maiores metascore"
   ]
  },
  {
   "cell_type": "markdown",
   "metadata": {},
   "source": [
    "## Levantando Hipóteses e Questionamentos"
   ]
  },
  {
   "cell_type": "markdown",
   "metadata": {},
   "source": [
    "1. Qual o top 10 jogos mais bem avaliados pelo site? E pelos usuários?\n",
    "2. Qual a plataforma que mais aparece entre os 100 melhores avaliados pelos usuários?\n",
    "3. As notas dos jogos melhoraram a cada ano? E para cada plataforma ao longo dos anos?\n",
    "4. Tem alguma epoca do ano que apresenta maior sucesso em relação a notas maiores?\n",
    "5. Que palavras mais aparecem nos títulos dos 1000 melhores jogos? E dos 100 piores? E nos resumos?"
   ]
  },
  {
   "attachments": {},
   "cell_type": "markdown",
   "metadata": {},
   "source": [
    "## Limpando dados"
   ]
  },
  {
   "attachments": {},
   "cell_type": "markdown",
   "metadata": {},
   "source": [
    "### user_score"
   ]
  },
  {
   "cell_type": "code",
   "execution_count": null,
   "metadata": {},
   "outputs": [],
   "source": [
    "# tentativa de converter o tipo dos dados de user_score, para ver os valores que falham\n",
    "set_errors = set()\n",
    "for score in games_df['user_score']:\n",
    "    try:\n",
    "        float(score)\n",
    "    except Exception as e:\n",
    "        set_errors.add(str(e))\n",
    "print(set_errors)"
   ]
  },
  {
   "cell_type": "code",
   "execution_count": null,
   "metadata": {},
   "outputs": [],
   "source": [
    "# Entendendo os registros com nota tbd (To Be Determined, traduzido como \"a ser determinado\")\n",
    "display( games_df[ games_df['user_score'] == 'tbd' ].head() )\n",
    "print(f\"Número de registros com nota dos usuários pendente: { np.sum( games_df['user_score'] == 'tbd' ) }\")\n",
    "print(f\"Porcentagem de registros com nota dos usuários pendente: { np.sum( games_df['user_score'] == 'tbd' ) / len( games_df ) :0.1%}\")"
   ]
  },
  {
   "attachments": {},
   "cell_type": "markdown",
   "metadata": {},
   "source": [
    "Uma possível explicação para esse valor é de que esse número é uma média e ainda não tiveram avaliações de usuários o suficiente para computar uma média adequada.\n",
    "\n",
    "Podemos adotar algumas abordagens:\n",
    "\n",
    "- substituir os valores pela média geral\n",
    "- separar em grupos de acordo com algum critério e substituir os valores pelas médias de cada grupo \n",
    "    - mesmo metascore\n",
    "    - mesma plataforma\n",
    "    - mesmo metascore e plataforma\n",
    "- substituir os valores usando técnicas que mantenham a distribuição dos dados válidos\n",
    "    - bfill (backward fill) : substituir pela proxima observacao\n",
    "    - ffill (forward fill) : substituir pela observacao anterior\n",
    "- excluir linhas\n",
    "\n",
    "Como esses dados representam 7% dos valores, não desejo excluí-los, então tentarei uma média de acordo o agrupamento pela plataforma"
   ]
  },
  {
   "cell_type": "code",
   "execution_count": null,
   "metadata": {},
   "outputs": [],
   "source": [
    "# para comparação\n",
    "games_df['user_score_raw'] = games_df['user_score']\n",
    "\n",
    "# Transformar a coluna em float, e os valores faltantes em NaN para poder computar a média\n",
    "games_df['user_score'] = games_df['user_score'].replace('tbd', np.nan).astype(float)\n",
    "\n",
    "# Criar uma cópia do dataframe, para alterar o user_score somente na cópia\n",
    "games_df['user_score'] = games_df['user_score'].fillna(\n",
    "    games_df.groupby('platform')['user_score'].transform('mean')\n",
    ")\n",
    "\n",
    "display( games_df[['user_score', 'user_score_raw']].head() )\n",
    "display( games_df[games_df['user_score_raw'] == 'tbd'][['platform', 'user_score', 'user_score_raw']].head(10) )\n",
    "\n",
    "games_df = games_df.drop(columns= 'user_score_raw')"
   ]
  },
  {
   "cell_type": "code",
   "execution_count": null,
   "metadata": {},
   "outputs": [],
   "source": [
    "display(games_df.info())"
   ]
  },
  {
   "attachments": {},
   "cell_type": "markdown",
   "metadata": {},
   "source": [
    "### summary"
   ]
  },
  {
   "cell_type": "code",
   "execution_count": null,
   "metadata": {},
   "outputs": [],
   "source": [
    "print('número de resumos faltantes:', games_df['summary'].isna().sum() )\n",
    "display( games_df[games_df['summary'].isna()].head() )"
   ]
  },
  {
   "attachments": {},
   "cell_type": "markdown",
   "metadata": {},
   "source": [
    "Parece ser um caso de dados não coletados, pois a falta de um texto no csv gera um NaN\n",
    "\n",
    "Podemos adotar algumas abordagens:\n",
    "\n",
    "- procurar os dados na internet e preencher manualmente\n",
    "- substituir por um valor padrão\n",
    "- deixar como está\n",
    "- excluir linhas\n",
    "\n",
    "Como é uma descrição do jogo, não há necessidade em perder os outros dados por conta dele.\n",
    "\n",
    "Substituirei os valores por uma string vazia, assim como está em games.csv"
   ]
  },
  {
   "cell_type": "code",
   "execution_count": null,
   "metadata": {},
   "outputs": [],
   "source": [
    "games_df['summary'] = games_df['summary'].fillna('')\n",
    "games_df['summary'].isna().sum()"
   ]
  },
  {
   "attachments": {},
   "cell_type": "markdown",
   "metadata": {},
   "source": [
    "## Funcoes auxiliares"
   ]
  },
  {
   "attachments": {},
   "cell_type": "markdown",
   "metadata": {},
   "source": [
    "Com objetivo de estudar palavras presentes na descrição e título, criarei uma função que realiza a extração das palavras"
   ]
  },
  {
   "cell_type": "code",
   "execution_count": null,
   "metadata": {},
   "outputs": [],
   "source": [
    "def extract_words(texto : str) -> List[str]:\n",
    "    return re.findall('\\w+', texto)\n",
    "\n",
    "extract_words('Injustice 2: Legendary Edition')"
   ]
  },
  {
   "cell_type": "code",
   "execution_count": null,
   "metadata": {},
   "outputs": [],
   "source": [
    "def count_words(serie_texto : pd.Series) -> Dict[str, int]:\n",
    "    '''\n",
    "    It counts the number of text elements from the input series which contain a certain word\n",
    "    @input:\n",
    "        - serie_texto: a string-type pd.Series\n",
    "    @output:\n",
    "        A dict where each key is a word and the value its count as described\n",
    "    '''\n",
    "    word_counter = Counter()\n",
    "    for texto in serie_texto:\n",
    "        word_counter.update( Counter( set( extract_words(texto) ) ) )\n",
    "    return word_counter\n",
    "\n",
    "count_words(pd.Series(['Injustice 2: Legendary Edition', 'Injustice 2: Legendary Edition', 'Mini Metro']))"
   ]
  },
  {
   "attachments": {},
   "cell_type": "markdown",
   "metadata": {},
   "source": [
    "## EDA"
   ]
  },
  {
   "attachments": {},
   "cell_type": "markdown",
   "metadata": {},
   "source": [
    "### Análise Univariada"
   ]
  },
  {
   "attachments": {},
   "cell_type": "markdown",
   "metadata": {},
   "source": [
    "#### metascore"
   ]
  }
 ],
 "metadata": {
  "kernelspec": {
   "display_name": "Python 3",
   "language": "python",
   "name": "python3"
  },
  "language_info": {
   "codemirror_mode": {
    "name": "ipython",
    "version": 3
   },
   "file_extension": ".py",
   "mimetype": "text/x-python",
   "name": "python",
   "nbconvert_exporter": "python",
   "pygments_lexer": "ipython3",
   "version": "3.9.6"
  },
  "orig_nbformat": 4
 },
 "nbformat": 4,
 "nbformat_minor": 2
}
