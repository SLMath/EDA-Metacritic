{
    "cells": [
        {
            "cell_type": "markdown",
            "metadata": {
                "cell_id": "8e6da50302794788b06c5b96c23fe10c",
                "deepnote_cell_type": "markdown"
            },
            "source": [
                "# Importanto Bibliotecas & Definindo Constantes"
            ]
        },
        {
            "cell_type": "code",
            "execution_count": null,
            "metadata": {
                "cell_id": "8b0a4257c57e42b6a4591248605b49cc",
                "deepnote_cell_type": "code",
                "deepnote_to_be_reexecuted": false,
                "execution_millis": 1063,
                "execution_start": 1680179954016,
                "source_hash": "8fad4f9a"
            },
            "outputs": [],
            "source": [
                "from typing import Dict, List\n",
                "import os\n",
                "import re\n",
                "from collections import Counter\n",
                "\n",
                "import numpy as np\n",
                "import pandas as pd\n",
                "\n",
                "import matplotlib.pyplot as plt\n",
                "import seaborn as sns\n",
                "import plotly.express as px\n",
                "\n",
                "%matplotlib inline"
            ]
        },
        {
            "cell_type": "code",
            "execution_count": null,
            "metadata": {
                "cell_id": "995f9559e08b4a669ae816b35023c354",
                "deepnote_cell_type": "code",
                "deepnote_to_be_reexecuted": false,
                "execution_millis": 3,
                "execution_start": 1680179955081,
                "source_hash": "4aaecd99"
            },
            "outputs": [],
            "source": [
                "DATA_INPUT_FOLDER = 'data'\n",
                "ARCHIVE_FOLDER = 'archive'\n",
                "OUTPUT_FOLDER = 'output'"
            ]
        },
        {
            "cell_type": "markdown",
            "metadata": {
                "cell_id": "fd652339dc014b208b5dc138570acb66",
                "deepnote_cell_type": "markdown"
            },
            "source": [
                "# Importando os Dados"
            ]
        },
        {
            "cell_type": "markdown",
            "metadata": {
                "cell_id": "6bd3e135e4e94bd68b63075f55f568a9",
                "deepnote_cell_type": "markdown"
            },
            "source": [
                "Extraídos da base: https://www.kaggle.com/datasets/patkle/metacritic-scores-for-games-movies-tv-and-music\n",
                "\n",
                "Os dados são referentes a notas de jogos, filmes, músicas e séries (de TV) avaliados por usuários e pelo próprio domínio Metacritic."
            ]
        },
        {
            "cell_type": "code",
            "execution_count": null,
            "metadata": {
                "cell_id": "108b52450e52441fab9204ea2ef3852d",
                "deepnote_cell_type": "code",
                "deepnote_to_be_reexecuted": false,
                "execution_millis": 3000,
                "execution_start": 1680179955085,
                "source_hash": "3b3b0c79"
            },
            "outputs": [],
            "source": [
                "# Um dicionário contendo os 4 DataFrames, separados \n",
                "df_dict : Dict[ str, pd.DataFrame ] = {}\n",
                "for file_data in os.listdir(DATA_INPUT_FOLDER):\n",
                "    df_dict[file_data[:-4]] = pd.read_csv(\n",
                "        os.path.join( DATA_INPUT_FOLDER, file_data ),\n",
                "        index_col=0,\n",
                "        parse_dates= ['release_date'],\n",
                "        dayfirst= True\n",
                "    )\n",
                "\n",
                "print(df_dict.keys())"
            ]
        },
        {
            "cell_type": "markdown",
            "metadata": {
                "cell_id": "1f22d3cf9b3d467689fb705b53168dcb",
                "deepnote_cell_type": "markdown"
            },
            "source": [
                "# Analizando Inicialmente a Base exclusiva de Jogos"
            ]
        },
        {
            "cell_type": "markdown",
            "metadata": {
                "cell_id": "0c121b7988e7475daaca6a830ecc15d2",
                "deepnote_cell_type": "markdown"
            },
            "source": [
                "## Visão Geral"
            ]
        },
        {
            "cell_type": "code",
            "execution_count": null,
            "metadata": {
                "cell_id": "7828b614af9946c1bd961a6c5c3ef838",
                "deepnote_cell_type": "code",
                "deepnote_to_be_reexecuted": false,
                "execution_millis": 44,
                "execution_start": 1680179958084,
                "source_hash": "9a7ca870"
            },
            "outputs": [],
            "source": [
                "games_df = df_dict['games']\n",
                "\n",
                "# Observar informações gerais sobre os dados e tipos\n",
                "display(games_df.info())\n",
                "display(games_df.head())"
            ]
        },
        {
            "cell_type": "markdown",
            "metadata": {
                "cell_id": "e30158fdac5d420b832432ffd3442f41",
                "deepnote_cell_type": "markdown"
            },
            "source": [
                "O banco apresenta 20022 registros (linhas), com 7 propriedades (colunas):\n",
                "\n",
                "- metascore: nota da plataforma\n",
                "- plataforma\n",
                "- data de lançamento\n",
                "- número de ordenação (não está claro a que se refere)\n",
                "- resumo: descrição breve do jogo\n",
                "- título: nome do jogo\n",
                "- nota dos usuários\n",
                "\n",
                "Podemos verificar que \n",
                "\n",
                "- metascore é de 0 a 100 e está ocupando espaco de um int 64\n",
                "- Há dados nulos (faltando) para o resumo (summary) de alguns registros\n",
                "- Os dados de nota dos usuários (user_score) estão sendo tratados como texto (object) em vez de números (float)"
            ]
        },
        {
            "cell_type": "markdown",
            "metadata": {
                "cell_id": "bf718fbbb3e84a4b8b5b0d1357c86a70",
                "deepnote_cell_type": "markdown"
            },
            "source": [
                "## Entendendo o Significado dos Dados"
            ]
        },
        {
            "cell_type": "markdown",
            "metadata": {
                "cell_id": "cdd86058a97a4670ab751801cd7ea3d0",
                "deepnote_cell_type": "markdown"
            },
            "source": [
                "### sort_no"
            ]
        },
        {
            "cell_type": "markdown",
            "metadata": {
                "cell_id": "49985d17d2bd4842a8f9f9dcfaf8487a",
                "deepnote_cell_type": "markdown"
            },
            "source": [
                "Analisar número de ordenação (sort_no), para tentar entendê-lo e descobrir se ele é útil"
            ]
        },
        {
            "cell_type": "code",
            "execution_count": null,
            "metadata": {
                "cell_id": "fbdda86fcb2d48409f5c2b5c25bdddd1",
                "deepnote_cell_type": "code",
                "deepnote_to_be_reexecuted": false,
                "execution_millis": 3,
                "execution_start": 1680179958130,
                "source_hash": "8119465d"
            },
            "outputs": [],
            "source": [
                "# Conferir se é único\n",
                "np.any(games_df['sort_no'].duplicated())"
            ]
        },
        {
            "cell_type": "code",
            "execution_count": null,
            "metadata": {
                "cell_id": "6f32e4b2991549d69c3ab364b0574b19",
                "deepnote_cell_type": "code",
                "deepnote_to_be_reexecuted": false,
                "execution_millis": 137,
                "execution_start": 1680179958134,
                "source_hash": "f2094e94"
            },
            "outputs": [],
            "source": [
                "# Conferir se tem alguma relação com outra coluna, principalmente de notas\n",
                "games_df.sort_values('sort_no')"
            ]
        },
        {
            "cell_type": "code",
            "execution_count": null,
            "metadata": {
                "cell_id": "54f7d2327d514cf6aeb9c7677f4643e5",
                "deepnote_cell_type": "code",
                "deepnote_to_be_reexecuted": false,
                "execution_millis": 7,
                "execution_start": 1680179958275,
                "source_hash": "919eaf47"
            },
            "outputs": [],
            "source": [
                "# comparar se a ordenação pelo metascore (decrescente) e pelo sort_no (crescente) tem mesmas notas metascore\n",
                "np.all(\n",
                "    games_df.sort_values('metascore', ascending= False, ignore_index= True)['metascore'] == \n",
                "    games_df.sort_values('sort_no', ignore_index= True)['metascore']\n",
                ")"
            ]
        },
        {
            "cell_type": "markdown",
            "metadata": {
                "cell_id": "2d2315aa54a74c49952817f914e6ff66",
                "deepnote_cell_type": "markdown"
            },
            "source": [
                "Logo concluímos que sort_no é uma ordenação de ranking com base nos maiores metascore"
            ]
        },
        {
            "cell_type": "markdown",
            "metadata": {
                "cell_id": "e2664dbfd4cd4f5ea70b0c825c04aa53",
                "deepnote_cell_type": "markdown"
            },
            "source": [
                "## Levantando Hipóteses e Questionamentos"
            ]
        },
        {
            "cell_type": "markdown",
            "metadata": {
                "cell_id": "b22a219a3c2541c88af268e9d6e93a38",
                "deepnote_cell_type": "markdown"
            },
            "source": [
                "1. Qual o top 10 jogos mais bem avaliados pelo site? E pelos usuários?\n",
                "2. Qual a plataforma que mais aparece entre os 100 melhores avaliados pelos usuários?\n",
                "3. As notas dos jogos melhoraram a cada ano? E para cada plataforma ao longo dos anos?\n",
                "4. Tem alguma epoca do ano que apresenta maior sucesso em relação a notas maiores?\n",
                "5. Que palavras mais aparecem nos títulos dos 1000 melhores jogos? E dos 100 piores? E nos resumos?\n",
                "6. Histograma - Distribuição de Lançamento de Jogos por Ano\n",
                "7. Histograma - Distribuição de Lançamento de Jogos por Mês\n",
                "8. Histograma - Distribuição da avaliação dos usuários\n",
                "9. Histograma - Distribuição da avaliação do Metacritic\n",
                "10. Heatmap - Correlação entre as variáveis\n",
                "11. Qual o número de games produzidos para cada plataforma do Dataset? Esses valores indicam qual porcentagem do total?\n",
                "12. Comparativo: PlayStation 4 e PlayStation 5\n",
                "13. Games Disponíveis por Mês por 7 anos (PS4 e Previsão PS5)\n",
                "14. Qual a proporção de cada tipo de classificação atribuída aos games? Qual a porcentagem do total de cada uma?\n",
                "15. Distribuição de Classificações Metacritic\n",
                "16. Quais são os top 10 games mais bem avaliados pelos usuários e pelo metacritic? Eles são muito diferentes?\n",
                "17. Quais são os bottom 10 games pior avaliados pelos usuários e pelo metacritic? Eles são muito diferentes?"
            ]
        },
        {
            "cell_type": "markdown",
            "metadata": {
                "cell_id": "a16521f047f54bf69904662fe8a266ef",
                "deepnote_cell_type": "markdown"
            },
            "source": [
                "## Limpando dados"
            ]
        },
        {
            "cell_type": "markdown",
            "metadata": {
                "cell_id": "72d0f83bfef54e399a2e2b4b8834ae26",
                "deepnote_cell_type": "markdown"
            },
            "source": [
                "### metascore (número de bytes)"
            ]
        },
        {
            "cell_type": "code",
            "execution_count": null,
            "metadata": {
                "cell_id": "b9ea3f71433a40e28b172e2dec049bb4",
                "deepnote_cell_type": "code",
                "deepnote_to_be_reexecuted": false,
                "execution_millis": 5,
                "execution_start": 1680179958285,
                "source_hash": "a4a389ee"
            },
            "outputs": [],
            "source": [
                "# int 8 vai até 128, contemplando todos os valores\n",
                "games_df = ( games_df.astype({'metascore': 'int8'}) )"
            ]
        },
        {
            "cell_type": "markdown",
            "metadata": {
                "cell_id": "fb5b4b5070ee487da901a08326e6f059",
                "deepnote_cell_type": "markdown"
            },
            "source": [
                "### user_score"
            ]
        },
        {
            "cell_type": "code",
            "execution_count": null,
            "metadata": {
                "cell_id": "3693e5a7ea794c00ad92394e51a9c5a0",
                "deepnote_cell_type": "code",
                "deepnote_to_be_reexecuted": false,
                "execution_millis": 2,
                "execution_start": 1680179958332,
                "source_hash": "a49949f3"
            },
            "outputs": [],
            "source": [
                "# tentativa de converter o tipo dos dados de user_score, para ver os valores que falham\n",
                "set_errors = set()\n",
                "for score in games_df['user_score']:\n",
                "    try:\n",
                "        float(score)\n",
                "    except Exception as e:\n",
                "        set_errors.add(str(e))\n",
                "print(set_errors)"
            ]
        },
        {
            "cell_type": "code",
            "execution_count": null,
            "metadata": {
                "cell_id": "5f7b0f08d546491f9247cf8b51b2d4b1",
                "deepnote_cell_type": "code",
                "deepnote_to_be_reexecuted": false,
                "execution_millis": 11,
                "execution_start": 1680179958333,
                "source_hash": "9cb25c8b"
            },
            "outputs": [],
            "source": [
                "# Entendendo os registros com nota tbd (To Be Determined, traduzido como \"a ser determinado\")\n",
                "display( games_df[ games_df['user_score'] == 'tbd' ].head() )\n",
                "print(f\"Número de registros com nota dos usuários pendente: { np.sum( games_df['user_score'] == 'tbd' ) }\")\n",
                "print(f\"Porcentagem de registros com nota dos usuários pendente: { np.sum( games_df['user_score'] == 'tbd' ) / len( games_df ) :0.1%}\")"
            ]
        },
        {
            "cell_type": "markdown",
            "metadata": {
                "cell_id": "a015d4713af04a809182e197176527a1",
                "deepnote_cell_type": "markdown"
            },
            "source": [
                "Uma possível explicação para esse valor é de que esse número é uma média e ainda não tiveram avaliações de usuários o suficiente para computar uma média adequada.\n",
                "\n",
                "Podemos adotar algumas abordagens:\n",
                "\n",
                "- substituir os valores pela média geral\n",
                "- separar em grupos de acordo com algum critério e substituir os valores pelas médias de cada grupo \n",
                "    - mesmo metascore\n",
                "    - mesma plataforma\n",
                "    - mesmo metascore e plataforma\n",
                "- substituir os valores usando técnicas que mantenham a distribuição dos dados válidos\n",
                "    - bfill (backward fill) : substituir pela proxima observacao\n",
                "    - ffill (forward fill) : substituir pela observacao anterior\n",
                "- excluir linhas\n",
                "\n",
                "Como esses dados representam 7% dos valores, não desejo excluí-los, então tentarei uma média de acordo o agrupamento pela plataforma"
            ]
        },
        {
            "cell_type": "code",
            "execution_count": null,
            "metadata": {
                "cell_id": "1425211bfce74ed4a6c06f52a96eee3f",
                "deepnote_cell_type": "code",
                "deepnote_to_be_reexecuted": false,
                "execution_millis": 31,
                "execution_start": 1680179958350,
                "source_hash": "fda9c10f"
            },
            "outputs": [],
            "source": [
                "# para comparação\n",
                "games_df['user_score_raw'] = games_df['user_score']\n",
                "\n",
                "# Transformar a coluna em float, e os valores faltantes em NaN para poder computar a média\n",
                "games_df['user_score'] = games_df['user_score'].replace('tbd', np.nan).astype(float)\n",
                "\n",
                "# Criar uma cópia do dataframe, para alterar o user_score somente na cópia\n",
                "games_df['user_score'] = games_df['user_score'].fillna(\n",
                "    games_df.groupby('platform')['user_score'].transform('mean')\n",
                ")\n",
                "\n",
                "display( games_df[['user_score', 'user_score_raw']].head() )\n",
                "display( games_df[games_df['user_score_raw'] == 'tbd'][['platform', 'user_score', 'user_score_raw']].head(10) )\n",
                "\n",
                "games_df = games_df.drop(columns= 'user_score_raw')"
            ]
        },
        {
            "cell_type": "markdown",
            "metadata": {
                "cell_id": "3e705f55d66e417da0b6ed0ba063457b",
                "deepnote_cell_type": "markdown"
            },
            "source": [
                "### summary"
            ]
        },
        {
            "cell_type": "code",
            "execution_count": null,
            "metadata": {
                "cell_id": "7baed29789454d43ad869fc1e2c1f283",
                "deepnote_cell_type": "code",
                "deepnote_to_be_reexecuted": false,
                "execution_millis": 4,
                "execution_start": 1680179958426,
                "source_hash": "f6edf4c4"
            },
            "outputs": [],
            "source": [
                "print('número de resumos faltantes:', games_df['summary'].isna().sum() )\n",
                "display( games_df[games_df['summary'].isna()].head() )"
            ]
        },
        {
            "cell_type": "markdown",
            "metadata": {
                "cell_id": "0ed5cd22bd0c4874b911d618b1b91286",
                "deepnote_cell_type": "markdown"
            },
            "source": [
                "Parece ser um caso de dados não coletados, pois a falta de um texto no csv gera um NaN\n",
                "\n",
                "Podemos adotar algumas abordagens:\n",
                "\n",
                "- procurar os dados na internet e preencher manualmente\n",
                "- substituir por um valor padrão\n",
                "- deixar como está\n",
                "- excluir linhas\n",
                "\n",
                "Como é uma descrição do jogo, não há necessidade em perder os outros dados por conta dele.\n",
                "\n",
                "Substituirei os valores por uma string vazia, assim como está em games.csv"
            ]
        },
        {
            "cell_type": "code",
            "execution_count": null,
            "metadata": {
                "cell_id": "4e7449d4e29f4c3da345e0d302e586c1",
                "deepnote_cell_type": "code",
                "deepnote_to_be_reexecuted": false,
                "execution_millis": 8,
                "execution_start": 1680179958433,
                "source_hash": "6dd066b6"
            },
            "outputs": [],
            "source": [
                "games_df['summary'] = games_df['summary'].fillna('')\n",
                "games_df['summary'].isna().sum()"
            ]
        },
        {
            "cell_type": "markdown",
            "metadata": {
                "cell_id": "cd1eea5049294e6ca6a99203e045e79c",
                "deepnote_cell_type": "markdown"
            },
            "source": [
                "## Criando Novas Variáveis"
            ]
        },
        {
            "cell_type": "markdown",
            "metadata": {
                "cell_id": "8adb31dfc4da449cb58703e45968367f",
                "deepnote_cell_type": "markdown"
            },
            "source": [
                "### Trimestre de Lançamento"
            ]
        },
        {
            "cell_type": "markdown",
            "metadata": {
                "cell_id": "f387b31b493b49f09bcd3a5c072cf730",
                "deepnote_cell_type": "markdown"
            },
            "source": [
                "Como forma de expandir nossas possibilidades de análise, vamos inserir nos dados uma nova variável que informa qual o trimestre do ano em que o Jogo foi lançado."
            ]
        },
        {
            "cell_type": "code",
            "execution_count": null,
            "metadata": {
                "cell_id": "ff487d223dbc44209adc8884a5c6988b",
                "deepnote_cell_type": "code",
                "deepnote_to_be_reexecuted": false,
                "execution_millis": 7,
                "execution_start": 1680179958442,
                "source_hash": "b041a7d"
            },
            "outputs": [],
            "source": [
                "def set_year_quarter(data: pd.DataFrame) -> pd.DataFrame:\n",
                "    '''Retorna uma nova variável que informa o trimestre do ano em que\n",
                "    o jogo foi lançado. Essa definição de trimestre se baseia no mês de lançamento\n",
                "    da coluna release_date.\n",
                "    \n",
                "    PARÂMETROS:\n",
                "    \n",
                "        data > DataFrame para se aplicar a alteração.\n",
                "    '''\n",
                "    data['release_quarter'] = data['release_date'].apply(\n",
                "        lambda value:\n",
                "            'Q1' if value.month in [1, 2, 3] else\n",
                "            'Q2' if value.month in [4, 5, 6] else\n",
                "            'Q3' if value.month in [7, 8, 9] else\n",
                "            'Q4' if value.month in [10, 11, 12] else\n",
                "            value\n",
                "            )\n",
                "    \n",
                "    return data"
            ]
        },
        {
            "cell_type": "code",
            "execution_count": null,
            "metadata": {
                "cell_id": "4de8bb1006ba4432a9b6e5a3c57f3af4",
                "deepnote_cell_type": "code",
                "deepnote_to_be_reexecuted": false,
                "execution_millis": 122,
                "execution_start": 1680179958446,
                "source_hash": "3819654b"
            },
            "outputs": [],
            "source": [
                "# Aplicando função:\n",
                "games_df = set_year_quarter(games_df)\n",
                "\n",
                "# Checando resultado:\n",
                "games_df.sample(10)"
            ]
        },
        {
            "cell_type": "markdown",
            "metadata": {
                "cell_id": "9f2d5517f66c4562b1fec1d6c6b0b6f7",
                "deepnote_cell_type": "markdown"
            },
            "source": [
                "### Subdivisões da Variável release_date"
            ]
        },
        {
            "cell_type": "markdown",
            "metadata": {
                "cell_id": "ebe5399895384ab49dbe7b6fd73fa3d6",
                "deepnote_cell_type": "markdown"
            },
            "source": [
                "Com a nova variável de trimestre de lançamento criada, vamos retornar as atenções a variável 'release_date' e utilizá-la para criar três variáveis distintas que informam apenas o dia, mês e ano do lançamento."
            ]
        },
        {
            "cell_type": "markdown",
            "metadata": {
                "cell_id": "2d28de9244194fbaa82d046002c52034",
                "deepnote_cell_type": "markdown"
            },
            "source": [
                "Essa divisão da variável 'release_date' será feita para facilitar a criação de plots na etapa de análises."
            ]
        },
        {
            "cell_type": "markdown",
            "metadata": {
                "cell_id": "d5084a22f0f64a56871d4b2555e1cedf",
                "deepnote_cell_type": "markdown"
            },
            "source": [
                "- Criando variável 'release_day':"
            ]
        },
        {
            "cell_type": "code",
            "execution_count": null,
            "metadata": {
                "cell_id": "c731a1c6621c4c93866d7ae2d3675404",
                "deepnote_cell_type": "code",
                "deepnote_to_be_reexecuted": false,
                "execution_millis": 12,
                "execution_start": 1680179958571,
                "source_hash": "b1f9cbc3"
            },
            "outputs": [],
            "source": [
                "# Criando nova variável:\n",
                "games_df['release_day'] = games_df['release_date'].dt.day"
            ]
        },
        {
            "cell_type": "markdown",
            "metadata": {
                "cell_id": "42ba36bc678d4874b30f2b8c2f3dc28c",
                "deepnote_cell_type": "markdown"
            },
            "source": [
                "- Criando variável 'release_month':"
            ]
        },
        {
            "cell_type": "code",
            "execution_count": null,
            "metadata": {
                "cell_id": "897c6af689fb4e058f7ac4a4b38b0828",
                "deepnote_cell_type": "code",
                "deepnote_to_be_reexecuted": false,
                "execution_millis": 7,
                "execution_start": 1680179958576,
                "source_hash": "fa3d957b"
            },
            "outputs": [],
            "source": [
                "games_df['release_month'] = games_df['release_date'].dt.month"
            ]
        },
        {
            "cell_type": "markdown",
            "metadata": {
                "cell_id": "6d4b57f916db4cd8bbc6d106e08d79e3",
                "deepnote_cell_type": "markdown"
            },
            "source": [
                "- Criando variável 'release_year':"
            ]
        },
        {
            "cell_type": "code",
            "execution_count": null,
            "metadata": {
                "cell_id": "27e436f630594327af57ba62dfdb41ca",
                "deepnote_cell_type": "code",
                "deepnote_to_be_reexecuted": false,
                "execution_millis": 8,
                "execution_start": 1680179958579,
                "source_hash": "4b6d92c5"
            },
            "outputs": [],
            "source": [
                "# Criando nova variável:\n",
                "games_df['release_year'] = games_df['release_date'].dt.year"
            ]
        },
        {
            "cell_type": "code",
            "execution_count": null,
            "metadata": {
                "cell_id": "eefdd80b8a2b4aafa2f87fa7b0d4e55c",
                "deepnote_cell_type": "code",
                "deepnote_to_be_reexecuted": false,
                "execution_millis": 48,
                "execution_start": 1680179958585,
                "source_hash": "707c428e"
            },
            "outputs": [],
            "source": [
                "games_df.head(5)"
            ]
        },
        {
            "cell_type": "markdown",
            "metadata": {
                "cell_id": "767fc1f7e2484902be10bc50f3a22ad5",
                "deepnote_cell_type": "markdown"
            },
            "source": [
                "### Metascore_class"
            ]
        },
        {
            "cell_type": "markdown",
            "metadata": {
                "cell_id": "5d4cd483b1784be98d7454e0cb8c0dc9",
                "deepnote_cell_type": "markdown"
            },
            "source": [
                "Essa variável tem como objetivo abrigar a classificação dos valores do Metascore. De acordo com um [FAQ do próprio site](https://www.metacritic.com/about-metascores), para cada range de notas temos uma classificação geral atribuída a ele como ilustrado na imagem abaixo retirada diretamente do FAQ:\n",
                "\n",
                "<img src=\"https://raw.githubusercontent.com/JoSEPHDev2022/Metacritc_Scores_Video_Games/main/images/metascore_classification.png\" width=700 height=350>\n",
                "\n",
                "https://www.metacritic.com/about-metascores"
            ]
        },
        {
            "cell_type": "code",
            "execution_count": null,
            "metadata": {
                "cell_id": "30607b614c054500ad10eea5eda7d74b",
                "deepnote_cell_type": "code",
                "deepnote_to_be_reexecuted": false,
                "execution_millis": 4,
                "execution_start": 1680179958637,
                "source_hash": "ccf0972b"
            },
            "outputs": [],
            "source": [
                "def set_metascore_class(data: pd.DataFrame) -> pd.DataFrame:\n",
                "    '''Retorna uma nova variável que consta a classificação do Jogo\n",
                "    com base em sua nota. Essas classificações são:\n",
                "    \n",
                "        - \"Universal Acclaim\" para games com notas entre 90 e 100;\n",
                "        - \"Generally Favorable Reviews\" para games com notas entre 75 e 89;\n",
                "        - \"Mixed or Average Reviews\" para games com notas entre 50 e 74;\n",
                "        - \"Generally Unfavorable Reviews\" para games com notas entre 20 e 49;\n",
                "        - \"Overwhelming Dislike\" para games com notas entre 0 e 19.\n",
                "\n",
                "        PARÂMETROS:\n",
                "        \n",
                "        data > DataFrame para se aplicar a alteração. \n",
                "    '''\n",
                "    data['classification'] = data['metascore'].apply(\n",
                "        lambda value:\n",
                "            'Universal Acclaim' if 90 <= value <= 100 else\n",
                "            'Generally Favorable' if 75 <= value <= 89 else\n",
                "            'Mixed or Average' if 50 <= value <= 74 else\n",
                "            'Generally Unfavorable' if 20 <= value <= 49 else\n",
                "            'Overwhelming Dislike'   \n",
                "            )\n",
                "    \n",
                "    return data"
            ]
        },
        {
            "cell_type": "code",
            "execution_count": null,
            "metadata": {
                "cell_id": "98171fd3dd0e463d8f09c18162bbfebf",
                "deepnote_cell_type": "code",
                "deepnote_to_be_reexecuted": false,
                "execution_millis": 9,
                "execution_start": 1680179958639,
                "source_hash": "64f19b0d"
            },
            "outputs": [],
            "source": [
                "# Aplicando função:\n",
                "games_df = set_metascore_class(games_df)"
            ]
        },
        {
            "cell_type": "code",
            "execution_count": null,
            "metadata": {
                "cell_id": "99e27106bcf042be807510bd0631cbeb",
                "deepnote_cell_type": "code",
                "deepnote_to_be_reexecuted": false,
                "execution_millis": 5,
                "execution_start": 1680179958680,
                "scrolled": true,
                "source_hash": "584e9177"
            },
            "outputs": [],
            "source": [
                "# Visualizando resultados:\n",
                "games_df.sample(10)"
            ]
        },
        {
            "cell_type": "markdown",
            "metadata": {
                "cell_id": "519fdc1c6be140f090e4b930179ff1cc",
                "deepnote_cell_type": "markdown"
            },
            "source": [
                "## Funcoes auxiliares"
            ]
        },
        {
            "cell_type": "markdown",
            "metadata": {
                "cell_id": "10cc2404ebde4a87830098b6e35551f5",
                "deepnote_cell_type": "markdown"
            },
            "source": [
                "Com objetivo de estudar palavras presentes na descrição e título, criarei uma função que realiza a extração das palavras"
            ]
        },
        {
            "cell_type": "code",
            "execution_count": null,
            "metadata": {
                "cell_id": "7a3f67c9fc6c4d4590037dba0c862cc7",
                "deepnote_cell_type": "code",
                "deepnote_to_be_reexecuted": false,
                "execution_millis": 10,
                "execution_start": 1680179958686,
                "source_hash": "2441bb2"
            },
            "outputs": [],
            "source": [
                "def extract_words(texto : str) -> List[str]:\n",
                "    return re.findall('\\w+', texto)\n",
                "\n",
                "extract_words('Injustice 2: Legendary Edition')"
            ]
        },
        {
            "cell_type": "code",
            "execution_count": null,
            "metadata": {
                "cell_id": "9d9b6c6cbf05444391b465a79cb6030e",
                "deepnote_cell_type": "code",
                "deepnote_to_be_reexecuted": false,
                "execution_millis": 7,
                "execution_start": 1680179958760,
                "source_hash": "845c06cf"
            },
            "outputs": [],
            "source": [
                "def count_words(serie_texto : pd.Series) -> Dict[str, int]:\n",
                "    '''\n",
                "    It counts the number of text elements from the input series which contain a certain word\n",
                "    @input:\n",
                "        - serie_texto: a string-type pd.Series\n",
                "    @output:\n",
                "        A dict where each key is a word and the value its count as described\n",
                "    '''\n",
                "    word_counter = Counter()\n",
                "    for texto in serie_texto:\n",
                "        word_counter.update( Counter( set( extract_words(texto) ) ) )\n",
                "    return word_counter\n",
                "\n",
                "count_words(pd.Series(['Injustice 2: Legendary Edition', 'Injustice 2: Legendary Edition', 'Mini Metro']))"
            ]
        },
        {
            "cell_type": "markdown",
            "metadata": {
                "cell_id": "a93fe9353192464c94581fb07696487e",
                "deepnote_cell_type": "markdown"
            },
            "source": [
                "## EDA"
            ]
        },
        {
            "cell_type": "markdown",
            "metadata": {
                "cell_id": "6d364ff4e7d54e29bc1c02cdb83e4634",
                "deepnote_cell_type": "markdown"
            },
            "source": [
                "### Análise Univariada"
            ]
        },
        {
            "cell_type": "code",
            "execution_count": null,
            "metadata": {
                "cell_id": "9b16164ea1e84167ad4693ac89a2d0c2",
                "deepnote_cell_type": "code",
                "deepnote_to_be_reexecuted": false,
                "execution_millis": 5,
                "execution_start": 1680179958762,
                "source_hash": "41b83781"
            },
            "outputs": [],
            "source": [
                "games_df.columns"
            ]
        },
        {
            "cell_type": "markdown",
            "metadata": {
                "cell_id": "4ca83952c9814abc8bdb216ccc458bf6",
                "deepnote_cell_type": "markdown"
            },
            "source": [
                "#### Ánalise de Variável Categórica: platform"
            ]
        },
        {
            "cell_type": "code",
            "execution_count": null,
            "metadata": {
                "cell_id": "b6e6fd7f2b22490ab76274b857e9427c",
                "deepnote_cell_type": "code",
                "deepnote_to_be_reexecuted": false,
                "execution_millis": 69,
                "execution_start": 1680179958763,
                "source_hash": "705f9ffc"
            },
            "outputs": [],
            "source": [
                "games_df['platform'].value_counts(ascending= True).plot.barh()"
            ]
        },
        {
            "cell_type": "markdown",
            "metadata": {
                "cell_id": "b723b1bf8b9a4e0cb75cc2c2463fe144",
                "deepnote_cell_type": "markdown"
            },
            "source": [
                "Há muitas plataformas, e muitas estão relacionadas pelo 'fabricante', entao criaremos outra coluna"
            ]
        },
        {
            "cell_type": "code",
            "execution_count": null,
            "metadata": {
                "cell_id": "ef3d9864f1984381b613494f107980bd",
                "deepnote_cell_type": "code",
                "deepnote_to_be_reexecuted": false,
                "execution_millis": 50,
                "execution_start": 1680179959095,
                "source_hash": "47c36456"
            },
            "outputs": [],
            "source": [
                "platform_manufacturer = {\n",
                "    'PC' : 'PC',\n",
                "    'PlayStation' : 'PlayStation',\n",
                "    'PlayStation 5' : 'PlayStation',\n",
                "    'PlayStation 4' : 'PlayStation',\n",
                "    'PlayStation 3' : 'PlayStation',\n",
                "    'PlayStation 2' : 'PlayStation',\n",
                "    'PlayStation Vita' : 'PlayStation',\n",
                "    'PSP' : 'PlayStation',\n",
                "    'Nintendo 64' : 'Nintendo',\n",
                "    'GameCube' : 'Nintendo',\n",
                "    'Wii U' : 'Nintendo',\n",
                "    'Wii' : 'Nintendo',\n",
                "    'Switch' : 'Nintendo',\n",
                "    'Game Boy Advance' : 'Nintendo',\n",
                "    'DS' : 'Nintendo',\n",
                "    '3DS' : 'Nintendo',\n",
                "    'Xbox Series X' : 'Xbox',\n",
                "    'Xbox' : 'Xbox',\n",
                "    'Xbox One' : 'Xbox',\n",
                "    'Xbox 360' : 'Xbox',\n",
                "    'Xbox 360' : 'Xbox',\n",
                "    'Stadia' : 'Other',\n",
                "    'Dreamcast' : 'Other'\n",
                "}\n",
                "games_df['manufacturer'] = games_df['platform'].map(platform_manufacturer)\n",
                "games_df['manufacturer'].value_counts().plot.bar(rot= 45)"
            ]
        },
        {
            "cell_type": "markdown",
            "metadata": {
                "cell_id": "ba10f92c6e4e4c4f897e0d439db96234",
                "deepnote_cell_type": "markdown"
            },
            "source": [
                "Assim podemos ver que a PlayStation na verdade ultrapassa o número de jogos de PC no total,\n",
                "considerando que ela renova o console de tempos em tempos"
            ]
        },
        {
            "cell_type": "markdown",
            "metadata": {
                "cell_id": "dce570421c1d4657abf6aa825308e945",
                "deepnote_cell_type": "markdown"
            },
            "source": [
                "#### Histogramas: analisando variáveis numéricas continuas"
            ]
        },
        {
            "cell_type": "markdown",
            "metadata": {
                "cell_id": "0bd41f1269994f2098597b31c7488f78",
                "deepnote_cell_type": "markdown"
            },
            "source": [
                "##### funcao auxiliar"
            ]
        },
        {
            "cell_type": "code",
            "execution_count": null,
            "metadata": {
                "cell_id": "638e46b82d8d45edb421801da1e60e6d",
                "deepnote_cell_type": "code",
                "deepnote_to_be_reexecuted": false,
                "execution_millis": 4,
                "execution_start": 1680179959328,
                "source_hash": "8503f567"
            },
            "outputs": [],
            "source": [
                "# Definindo uma função para plotagem dos histogramas pelo MatPlotLib:\n",
                "\n",
                "def histogram_plot(data: pd.DataFrame, column: pd.Series, bin_width: float, title: str):\n",
                "    '''Retorna um Histograma detalhado sobre os dados fornecidos.\n",
                "    \n",
                "    PARÂMETROS:\n",
                "\n",
                "        - data > Um DataFrame do Pandas contendo os dados;\n",
                "        - column > Uma Series do Pandas contendo os dados desejados para plotagem;\n",
                "        - bin_width: > Número float para a dimensão das barras do histograma;\n",
                "        - title > O título desejado para o plot.\n",
                "    '''\n",
                "    fig, ax1 = plt.subplots(figsize=(12,6))\n",
                "\n",
                "    ax2 = sns.histplot(data=data, \n",
                "                       x=column, \n",
                "                       kde=True,\n",
                "                       label='Frequência', \n",
                "                       binwidth=bin_width,\n",
                "                       edgecolor='black', \n",
                "                       line_kws={'linestyle': 'dashdot'},\n",
                "                       color='#151bbf')\n",
                "    \n",
                "    ax2.set_title(title, fontdict={'size': 15, \n",
                "                                   'weight': 'bold'})\n",
                "    \n",
                "    ax2.set_ylabel('Num. Registros', fontdict={'size': 12,\n",
                "                                               'family': 'monospace'})\n",
                "\n",
                "    ax2.get_yaxis().set_major_formatter(plt.FuncFormatter(lambda number, char: format(int(number), ',')))\n",
                "\n",
                "    ax2.set_xlabel('')"
            ]
        },
        {
            "cell_type": "markdown",
            "metadata": {
                "cell_id": "25cacc59e7514fcd92db73534b5aaf40",
                "deepnote_cell_type": "markdown"
            },
            "source": [
                "##### release_year"
            ]
        },
        {
            "cell_type": "code",
            "execution_count": null,
            "metadata": {
                "cell_id": "57595ec972a8447d830181488903ed30",
                "deepnote_cell_type": "code",
                "deepnote_to_be_reexecuted": false,
                "execution_millis": 535,
                "execution_start": 1680179959330,
                "source_hash": "8af53fc1"
            },
            "outputs": [],
            "source": [
                "# Histograma:\n",
                "histogram_plot(games_df, \n",
                "               'release_year', \n",
                "               1, \n",
                "               'Distribuição de Lançamento de Jogos por Ano')\n",
                "\n",
                "# Anotando lançamento PS2:\n",
                "plt.annotate('Lançamento PS2', \n",
                "             fontsize=9, \n",
                "             fontfamily='monospace',\n",
                "             xy=(2000.1, 370), \n",
                "             xytext=(1994.5,400), \n",
                "             arrowprops={'arrowstyle':'->', 'color':'black'},\n",
                "             bbox={'boxstyle': 'round', 'fc': '0.65', 'color': '#0bc3d4'})\n",
                "\n",
                "# Anotando lançamento X-Box:\n",
                "plt.annotate('Lançamento X-Box', \n",
                "             fontsize=9, \n",
                "             fontfamily='monospace',\n",
                "             xy=(2001.1, 555), \n",
                "             xytext=(1994.5,570), \n",
                "             arrowprops={'arrowstyle':'->', 'color':'black'},\n",
                "             bbox={'boxstyle': 'round', 'fc': '0.65', 'color': '#0bd422'})\n",
                "\n",
                "plt.show()"
            ]
        },
        {
            "cell_type": "markdown",
            "metadata": {
                "cell_id": "17e9af764aee444a8c51fa3ae6a97511",
                "deepnote_cell_type": "markdown"
            },
            "source": [
                "Centralidade\n",
                "\n",
                "- Em relação aos anos de lançamento dos jogos, temos uma tendência central entre 2015 e 2020, onde as maiores quantidades de data points se acumulam."
            ]
        },
        {
            "cell_type": "markdown",
            "metadata": {
                "cell_id": "69d7801090044b27b799d880fbcb492c",
                "deepnote_cell_type": "markdown"
            },
            "source": [
                "Amplitude"
            ]
        },
        {
            "cell_type": "code",
            "execution_count": null,
            "metadata": {
                "cell_id": "9fbbdd2d921c4b9db6726d0c3677c6aa",
                "deepnote_cell_type": "code",
                "deepnote_to_be_reexecuted": false,
                "execution_millis": 3,
                "execution_start": 1680179959867,
                "source_hash": "7e854576"
            },
            "outputs": [],
            "source": [
                "amplitude = games_df['release_year'].max() - games_df['release_year'].min()\n",
                "\n",
                "print(f'Período de {amplitude} anos.')"
            ]
        },
        {
            "cell_type": "markdown",
            "metadata": {
                "cell_id": "998e754de05a4917b686c2571b40ff32",
                "deepnote_cell_type": "markdown"
            },
            "source": [
                "##### release_month"
            ]
        },
        {
            "cell_type": "code",
            "execution_count": null,
            "metadata": {
                "cell_id": "04182a95b8b44aa08236d3358f04a9a0",
                "deepnote_cell_type": "code",
                "deepnote_to_be_reexecuted": false,
                "execution_millis": 434,
                "execution_start": 1680179959872,
                "source_hash": "92cb26f3"
            },
            "outputs": [],
            "source": [
                "# Histograma:\n",
                "histogram_plot(games_df, \n",
                "               'release_month',\n",
                "               0.95,\n",
                "               'Distribuição de Lançamento de Jogos por Mês')"
            ]
        },
        {
            "cell_type": "markdown",
            "metadata": {
                "cell_id": "f71469b13e864857891ed7ddd0ef2c75",
                "deepnote_cell_type": "markdown"
            },
            "source": [
                "Centralidade\n",
                "\n",
                "- Em relação aos meses de lançamento dos jogos, temos uma tendência central mais ao final do ano, a partir de Setembro (9) a Novembro (11)."
            ]
        },
        {
            "cell_type": "markdown",
            "metadata": {
                "cell_id": "1e2f4aa9ef4d44449540813c6a074620",
                "deepnote_cell_type": "markdown"
            },
            "source": [
                "Amplitude"
            ]
        },
        {
            "cell_type": "code",
            "execution_count": null,
            "metadata": {
                "cell_id": "455df22bdf9d4393b5529d7b01793f59",
                "deepnote_cell_type": "code",
                "deepnote_to_be_reexecuted": false,
                "execution_millis": 4,
                "execution_start": 1680179960319,
                "source_hash": "d18bf214"
            },
            "outputs": [],
            "source": [
                "amplitude = games_df['release_month'].max() - games_df['release_month'].min() \n",
                "\n",
                "print(f'Intervalo de Tempo de {amplitude} meses.')"
            ]
        },
        {
            "cell_type": "markdown",
            "metadata": {
                "cell_id": "92295386cabd4767b1e6a4bbb5f2676c",
                "deepnote_cell_type": "markdown"
            },
            "source": [
                "##### user_score"
            ]
        },
        {
            "cell_type": "code",
            "execution_count": null,
            "metadata": {
                "cell_id": "0b5a0c947b8045088a03d4c792a97288",
                "deepnote_cell_type": "code",
                "deepnote_to_be_reexecuted": false,
                "execution_millis": 656,
                "execution_start": 1680179960326,
                "scrolled": false,
                "source_hash": "a6e791d2"
            },
            "outputs": [],
            "source": [
                "# Histograma:\n",
                "histogram_plot(games_df, \n",
                "               'user_score',\n",
                "               0.3,\n",
                "               'Distribuição de Avaliações de Usuários')"
            ]
        },
        {
            "cell_type": "markdown",
            "metadata": {
                "cell_id": "6d3af54d589f4e7696129b1df70a3b53",
                "deepnote_cell_type": "markdown"
            },
            "source": [
                "Centralidade\n",
                "\n",
                "- Em relação as notas fornecidas pelos usuários, temos uma tendência central dos dados entre 7 e 8, como a mediana de 7.1 nos apontou anteriormente."
            ]
        },
        {
            "cell_type": "markdown",
            "metadata": {
                "cell_id": "da780cd6ea084514bbb692be07de175d",
                "deepnote_cell_type": "markdown"
            },
            "source": [
                "Amplitude\n",
                "\n",
                "- Temos uma amplitude pequena por se tratar de uma avaliação, indo de 0 a 10."
            ]
        },
        {
            "cell_type": "code",
            "execution_count": null,
            "metadata": {
                "cell_id": "e6b4685933bb4f7f80f1cc7c0b71c7b2",
                "deepnote_cell_type": "code",
                "deepnote_to_be_reexecuted": false,
                "execution_millis": 131,
                "execution_start": 1680180640735,
                "source_hash": "22aff2a8"
            },
            "outputs": [],
            "source": [
                "_= games_df['user_score'].plot.box(vert= False)"
            ]
        },
        {
            "cell_type": "markdown",
            "metadata": {
                "cell_id": "68a2236116fd4cc692af1a437725661c",
                "deepnote_cell_type": "text-cell-p",
                "formattedRanges": []
            },
            "source": [
                "user_score apresentam muitos outliers a esquerda (valores baixos)e mais da metade dos jogos está avaliado no intervalo de 6 a 8."
            ]
        },
        {
            "cell_type": "markdown",
            "metadata": {
                "cell_id": "ce2959a0fdac4130bdc5653822b9241e",
                "deepnote_cell_type": "markdown"
            },
            "source": [
                "##### metascore"
            ]
        },
        {
            "cell_type": "code",
            "execution_count": null,
            "metadata": {
                "cell_id": "17c62f07c2c6494eb52c34ea462ba6b3",
                "deepnote_cell_type": "code",
                "deepnote_to_be_reexecuted": false,
                "execution_millis": 525,
                "execution_start": 1680179960948,
                "source_hash": "f589b21"
            },
            "outputs": [],
            "source": [
                "# Histograma:\n",
                "histogram_plot(games_df, \n",
                "               'metascore',\n",
                "               1,\n",
                "               'Distribuição de Avaliações Metacritic')"
            ]
        },
        {
            "cell_type": "markdown",
            "metadata": {
                "cell_id": "59f1a1a4ba9e409994751dc94aa0bfe9",
                "deepnote_cell_type": "markdown"
            },
            "source": [
                "Centralidade\n",
                "\n",
                "- Em relação as notas fornecidas pelo Metacritic, temos uma tendência central dos dados entre 70 e 80. A distribuição de notas do Metacritic parece seguir o mesmo padrão das notas fornecidas pelos usuários, o que demonstra que as notas fornecidas pelo site não são tão discrepantes em relação as fornecidas pelos usuários. A correlação exata dessas duas métricas de avaliação será estudada mais a frente."
            ]
        },
        {
            "cell_type": "markdown",
            "metadata": {
                "cell_id": "6d0a5f36c8d84746bdea5e21785e5f62",
                "deepnote_cell_type": "markdown"
            },
            "source": [
                "Amplitude\n",
                "\n",
                "- Temos uma amplitude de dados variando de 0 a 100."
            ]
        },
        {
            "cell_type": "code",
            "execution_count": null,
            "metadata": {
                "cell_id": "8c840991d9a1452496b77ba45189f07e",
                "deepnote_cell_type": "code",
                "deepnote_to_be_reexecuted": false,
                "execution_millis": 166,
                "execution_start": 1680179961475,
                "source_hash": "f354c1d5"
            },
            "outputs": [],
            "source": [
                "_= games_df['metascore'].plot.box(vert= False)"
            ]
        },
        {
            "cell_type": "markdown",
            "metadata": {
                "cell_id": "950be475ac564d6489be321abb71f62f",
                "deepnote_cell_type": "markdown"
            },
            "source": [
                "metascore também apresentam muitos outliers a esquerda (valores baixos)\n",
                "e mais da metade dos jogos está avaliado no intervalo de 60 a 80, bem semelhante ao user_score, considerando as escalas."
            ]
        },
        {
            "cell_type": "markdown",
            "metadata": {
                "cell_id": "f23c4a6055574c5fb4ab0cc606c08db7",
                "deepnote_cell_type": "markdown"
            },
            "source": [
                "### Análise Bivariada"
            ]
        },
        {
            "cell_type": "markdown",
            "metadata": {
                "cell_id": "ab07a2cf84684dfc8f585d0eb94f23ca",
                "deepnote_cell_type": "markdown"
            },
            "source": [
                "#### Correlação entre as variáveis"
            ]
        },
        {
            "cell_type": "code",
            "execution_count": null,
            "metadata": {
                "cell_id": "13bc241adc04485fbb17856d84fbea93",
                "deepnote_cell_type": "code",
                "deepnote_to_be_reexecuted": false,
                "execution_millis": 21,
                "execution_start": 1680179961645,
                "source_hash": "1840cc72"
            },
            "outputs": [],
            "source": [
                "# Criando matriz de correlações:\n",
                "\n",
                "correlation_matrix = games_df.select_dtypes(include=[np.number]).corr()\n",
                "\n",
                "correlation_matrix"
            ]
        },
        {
            "cell_type": "code",
            "execution_count": null,
            "metadata": {
                "cell_id": "2464a55296154e8a90b4fea2cf8a0331",
                "deepnote_cell_type": "code",
                "deepnote_to_be_reexecuted": false,
                "execution_millis": 350,
                "execution_start": 1680179961672,
                "source_hash": "6a5995e6"
            },
            "outputs": [],
            "source": [
                "# Selecionando as colunas relevantes (excluindo 'sort_no')\n",
                "cols = [col for col in games_df.columns if col != 'sort_no']\n",
                "subset_df = games_df[cols]\n",
                "\n",
                "# Calculando a matriz de correlação\n",
                "correlation_matrix = subset_df.corr()\n",
                "\n",
                "# Criando o Heatmap:\n",
                "fig, ax = plt.subplots(figsize=(16, 6))\n",
                "\n",
                "ax = sns.heatmap(correlation_matrix, \n",
                "                 vmin=-1, \n",
                "                 vmax=1, \n",
                "                 annot=True, \n",
                "                 linewidths=1, \n",
                "                 cmap='coolwarm')\n",
                "\n",
                "# Formatação:\n",
                "plt.title('Correlações de Variáveis', fontdict={'size': 18, 'weight': 'bold'}, pad=16)\n",
                "\n",
                "plt.show()"
            ]
        },
        {
            "cell_type": "markdown",
            "metadata": {
                "cell_id": "fcf8ef7cb9d54567b0644487030e4264",
                "deepnote_cell_type": "markdown"
            },
            "source": [
                "<font color='#039c0b'>**Correlação igual a 1**</font>\n",
                "\n",
                "- Correlação positiva perfeita. Quando o valor de uma variável X aumenta, o valor de outra variável Y também aumenta.\n",
                "\n",
                "<font color='#039c0b'>**Correlação acima de 0**</font>\n",
                "\n",
                "- Correlação positiva. Quando o valor de uma variável X aumenta, o valor de outra variável Y tende a aumentar, porém essa regra não é absoluta, tendo valores da variável Y que não se alteram ou diminuem.\n",
                "\n",
                "**Correlação igual a 0**\n",
                "\n",
                "- Não existe correlação entre as duas variáveis.\n",
                "\n",
                "<font color='#a80505'>**Correlação menor que 0**</font>\n",
                "\n",
                "- Correlação negativa. Quando o valor de uma variável X aumenta, o valor de outra variável Y tende a diminuir, porém essa regra não é absoluta, tendo valores da variável Y que não se alteram ou aumentam.\n",
                "\n",
                "<font color='#a80505'>**Correlação igual a -1**</font>\n",
                "\n",
                "- Correlação neagtiva perfeita. Quando o valor de uma variável X aumenta, o valor de outra variável Y diminui."
            ]
        },
        {
            "cell_type": "markdown",
            "metadata": {
                "cell_id": "bb8c65ea32d14ef5a724060631630b2e",
                "deepnote_cell_type": "text-cell-p",
                "formattedRanges": []
            },
            "source": [
                "A correlação positiva entre user_score e metascore era esperada, apesar de não ser tão forte (>0.8). O que significa que há uma divergência entre as notas dadas pelo site e pelos usuários."
            ]
        },
        {
            "cell_type": "markdown",
            "metadata": {
                "cell_id": "5f360860-cb27-40cd-aedf-5d6dd5823cc7",
                "deepnote_cell_type": "text-cell-p",
                "formattedRanges": []
            },
            "source": [
                "Outra correlação que aparece, apesar de fraca, é negativa entre o user_score e release_year. Isso quer dizer que quanto mais novos os jogos, maior o release_year e menor o user_score"
            ]
        },
        {
            "cell_type": "markdown",
            "metadata": {
                "cell_id": "1c1ec47f8e5c421192232bfc461e3a02",
                "deepnote_cell_type": "markdown"
            },
            "source": [
                "#### user_score e metascore"
            ]
        },
        {
            "cell_type": "code",
            "execution_count": null,
            "metadata": {
                "cell_id": "28a58071f8644eb2be597c4470adb946",
                "deepnote_cell_type": "code",
                "deepnote_to_be_reexecuted": false,
                "execution_millis": 2067,
                "execution_start": 1680179962081,
                "source_hash": "5aa5e136"
            },
            "outputs": [],
            "source": [
                "def scale_scores(row : pd.DataFrame) -> pd.DataFrame:\n",
                "    row['metascore'] /= 100\n",
                "    row['user_score'] /= 10\n",
                "    return row\n",
                "\n",
                "_= sns.violinplot( games_df[['user_score', 'metascore']].apply(scale_scores, axis= 1) )"
            ]
        },
        {
            "cell_type": "code",
            "execution_count": null,
            "metadata": {
                "cell_id": "86a24cb28b5e481486b289239060fcee",
                "deepnote_cell_type": "code",
                "deepnote_to_be_reexecuted": false,
                "execution_millis": 2,
                "execution_start": 1680179964149,
                "source_hash": "b623e53d"
            },
            "outputs": [],
            "source": []
        },
        {
            "cell_type": "code",
            "execution_count": null,
            "metadata": {
                "cell_id": "7104728d90364d8fa2ef382bbf75041d",
                "deepnote_cell_type": "code",
                "deepnote_to_be_reexecuted": false,
                "execution_millis": 3,
                "execution_start": 1680179964152,
                "source_hash": "b623e53d"
            },
            "outputs": [],
            "source": []
        },
        {
            "cell_type": "markdown",
            "metadata": {
                "created_in_deepnote_cell": true,
                "deepnote_cell_type": "markdown"
            },
            "source": [
                "<a style='text-decoration:none;line-height:16px;display:flex;color:#5B5B62;padding:10px;justify-content:end;' href='https://deepnote.com?utm_source=created-in-deepnote-cell&projectId=2de3bbe3-f90a-472d-99e1-fa85ad9b52c8' target=\"_blank\">\n",
                "<img alt='Created in deepnote.com' style='display:inline;max-height:16px;margin:0px;margin-right:7.5px;' src='data:image/svg+xml;base64,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' > </img>\n",
                "Created in <span style='font-weight:600;margin-left:4px;'>Deepnote</span></a>"
            ]
        }
    ],
    "metadata": {
        "deepnote": {},
        "deepnote_execution_queue": [],
        "deepnote_notebook_id": "b8aee56a207c4cc5837db03d557bb15b",
        "deepnote_persisted_session": {
            "createdAt": "2023-03-30T13:32:17.472Z"
        },
        "kernelspec": {
            "display_name": "Python 3 (ipykernel)",
            "language": "python",
            "name": "python3"
        },
        "language_info": {
            "codemirror_mode": {
                "name": "ipython",
                "version": 3
            },
            "file_extension": ".py",
            "mimetype": "text/x-python",
            "name": "python",
            "nbconvert_exporter": "python",
            "pygments_lexer": "ipython3",
            "version": "3.9.6"
        }
    },
    "nbformat": 4,
    "nbformat_minor": 0
}