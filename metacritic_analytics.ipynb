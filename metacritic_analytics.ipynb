{
  "cells": [
    {
      "cell_type": "markdown",
      "metadata": {
        "cell_id": "2ca3a66c07f945a5bfe26db287d8cce5",
        "deepnote_cell_type": "markdown",
        "id": "yS-uyHGpElrU"
      },
      "source": [
        "# EDA com Análise Gráfica - Explorando o dataset da plataforma Metracritic"
      ]
    },
    {
      "cell_type": "markdown",
      "metadata": {
        "cell_id": "59a26c5d8aac4bacb4d211deb850e969",
        "deepnote_cell_type": "markdown",
        "id": "Ohv6hkzJElra"
      },
      "source": [
        "## Importando Bibliotecas & Definindo Constantes"
      ]
    },
    {
      "cell_type": "code",
      "execution_count": 1,
      "metadata": {
        "cell_id": "9797c4d48ff142c9bddb287075d0295a",
        "deepnote_cell_type": "code",
        "deepnote_to_be_reexecuted": false,
        "execution_millis": 2778,
        "execution_start": 1680306917409,
        "source_hash": "8fad4f9a",
        "id": "VzLY_l83Elrb"
      },
      "outputs": [],
      "source": [
        "from typing import Dict, List\n",
        "import os\n",
        "import re\n",
        "from collections import Counter\n",
        "\n",
        "import numpy as np\n",
        "import pandas as pd\n",
        "\n",
        "import matplotlib.pyplot as plt\n",
        "import seaborn as sns\n",
        "import plotly.express as px\n",
        "\n",
        "%matplotlib inline"
      ]
    },
    {
      "cell_type": "code",
      "execution_count": 2,
      "metadata": {
        "cell_id": "5740795c31f5401cae867c5255008768",
        "deepnote_cell_type": "code",
        "deepnote_to_be_reexecuted": false,
        "execution_millis": 5,
        "execution_start": 1680306920183,
        "source_hash": "f2f79983",
        "id": "joo4oB47Elrf"
      },
      "outputs": [],
      "source": [
        "sns.set_theme()"
      ]
    },
    {
      "cell_type": "code",
      "execution_count": 10,
      "metadata": {
        "cell_id": "27fd054d3ea94c66b2f35551d3cc8237",
        "deepnote_cell_type": "code",
        "deepnote_to_be_reexecuted": false,
        "execution_millis": 4,
        "execution_start": 1680306920184,
        "source_hash": "4aaecd99",
        "id": "AZ4QLuHYElrg"
      },
      "outputs": [],
      "source": [
        "DATA_INPUT_FOLDER = 'https://raw.githubusercontent.com/SLMath/Metacritic_Score-Analysis/main/data/'\n",
        "DATA_FILES = ('games.csv', 'movies.csv', 'music.csv', 'tv.csv')\n",
        "\n",
        "ARCHIVE_FOLDER = '/content/archive'\n",
        "OUTPUT_FOLDER = '/content/output'"
      ]
    },
    {
      "cell_type": "markdown",
      "metadata": {
        "cell_id": "42009b98683a4c1b85742c5a5b147398",
        "deepnote_cell_type": "markdown",
        "id": "YCSmKM3AElrg"
      },
      "source": [
        "## Importando os Dados"
      ]
    },
    {
      "cell_type": "markdown",
      "metadata": {
        "cell_id": "b4649a6549b149bcb0af91899d7aa3ce",
        "deepnote_cell_type": "markdown",
        "id": "AabHloYcElrh"
      },
      "source": [
        "Extraídos da base: https://www.kaggle.com/datasets/patkle/metacritic-scores-for-games-movies-tv-and-music\n",
        "\n",
        "Os dados são referentes a notas de jogos, filmes, músicas e séries (de TV) avaliados por usuários e pelo próprio domínio Metacritic."
      ]
    },
    {
      "cell_type": "code",
      "execution_count": 11,
      "metadata": {
        "cell_id": "8a05679b2dd4485dafdb5c120a035df3",
        "deepnote_cell_type": "code",
        "deepnote_to_be_reexecuted": false,
        "execution_millis": 6316,
        "execution_start": 1680306920185,
        "source_hash": "3b3b0c79",
        "id": "j9GRWFT6Elri",
        "outputId": "97ef5f8e-a07c-4368-d953-4d0ae8cbf1e8",
        "colab": {
          "base_uri": "https://localhost:8080/"
        }
      },
      "outputs": [
        {
          "output_type": "stream",
          "name": "stdout",
          "text": [
            "https://raw.githubusercontent.com/SLMath/Metacritic_Score-Analysis/main/data/games.csv\n",
            "https://raw.githubusercontent.com/SLMath/Metacritic_Score-Analysis/main/data/music.csv\n",
            "https://raw.githubusercontent.com/SLMath/Metacritic_Score-Analysis/main/data/tv.csv\n",
            "https://raw.githubusercontent.com/SLMath/Metacritic_Score-Analysis/main/data/movies.csv\n",
            "dict_keys(['games', 'music', 'tv', 'movies'])\n"
          ]
        }
      ],
      "source": [
        "# Um dicionário contendo os 4 DataFrames, separados\n",
        "df_dict : Dict[ str, pd.DataFrame ] = {}\n",
        "for file_data in DATA_FILES:\n",
        "    print(os.path.join( DATA_INPUT_FOLDER, file_data ))\n",
        "    df_dict[file_data[:-4]] = pd.read_csv(\n",
        "        os.path.join( DATA_INPUT_FOLDER, file_data ),\n",
        "        index_col=0,\n",
        "        parse_dates= ['release_date'],\n",
        "        dayfirst= True\n",
        "    )\n",
        "\n",
        "print(df_dict.keys())"
      ]
    },
    {
      "cell_type": "code",
      "source": [
        "for type_, df in df_dict.items():\n",
        "    print(type_)\n",
        "    df.info()\n",
        "    print()"
      ],
      "metadata": {
        "id": "Y_V_lbj3GEsQ",
        "outputId": "569e9210-eaca-46b1-f1f1-41fd583125c6",
        "colab": {
          "base_uri": "https://localhost:8080/"
        }
      },
      "execution_count": 15,
      "outputs": [
        {
          "output_type": "stream",
          "name": "stdout",
          "text": [
            "games\n",
            "<class 'pandas.core.frame.DataFrame'>\n",
            "Int64Index: 20022 entries, 543718 to 213564\n",
            "Data columns (total 7 columns):\n",
            " #   Column        Non-Null Count  Dtype         \n",
            "---  ------        --------------  -----         \n",
            " 0   metascore     20022 non-null  int64         \n",
            " 1   platform      20022 non-null  object        \n",
            " 2   release_date  20022 non-null  datetime64[ns]\n",
            " 3   sort_no       20022 non-null  int64         \n",
            " 4   summary       19930 non-null  object        \n",
            " 5   title         20022 non-null  object        \n",
            " 6   user_score    20022 non-null  object        \n",
            "dtypes: datetime64[ns](1), int64(2), object(4)\n",
            "memory usage: 1.2+ MB\n",
            "\n",
            "music\n",
            "<class 'pandas.core.frame.DataFrame'>\n",
            "Int64Index: 13147 entries, 13354 to 2756\n",
            "Data columns (total 7 columns):\n",
            " #   Column        Non-Null Count  Dtype         \n",
            "---  ------        --------------  -----         \n",
            " 0   artist        13147 non-null  object        \n",
            " 1   metascore     13147 non-null  int64         \n",
            " 2   release_date  13147 non-null  datetime64[ns]\n",
            " 3   sort_no       13147 non-null  int64         \n",
            " 4   summary       12995 non-null  object        \n",
            " 5   title         13146 non-null  object        \n",
            " 6   user_score    13147 non-null  object        \n",
            "dtypes: datetime64[ns](1), int64(2), object(4)\n",
            "memory usage: 821.7+ KB\n",
            "\n",
            "tv\n",
            "<class 'pandas.core.frame.DataFrame'>\n",
            "Int64Index: 3298 entries, 72329 to 11227\n",
            "Data columns (total 6 columns):\n",
            " #   Column        Non-Null Count  Dtype         \n",
            "---  ------        --------------  -----         \n",
            " 0   metascore     3298 non-null   int64         \n",
            " 1   release_date  3298 non-null   datetime64[ns]\n",
            " 2   sort_no       3298 non-null   int64         \n",
            " 3   summary       3298 non-null   object        \n",
            " 4   title         3298 non-null   object        \n",
            " 5   user_score    3298 non-null   object        \n",
            "dtypes: datetime64[ns](1), int64(2), object(3)\n",
            "memory usage: 180.4+ KB\n",
            "\n",
            "movies\n",
            "<class 'pandas.core.frame.DataFrame'>\n",
            "Int64Index: 15325 entries, 549123 to 549063\n",
            "Data columns (total 7 columns):\n",
            " #   Column        Non-Null Count  Dtype \n",
            "---  ------        --------------  ----- \n",
            " 0   metascore     15325 non-null  int64 \n",
            " 1   rating        14201 non-null  object\n",
            " 2   release_date  15325 non-null  object\n",
            " 3   sort_no       15325 non-null  int64 \n",
            " 4   summary       15322 non-null  object\n",
            " 5   title         15325 non-null  object\n",
            " 6   user_score    15325 non-null  object\n",
            "dtypes: int64(2), object(5)\n",
            "memory usage: 957.8+ KB\n",
            "\n"
          ]
        }
      ]
    },
    {
      "cell_type": "markdown",
      "metadata": {
        "cell_id": "c62194c9b45541cc9d3c0fb0e80ce877",
        "deepnote_cell_type": "markdown",
        "id": "ygCHJ6MTElrj"
      },
      "source": [
        "# Analizando Inicialmente a Base exclusiva de Jogos"
      ]
    },
    {
      "cell_type": "markdown",
      "metadata": {
        "cell_id": "17be61a372be454ba1e64e768a43855c",
        "deepnote_cell_type": "markdown",
        "id": "rCDez4i8Elrj"
      },
      "source": [
        "## Visão Geral"
      ]
    },
    {
      "cell_type": "code",
      "execution_count": null,
      "metadata": {
        "cell_id": "cd4c45b25a9f49b8abafebaa112f55f1",
        "deepnote_cell_type": "code",
        "deepnote_to_be_reexecuted": false,
        "execution_millis": 117,
        "execution_start": 1680306926558,
        "source_hash": "9a7ca870",
        "id": "3IsAOWjUElrk"
      },
      "outputs": [],
      "source": [
        "games_df = df_dict['games']\n",
        "\n",
        "# Observar informações gerais sobre os dados e tipos\n",
        "display(games_df.info())\n",
        "display(games_df.head())"
      ]
    },
    {
      "cell_type": "markdown",
      "metadata": {
        "cell_id": "9b21a6644a7542f2b4c9e3721a969a98",
        "deepnote_cell_type": "markdown",
        "id": "YuQ1SFjZElrk"
      },
      "source": [
        "O banco apresenta 20022 registros (linhas), com 7 propriedades (colunas):\n",
        "\n",
        "- metascore: nota da plataforma\n",
        "- plataforma\n",
        "- data de lançamento\n",
        "- número de ordenação (não está claro a que se refere)\n",
        "- resumo: descrição breve do jogo\n",
        "- título: nome do jogo\n",
        "- nota dos usuários\n",
        "\n",
        "Podemos verificar que\n",
        "\n",
        "- metascore é de 0 a 100 e está ocupando espaco de um int 64\n",
        "- Há dados nulos (faltando) para o resumo (summary) de alguns registros\n",
        "- Os dados de nota dos usuários (user_score) estão sendo tratados como texto (object) em vez de números (float)"
      ]
    },
    {
      "cell_type": "markdown",
      "metadata": {
        "cell_id": "b0021f9b570940a3ba371eb4bdb1615d",
        "deepnote_cell_type": "markdown",
        "id": "P6KF1vCyElrl"
      },
      "source": [
        "## Entendendo o Significado dos Dados"
      ]
    },
    {
      "cell_type": "markdown",
      "metadata": {
        "cell_id": "ffeee0c3f6b84c9da4a6d9d707b63020",
        "deepnote_cell_type": "markdown",
        "id": "tb3ncVQKElrm"
      },
      "source": [
        "### sort_no"
      ]
    },
    {
      "cell_type": "markdown",
      "metadata": {
        "cell_id": "a6d279de86b240eca83a1f21e11b9bba",
        "deepnote_cell_type": "markdown",
        "id": "JXZR4i0rElrm"
      },
      "source": [
        "Analisar número de ordenação (sort_no), para tentar entendê-lo e descobrir se ele é útil"
      ]
    },
    {
      "cell_type": "code",
      "execution_count": null,
      "metadata": {
        "cell_id": "0fba35969e5147158e03d7751e58f919",
        "deepnote_cell_type": "code",
        "deepnote_to_be_reexecuted": false,
        "execution_millis": 2,
        "execution_start": 1680306926677,
        "source_hash": "8119465d",
        "id": "8mJkoxJQElrn"
      },
      "outputs": [],
      "source": [
        "# Conferir se é único\n",
        "np.any(games_df['sort_no'].duplicated())"
      ]
    },
    {
      "cell_type": "code",
      "execution_count": null,
      "metadata": {
        "cell_id": "aa5a2c7833174918b64aea55015126fd",
        "deepnote_cell_type": "code",
        "deepnote_to_be_reexecuted": false,
        "execution_millis": 172,
        "execution_start": 1680306926684,
        "source_hash": "f2094e94",
        "id": "iOcWIsLCElro"
      },
      "outputs": [],
      "source": [
        "# Conferir se tem alguma relação com outra coluna, principalmente de notas\n",
        "games_df.sort_values('sort_no')"
      ]
    },
    {
      "cell_type": "code",
      "execution_count": null,
      "metadata": {
        "cell_id": "7811fe26e90b49c8a71acc3104baf96f",
        "deepnote_cell_type": "code",
        "deepnote_to_be_reexecuted": false,
        "execution_millis": 5,
        "execution_start": 1680306926903,
        "source_hash": "919eaf47",
        "id": "RkNZGCFGElro"
      },
      "outputs": [],
      "source": [
        "# comparar se a ordenação pelo metascore (decrescente) e pelo sort_no (crescente) tem mesmas notas metascore\n",
        "np.all(\n",
        "    games_df.sort_values('metascore', ascending= False, ignore_index= True)['metascore'] ==\n",
        "    games_df.sort_values('sort_no', ignore_index= True)['metascore']\n",
        ")"
      ]
    },
    {
      "cell_type": "markdown",
      "metadata": {
        "cell_id": "dbe5cc0f0cfd49b0aae1de6357ad9090",
        "deepnote_cell_type": "markdown",
        "id": "zxxbuG-RElrp"
      },
      "source": [
        "Logo concluímos que sort_no é uma ordenação de ranking com base nos maiores metascore"
      ]
    },
    {
      "cell_type": "markdown",
      "metadata": {
        "cell_id": "c217791b307a4d5fa0b44055ba0d4ab4",
        "deepnote_cell_type": "markdown",
        "id": "IOpkx3IZElrq"
      },
      "source": [
        "## Levantando Questionamentos"
      ]
    },
    {
      "cell_type": "markdown",
      "metadata": {
        "cell_id": "fe371e9240814b20b07bfa36d2ea1e1e",
        "deepnote_cell_type": "markdown",
        "id": "64Cd8ylRElrq"
      },
      "source": [
        "1.\n",
        "    a. Qual o top 10 jogos mais bem avaliados pelo site?\n",
        "    b. E pelos usuários?\n",
        "    c. E o bottom 10 (piores avaliados)?\n",
        "2. Como é a distribuição da diferença entre as notas (colocando-as na mesma escala)?\n",
        "3. Qual a plataforma que mais aparece entre os 100\n",
        "    a. melhores avaliados pelos usuários?\n",
        "    b. piores avaliados pelos usuários?\n",
        "4.\n",
        "    a. As notas dos jogos melhoraram a cada ano?\n",
        "    b. E para cada plataforma ao longo dos anos?\n",
        "5. Tem alguma epoca do ano que apresenta:\n",
        "    a. maior número de lançamentos?\n",
        "    b. maior sucesso em relação a notas maiores?\n",
        "    c. maior fracasso em relação a piores notas?\n",
        "6. Que palavras mais aparecem\n",
        "    a. nos títulos dos 1000 melhores jogos?\n",
        "    b. E dos 1000 piores?\n",
        "    c. E nos resumos?\n",
        "7. Para os mesmos jogos disponibilizados para diferentes plataformas, como se comportam\n",
        "    a. as notas dos usúarios?\n",
        "    b. as notas do site?\n",
        "    c. a diferença entre as notas?\n",
        "8. Qual o número de games produzidos para cada plataforma do Dataset? Esses valores indicam qual porcentagem do total?\n",
        "9. Qual a proporção de cada tipo de classificação metascore atribuída aos games? Qual a porcentagem do total de cada uma?"
      ]
    },
    {
      "cell_type": "markdown",
      "metadata": {
        "cell_id": "e001b1d3beca42f9974950c90d9c6742",
        "deepnote_cell_type": "markdown",
        "id": "aXSpU36aElrr"
      },
      "source": [
        "## Limpando dados"
      ]
    },
    {
      "cell_type": "markdown",
      "metadata": {
        "cell_id": "d232ce70fcb140e99715280b9a21a254",
        "deepnote_cell_type": "markdown",
        "id": "uDqKz8UwElrs"
      },
      "source": [
        "### metascore (número de bytes)"
      ]
    },
    {
      "cell_type": "code",
      "execution_count": null,
      "metadata": {
        "cell_id": "3612229803544329a0dd78c3e7b3dcf6",
        "deepnote_cell_type": "code",
        "deepnote_to_be_reexecuted": false,
        "execution_millis": 4,
        "execution_start": 1680306926904,
        "source_hash": "a4a389ee",
        "id": "4Uka4V31Elrt"
      },
      "outputs": [],
      "source": [
        "# int 8 vai até 128, contemplando todos os valores\n",
        "games_df = ( games_df.astype({'metascore': 'int8'}) )"
      ]
    },
    {
      "cell_type": "markdown",
      "metadata": {
        "cell_id": "f5a78d9b04844b89978417227737605c",
        "deepnote_cell_type": "markdown",
        "id": "EjINuQLWElru"
      },
      "source": [
        "### user_score"
      ]
    },
    {
      "cell_type": "code",
      "execution_count": null,
      "metadata": {
        "cell_id": "85d19174fac7448a81bb2e7443d3a19e",
        "deepnote_cell_type": "code",
        "deepnote_to_be_reexecuted": false,
        "execution_millis": 3,
        "execution_start": 1680306926905,
        "source_hash": "a49949f3",
        "id": "zkNEj_DwElrv"
      },
      "outputs": [],
      "source": [
        "# tentativa de converter o tipo dos dados de user_score, para ver os valores que falham\n",
        "set_errors = set()\n",
        "for score in games_df['user_score']:\n",
        "    try:\n",
        "        float(score)\n",
        "    except Exception as e:\n",
        "        set_errors.add(str(e))\n",
        "print(set_errors)"
      ]
    },
    {
      "cell_type": "code",
      "execution_count": null,
      "metadata": {
        "cell_id": "01f405179c0845ddafe8f52f7890ae09",
        "deepnote_cell_type": "code",
        "deepnote_to_be_reexecuted": false,
        "execution_millis": 58,
        "execution_start": 1680306926910,
        "source_hash": "9cb25c8b",
        "id": "iNDvLPiwElrw"
      },
      "outputs": [],
      "source": [
        "# Entendendo os registros com nota tbd (To Be Determined, traduzido como \"a ser determinado\")\n",
        "display( games_df[ games_df['user_score'] == 'tbd' ].head() )\n",
        "print(f\"Número de registros com nota dos usuários pendente: { np.sum( games_df['user_score'] == 'tbd' ) }\")\n",
        "print(f\"Porcentagem de registros com nota dos usuários pendente: { np.sum( games_df['user_score'] == 'tbd' ) / len( games_df ) :0.1%}\")"
      ]
    },
    {
      "cell_type": "markdown",
      "metadata": {
        "cell_id": "12a533cb53a4446697b4936d93160d9d",
        "deepnote_cell_type": "markdown",
        "id": "POa2QWZWElrw"
      },
      "source": [
        "Uma possível explicação para esse valor é de que esse número é uma média e ainda não tiveram avaliações de usuários o suficiente para computar uma média adequada.\n",
        "\n",
        "Podemos adotar algumas abordagens:\n",
        "\n",
        "- substituir os valores pela média geral\n",
        "- separar em grupos de acordo com algum critério e substituir os valores pelas médias de cada grupo\n",
        "    - mesmo metascore\n",
        "    - mesma plataforma\n",
        "    - mesmo metascore e plataforma\n",
        "- substituir os valores usando técnicas que mantenham a distribuição dos dados válidos\n",
        "    - bfill (backward fill) : substituir pela proxima observacao\n",
        "    - ffill (forward fill) : substituir pela observacao anterior\n",
        "- excluir linhas\n",
        "\n",
        "Como esses dados representam 7% dos valores, não desejo excluí-los, então tentarei uma média de acordo o agrupamento pela plataforma"
      ]
    },
    {
      "cell_type": "code",
      "execution_count": null,
      "metadata": {
        "cell_id": "f8e86bcb0d204db0994466b01ca346bd",
        "deepnote_cell_type": "code",
        "deepnote_to_be_reexecuted": false,
        "execution_millis": 41,
        "execution_start": 1680306926974,
        "source_hash": "fda9c10f",
        "id": "fPc0jfwlElrx"
      },
      "outputs": [],
      "source": [
        "# para comparação\n",
        "games_df['user_score_raw'] = games_df['user_score']\n",
        "\n",
        "# Transformar a coluna em float, e os valores faltantes em NaN para poder computar a média\n",
        "games_df['user_score'] = games_df['user_score'].replace('tbd', np.nan).astype(float)\n",
        "\n",
        "# Criar uma cópia do dataframe, para alterar o user_score somente na cópia\n",
        "games_df['user_score'] = games_df['user_score'].fillna(\n",
        "    games_df.groupby('platform')['user_score'].transform('mean')\n",
        ")\n",
        "\n",
        "display( games_df[['user_score', 'user_score_raw']].head() )\n",
        "display( games_df[games_df['user_score_raw'] == 'tbd'][['platform', 'user_score', 'user_score_raw']].head(10) )\n",
        "\n",
        "games_df = games_df.drop(columns= 'user_score_raw')"
      ]
    },
    {
      "cell_type": "markdown",
      "metadata": {
        "cell_id": "b6405c2272684e4d978ccc47547a873b",
        "deepnote_cell_type": "markdown",
        "id": "ZdlSq3qKElry"
      },
      "source": [
        "### summary"
      ]
    },
    {
      "cell_type": "code",
      "execution_count": null,
      "metadata": {
        "cell_id": "cb7192f3fd324d7887ba2084cdd75354",
        "deepnote_cell_type": "code",
        "deepnote_to_be_reexecuted": false,
        "execution_millis": 11,
        "execution_start": 1680306927057,
        "source_hash": "f6edf4c4",
        "id": "HKJCobCIElrz"
      },
      "outputs": [],
      "source": [
        "print('número de resumos faltantes:', games_df['summary'].isna().sum() )\n",
        "display( games_df[games_df['summary'].isna()].head() )"
      ]
    },
    {
      "cell_type": "markdown",
      "metadata": {
        "cell_id": "63bf61794e4c4656908e5486dcf5de31",
        "deepnote_cell_type": "markdown",
        "id": "oVFFR8TnElr0"
      },
      "source": [
        "Parece ser um caso de dados não coletados, pois a falta de um texto no csv gera um NaN\n",
        "\n",
        "Podemos adotar algumas abordagens:\n",
        "\n",
        "- procurar os dados na internet e preencher manualmente\n",
        "- substituir por um valor padrão\n",
        "- deixar como está\n",
        "- excluir linhas\n",
        "\n",
        "Como é uma descrição do jogo, não há necessidade em perder os outros dados por conta dele.\n",
        "\n",
        "Substituirei os valores por uma string vazia, assim como está em games.csv"
      ]
    },
    {
      "cell_type": "code",
      "execution_count": null,
      "metadata": {
        "cell_id": "189c9e2a15a04325888a83d987224925",
        "deepnote_cell_type": "code",
        "deepnote_to_be_reexecuted": false,
        "execution_millis": 3,
        "execution_start": 1680306927114,
        "source_hash": "6dd066b6",
        "id": "zj9S1jWnElr1"
      },
      "outputs": [],
      "source": [
        "games_df['summary'] = games_df['summary'].fillna('')\n",
        "games_df['summary'].isna().sum()"
      ]
    },
    {
      "cell_type": "markdown",
      "metadata": {
        "cell_id": "22f3e07733344c1188eca227e56c9013",
        "deepnote_cell_type": "markdown",
        "id": "61FeRsjOElr2"
      },
      "source": [
        "## Criando Novas Variáveis"
      ]
    },
    {
      "cell_type": "markdown",
      "metadata": {
        "cell_id": "491a7d6746284720858f9b6a514b3d2b",
        "deepnote_cell_type": "markdown",
        "id": "7Bg5_Ob0Elr4"
      },
      "source": [
        "### Trimestre de Lançamento"
      ]
    },
    {
      "cell_type": "markdown",
      "metadata": {
        "cell_id": "72455f698a054558a288fcc2c6628abb",
        "deepnote_cell_type": "markdown",
        "id": "KZMGJJU9Elr5"
      },
      "source": [
        "Como forma de expandir nossas possibilidades de análise, vamos inserir nos dados uma nova variável que informa qual o trimestre do ano em que o Jogo foi lançado."
      ]
    },
    {
      "cell_type": "code",
      "execution_count": null,
      "metadata": {
        "cell_id": "262cac33ac3949338c4bc5fb0e7c04a3",
        "deepnote_cell_type": "code",
        "deepnote_to_be_reexecuted": false,
        "execution_millis": 2,
        "execution_start": 1680306927115,
        "source_hash": "b041a7d",
        "id": "IjemU9yQElr5"
      },
      "outputs": [],
      "source": [
        "def set_year_quarter(month : int) -> str:\n",
        "    '''Retorna uma nova variável que informa o trimestre do ano em que\n",
        "    o jogo foi lançado. Essa definição de trimestre se baseia no mês de lançamento\n",
        "    da coluna release_date.\n",
        "    '''\n",
        "    return (\n",
        "        'Q1' if month in [1, 2, 3] else\n",
        "        'Q2' if month in [4, 5, 6] else\n",
        "        'Q3' if month in [7, 8, 9] else\n",
        "        'Q4' if month in [10, 11, 12] else\n",
        "        np.nan\n",
        "    )"
      ]
    },
    {
      "cell_type": "code",
      "execution_count": null,
      "metadata": {
        "cell_id": "c02f864713c84be89a16c3322029c1df",
        "deepnote_cell_type": "code",
        "deepnote_to_be_reexecuted": false,
        "execution_millis": 96,
        "execution_start": 1680306927116,
        "source_hash": "3819654b",
        "id": "zmjtilBAElr6"
      },
      "outputs": [],
      "source": [
        "# Aplicando função:\n",
        "games_df['release_quarter'] = games_df['release_date'].apply(set_year_quarter)\n",
        "\n",
        "# Checando resultado:\n",
        "games_df[['release_quarter', 'release_date']].sample(10)"
      ]
    },
    {
      "cell_type": "markdown",
      "metadata": {
        "cell_id": "97ea6245d76941708c9c617653576d83",
        "deepnote_cell_type": "markdown",
        "id": "m4y9bipTElr7"
      },
      "source": [
        "### Metascore_class"
      ]
    },
    {
      "cell_type": "markdown",
      "metadata": {
        "cell_id": "29ed7846fefe4cc49502376b0e580be3",
        "deepnote_cell_type": "markdown",
        "id": "eZs7V79mElr8"
      },
      "source": [
        "Essa variável tem como objetivo abrigar a classificação dos valores do Metascore. De acordo com um [FAQ do próprio site](https://www.metacritic.com/about-metascores), para cada range de notas temos uma classificação geral atribuída a ele como ilustrado na imagem abaixo retirada diretamente do FAQ:\n",
        "\n",
        "<img src=\"https://raw.githubusercontent.com/JoSEPHDev2022/Metacritc_Scores_Video_Games/main/images/metascore_classification.png\" width=700 height=350>\n",
        "\n",
        "https://www.metacritic.com/about-metascores"
      ]
    },
    {
      "cell_type": "code",
      "execution_count": null,
      "metadata": {
        "cell_id": "533ff7cf7f894fd5923ffc387ae5b5a3",
        "deepnote_cell_type": "code",
        "deepnote_to_be_reexecuted": false,
        "execution_millis": 6,
        "execution_start": 1680306927306,
        "source_hash": "ccf0972b",
        "id": "4_s9IjKIElr9"
      },
      "outputs": [],
      "source": [
        "def set_metascore_class(score : int) -> str:\n",
        "    '''Retorna uma nova variável que consta a classificação do Jogo\n",
        "    com base em sua nota. Essas classificações são:\n",
        "        - \"Universal Acclaim\" para games com notas entre 90 e 100;\n",
        "        - \"Generally Favorable Reviews\" para games com notas entre 75 e 89;\n",
        "        - \"Mixed or Average Reviews\" para games com notas entre 50 e 74;\n",
        "        - \"Generally Unfavorable Reviews\" para games com notas entre 20 e 49;\n",
        "        - \"Overwhelming Dislike\" para games com notas entre 0 e 19.\n",
        "    '''\n",
        "    return (\n",
        "        '1st - Universal Acclaim' if 90 <= score <= 100 else\n",
        "        '2nd - Generally Favorable' if 75 <= score <= 89 else\n",
        "        '3rd - Mixed or Average' if 50 <= score <= 74 else\n",
        "        '4th - Generally Unfavorable' if 20 <= score <= 49 else\n",
        "        '5th - Overwhelming Dislike' if 0 <= score <= 19 else\n",
        "        np.nan\n",
        "    )"
      ]
    },
    {
      "cell_type": "code",
      "execution_count": null,
      "metadata": {
        "cell_id": "de5629b8811f41fe9b878ea8391214c3",
        "deepnote_cell_type": "code",
        "deepnote_to_be_reexecuted": false,
        "execution_millis": 2,
        "execution_start": 1680306927354,
        "source_hash": "64f19b0d",
        "id": "vd_iTBq_Elr-"
      },
      "outputs": [],
      "source": [
        "# Aplicando função:\n",
        "games_df['classification'] = games_df['metascore'].apply(set_metascore_class)\n",
        "\n",
        "# Visualizando resultados:\n",
        "games_df[['classification', 'metascore']].sample(10)"
      ]
    },
    {
      "cell_type": "markdown",
      "metadata": {
        "cell_id": "298b441b1a7246809a2685b832f87767",
        "deepnote_cell_type": "markdown",
        "id": "FCBqZ8kmElsA"
      },
      "source": [
        "## Funcoes auxiliares"
      ]
    },
    {
      "cell_type": "markdown",
      "metadata": {
        "cell_id": "79958419c8244c1098aaac6aec795088",
        "deepnote_cell_type": "markdown",
        "id": "RhCLCIVvElsB"
      },
      "source": [
        "Com objetivo de estudar palavras presentes na descrição e título, criarei uma função que realiza a extração das palavras"
      ]
    },
    {
      "cell_type": "code",
      "execution_count": null,
      "metadata": {
        "cell_id": "543fabd0f3de4403bd821f627bac385b",
        "deepnote_cell_type": "code",
        "deepnote_to_be_reexecuted": false,
        "execution_millis": 3,
        "execution_start": 1680306927399,
        "source_hash": "2441bb2",
        "id": "WZ4VnFENElsB"
      },
      "outputs": [],
      "source": [
        "def extract_words(texto : str) -> List[str]:\n",
        "    return re.findall('\\w+', texto)\n",
        "\n",
        "extract_words('Injustice 2: Legendary Edition')"
      ]
    },
    {
      "cell_type": "code",
      "execution_count": null,
      "metadata": {
        "cell_id": "1bf75e8defed42ebbe2cafe65149034d",
        "deepnote_cell_type": "code",
        "deepnote_to_be_reexecuted": false,
        "execution_millis": 6,
        "execution_start": 1680306927408,
        "source_hash": "845c06cf",
        "id": "oJejwXeBElsC"
      },
      "outputs": [],
      "source": [
        "def count_words(serie_texto : pd.Series) -> Dict[str, int]:\n",
        "    '''\n",
        "    It counts the number of text elements from the input series which contain a certain word\n",
        "    @input:\n",
        "        - serie_texto: a string-type pd.Series\n",
        "    @output:\n",
        "        A dict where each key is a word and the value its count as described\n",
        "    '''\n",
        "    word_counter = Counter()\n",
        "    for texto in serie_texto:\n",
        "        word_counter.update( Counter( set( extract_words(texto) ) ) )\n",
        "    return word_counter\n",
        "\n",
        "count_words(pd.Series(['Injustice 2: Legendary Edition', 'Injustice 2: Legendary Edition', 'Mini Metro']))"
      ]
    },
    {
      "cell_type": "markdown",
      "metadata": {
        "cell_id": "c0ca4fa9de154f0f99eeeac59b29406d",
        "deepnote_cell_type": "markdown",
        "id": "5mMwdMSfElsD"
      },
      "source": [
        "## EDA"
      ]
    },
    {
      "cell_type": "markdown",
      "metadata": {
        "cell_id": "b11f6f8ad85948a29161ff5afb97e8b9",
        "deepnote_cell_type": "markdown",
        "id": "HxJMv3vmElsD"
      },
      "source": [
        "### Análise Univariada"
      ]
    },
    {
      "cell_type": "code",
      "execution_count": null,
      "metadata": {
        "cell_id": "f601396c2df941faacaaaabc378a1374",
        "deepnote_cell_type": "code",
        "deepnote_to_be_reexecuted": false,
        "execution_millis": 3,
        "execution_start": 1680306927417,
        "source_hash": "41b83781",
        "id": "-aHu5zKoElsE"
      },
      "outputs": [],
      "source": [
        "games_df.columns"
      ]
    },
    {
      "cell_type": "markdown",
      "metadata": {
        "cell_id": "9bef37e9eb874236b53322f7f4dca27a",
        "deepnote_cell_type": "markdown",
        "id": "bSgcoAE_ElsF"
      },
      "source": [
        "#### Ánalise de Variável Categórica: platform"
      ]
    },
    {
      "cell_type": "code",
      "execution_count": null,
      "metadata": {
        "cell_id": "4d00d3fad79e44d19d2c4025810d2a43",
        "deepnote_cell_type": "code",
        "deepnote_to_be_reexecuted": false,
        "execution_millis": 239,
        "execution_start": 1680306927428,
        "source_hash": "705f9ffc",
        "id": "h4DSkJgdElsF"
      },
      "outputs": [],
      "source": [
        "games_df['platform'].value_counts(ascending= True).plot.barh()"
      ]
    },
    {
      "cell_type": "markdown",
      "metadata": {
        "cell_id": "9d1dcdf6193c4bbab7753c3b7ceb2ea4",
        "deepnote_cell_type": "markdown",
        "id": "1HHGae-JElsG"
      },
      "source": [
        "Há muitas plataformas, e muitas estão relacionadas pelo 'fabricante', entao criaremos outra coluna"
      ]
    },
    {
      "cell_type": "code",
      "execution_count": null,
      "metadata": {
        "cell_id": "5ba726333eab449db2883268e6106623",
        "deepnote_cell_type": "code",
        "deepnote_to_be_reexecuted": false,
        "execution_millis": 58,
        "execution_start": 1680306928012,
        "source_hash": "47c36456",
        "id": "aVo62vkTElsG"
      },
      "outputs": [],
      "source": [
        "platform_manufacturer = {\n",
        "    'PC' : 'PC',\n",
        "    'PlayStation' : 'PlayStation',\n",
        "    'PlayStation 5' : 'PlayStation',\n",
        "    'PlayStation 4' : 'PlayStation',\n",
        "    'PlayStation 3' : 'PlayStation',\n",
        "    'PlayStation 2' : 'PlayStation',\n",
        "    'PlayStation Vita' : 'PlayStation',\n",
        "    'PSP' : 'PlayStation',\n",
        "    'Nintendo 64' : 'Nintendo',\n",
        "    'GameCube' : 'Nintendo',\n",
        "    'Wii U' : 'Nintendo',\n",
        "    'Wii' : 'Nintendo',\n",
        "    'Switch' : 'Nintendo',\n",
        "    'Game Boy Advance' : 'Nintendo',\n",
        "    'DS' : 'Nintendo',\n",
        "    '3DS' : 'Nintendo',\n",
        "    'Xbox Series X' : 'Xbox',\n",
        "    'Xbox' : 'Xbox',\n",
        "    'Xbox One' : 'Xbox',\n",
        "    'Xbox 360' : 'Xbox',\n",
        "    'Xbox 360' : 'Xbox',\n",
        "    'Stadia' : 'Other',\n",
        "    'Dreamcast' : 'Other'\n",
        "}\n",
        "games_df['manufacturer'] = games_df['platform'].map(platform_manufacturer)\n",
        "games_df['manufacturer'].value_counts().plot.bar(rot= 45)"
      ]
    },
    {
      "cell_type": "markdown",
      "metadata": {
        "cell_id": "56b75c91b7c94647b4fff1a49e1e72fd",
        "deepnote_cell_type": "markdown",
        "id": "ee0ZgT2VElsH"
      },
      "source": [
        "Assim podemos ver que a PlayStation na verdade ultrapassa o número de jogos de PC no total,\n",
        "considerando que ela renova o console de tempos em tempos"
      ]
    },
    {
      "cell_type": "markdown",
      "metadata": {
        "cell_id": "49707b5acf8e41dc8ea4970cc99c1aa6",
        "deepnote_cell_type": "markdown",
        "id": "GnuV7wJuElsH"
      },
      "source": [
        "#### Histogramas: analisando variáveis numéricas continuas"
      ]
    },
    {
      "cell_type": "markdown",
      "metadata": {
        "cell_id": "70e1007c9f7849fea2519a6c0d08e53f",
        "deepnote_cell_type": "markdown",
        "id": "igVspZ6UElsH"
      },
      "source": [
        "##### funcao auxiliar"
      ]
    },
    {
      "cell_type": "code",
      "execution_count": null,
      "metadata": {
        "cell_id": "df71e91888a94a5e86a76651941e2575",
        "deepnote_cell_type": "code",
        "deepnote_to_be_reexecuted": false,
        "execution_millis": 8,
        "execution_start": 1680306928306,
        "source_hash": "8503f567",
        "id": "cWgJhtNtElsI"
      },
      "outputs": [],
      "source": [
        "# Definindo uma função para plotagem dos histogramas pelo MatPlotLib:\n",
        "\n",
        "def histogram_plot(data: pd.DataFrame, column: pd.Series, bin_width: float, title: str):\n",
        "    '''Retorna um Histograma detalhado sobre os dados fornecidos.\n",
        "\n",
        "    PARÂMETROS:\n",
        "\n",
        "        - data > Um DataFrame do Pandas contendo os dados;\n",
        "        - column > Uma Series do Pandas contendo os dados desejados para plotagem;\n",
        "        - bin_width: > Número float para a dimensão das barras do histograma;\n",
        "        - title > O título desejado para o plot.\n",
        "    '''\n",
        "    fig, ax1 = plt.subplots(figsize=(12,6))\n",
        "\n",
        "    ax2 = sns.histplot(data=data,\n",
        "                       x=column,\n",
        "                       kde=True,\n",
        "                       label='Frequência',\n",
        "                       binwidth=bin_width,\n",
        "                       edgecolor='black',\n",
        "                       line_kws={'linestyle': 'dashdot'},\n",
        "                       color='#151bbf')\n",
        "\n",
        "    ax2.set_title(title, fontdict={'size': 15,\n",
        "                                   'weight': 'bold'})\n",
        "\n",
        "    ax2.set_ylabel('Num. Registros', fontdict={'size': 12,\n",
        "                                               'family': 'monospace'})\n",
        "\n",
        "    ax2.get_yaxis().set_major_formatter(plt.FuncFormatter(lambda number, char: format(int(number), ',')))\n",
        "\n",
        "    ax2.set_xlabel('')"
      ]
    },
    {
      "cell_type": "markdown",
      "metadata": {
        "cell_id": "9a34849027c04ef3af11bcb12613a58c",
        "deepnote_cell_type": "markdown",
        "id": "r5sa34HBElsJ"
      },
      "source": [
        "##### release_year"
      ]
    },
    {
      "cell_type": "code",
      "execution_count": null,
      "metadata": {
        "cell_id": "8f18927f7fba4f2f85d5ca160109064e",
        "deepnote_cell_type": "code",
        "deepnote_to_be_reexecuted": false,
        "execution_millis": 885,
        "execution_start": 1680306928317,
        "source_hash": "8af53fc1",
        "id": "YkyrLeedElsJ"
      },
      "outputs": [],
      "source": [
        "# Histograma:\n",
        "histogram_plot(games_df,\n",
        "               'release_year',\n",
        "               1,\n",
        "               'Distribuição de Lançamento de Jogos por Ano')\n",
        "\n",
        "# Anotando lançamento PS2:\n",
        "plt.annotate('Lançamento PS2',\n",
        "             fontsize=9,\n",
        "             fontfamily='monospace',\n",
        "             xy=(2000.1, 370),\n",
        "             xytext=(1994.5,400),\n",
        "             arrowprops={'arrowstyle':'->', 'color':'black'},\n",
        "             bbox={'boxstyle': 'round', 'fc': '0.65', 'color': '#0bc3d4'})\n",
        "\n",
        "# Anotando lançamento X-Box:\n",
        "plt.annotate('Lançamento X-Box',\n",
        "             fontsize=9,\n",
        "             fontfamily='monospace',\n",
        "             xy=(2001.1, 555),\n",
        "             xytext=(1994.5,570),\n",
        "             arrowprops={'arrowstyle':'->', 'color':'black'},\n",
        "             bbox={'boxstyle': 'round', 'fc': '0.65', 'color': '#0bd422'})\n",
        "\n",
        "plt.show()"
      ]
    },
    {
      "cell_type": "markdown",
      "metadata": {
        "cell_id": "17327360054a465582eabda3a18d86bf",
        "deepnote_cell_type": "markdown",
        "id": "3TrZLTH0ElsK"
      },
      "source": [
        "Centralidade\n",
        "\n",
        "- Em relação aos anos de lançamento dos jogos, temos uma tendência central entre 2015 e 2020, onde as maiores quantidades de data points se acumulam."
      ]
    },
    {
      "cell_type": "markdown",
      "metadata": {
        "cell_id": "5f96d1bbfc8343218bdd9bdca2212206",
        "deepnote_cell_type": "markdown",
        "id": "U2SdleWjElsK"
      },
      "source": [
        "Amplitude"
      ]
    },
    {
      "cell_type": "code",
      "execution_count": null,
      "metadata": {
        "cell_id": "b2ab72dfda494f30883110a2e7f48d7d",
        "deepnote_cell_type": "code",
        "deepnote_to_be_reexecuted": false,
        "execution_millis": 3,
        "execution_start": 1680306929245,
        "source_hash": "7e854576",
        "id": "TuvJRb48ElsK"
      },
      "outputs": [],
      "source": [
        "amplitude = games_df['release_year'].max() - games_df['release_year'].min()\n",
        "\n",
        "print(f'Período de {amplitude} anos.')"
      ]
    },
    {
      "cell_type": "markdown",
      "metadata": {
        "cell_id": "f12ab6fa24474f4d8dd9157e867d842c",
        "deepnote_cell_type": "markdown",
        "id": "haXprzP4ElsL"
      },
      "source": [
        "##### release_month"
      ]
    },
    {
      "cell_type": "code",
      "execution_count": null,
      "metadata": {
        "cell_id": "2a99e02a4d1346c8b07a07842f6d1beb",
        "deepnote_cell_type": "code",
        "deepnote_to_be_reexecuted": false,
        "execution_millis": 588,
        "execution_start": 1680306929246,
        "source_hash": "92cb26f3",
        "id": "VFt_PrGyElsL"
      },
      "outputs": [],
      "source": [
        "# Histograma:\n",
        "histogram_plot(games_df,\n",
        "               'release_month',\n",
        "               0.95,\n",
        "               'Distribuição de Lançamento de Jogos por Mês')"
      ]
    },
    {
      "cell_type": "markdown",
      "metadata": {
        "cell_id": "1db83975e66f47b0a51f0ff99503541a",
        "deepnote_cell_type": "markdown",
        "id": "_ilc9R2gElsM"
      },
      "source": [
        "Centralidade\n",
        "\n",
        "- Em relação aos meses de lançamento dos jogos, temos uma tendência central mais ao final do ano, a partir de Setembro (9) a Novembro (11)."
      ]
    },
    {
      "cell_type": "markdown",
      "metadata": {
        "cell_id": "17ce45a5e4f6472fb197bde06da82e54",
        "deepnote_cell_type": "markdown",
        "id": "qqSdsm48ElsM"
      },
      "source": [
        "Amplitude"
      ]
    },
    {
      "cell_type": "code",
      "execution_count": null,
      "metadata": {
        "cell_id": "44f7bce500174b3c9588c040428a4d71",
        "deepnote_cell_type": "code",
        "deepnote_to_be_reexecuted": false,
        "execution_millis": 7,
        "execution_start": 1680306929832,
        "source_hash": "d18bf214",
        "id": "UHYW4CTLElsN"
      },
      "outputs": [],
      "source": [
        "amplitude = games_df['release_month'].max() - games_df['release_month'].min()\n",
        "\n",
        "print(f'Intervalo de Tempo de {amplitude} meses.')"
      ]
    },
    {
      "cell_type": "markdown",
      "metadata": {
        "cell_id": "ba53463ba216415cbe1c85df215709c2",
        "deepnote_cell_type": "markdown",
        "id": "VF_ZqaQGElsO"
      },
      "source": [
        "##### user_score"
      ]
    },
    {
      "cell_type": "code",
      "execution_count": null,
      "metadata": {
        "cell_id": "dc5c926a082c443bab7825c0c0652f96",
        "deepnote_cell_type": "code",
        "deepnote_to_be_reexecuted": false,
        "execution_millis": 768,
        "execution_start": 1680306929857,
        "scrolled": false,
        "source_hash": "a6e791d2",
        "id": "dMkUew2MElsO"
      },
      "outputs": [],
      "source": [
        "# Histograma:\n",
        "histogram_plot(games_df,\n",
        "               'user_score',\n",
        "               0.3,\n",
        "               'Distribuição de Avaliações de Usuários')"
      ]
    },
    {
      "cell_type": "markdown",
      "metadata": {
        "cell_id": "3ea3eecb7b9945b3a512d7ec54ce4c7a",
        "deepnote_cell_type": "markdown",
        "id": "NXF-BqoJElsP"
      },
      "source": [
        "Centralidade\n",
        "\n",
        "- Em relação as notas fornecidas pelos usuários, temos uma tendência central dos dados entre 7 e 8, como a mediana de 7.1 nos apontou anteriormente."
      ]
    },
    {
      "cell_type": "markdown",
      "metadata": {
        "cell_id": "e59b9074b2b14aeda0b4e5583066b5b1",
        "deepnote_cell_type": "markdown",
        "id": "mLTf4uaJElsQ"
      },
      "source": [
        "Amplitude\n",
        "\n",
        "- Temos uma amplitude pequena por se tratar de uma avaliação, indo de 0 a 10."
      ]
    },
    {
      "cell_type": "code",
      "execution_count": null,
      "metadata": {
        "cell_id": "eb8ab5aee3cd46daae77af3de00d0e32",
        "deepnote_cell_type": "code",
        "deepnote_to_be_reexecuted": false,
        "execution_millis": 286,
        "execution_start": 1680306930631,
        "source_hash": "22aff2a8",
        "id": "qqjPzq_sElsR"
      },
      "outputs": [],
      "source": [
        "_= games_df['user_score'].plot.box(vert= False)"
      ]
    },
    {
      "cell_type": "markdown",
      "metadata": {
        "cell_id": "b5faadc0c0164d1cab85a85de05cb83d",
        "deepnote_cell_type": "text-cell-p",
        "formattedRanges": [],
        "id": "2emwgib-ElsS"
      },
      "source": [
        "user_score apresentam muitos outliers a esquerda (valores baixos)e mais da metade dos jogos está avaliado no intervalo de 6 a 8."
      ]
    },
    {
      "cell_type": "markdown",
      "metadata": {
        "cell_id": "6cfa293134a74ac69396b6105cf3cd21",
        "deepnote_cell_type": "markdown",
        "id": "fUyxFcOfElsS"
      },
      "source": [
        "##### metascore"
      ]
    },
    {
      "cell_type": "code",
      "execution_count": null,
      "metadata": {
        "cell_id": "4d63d0e8ba53420c99c306ef5e3070bf",
        "deepnote_cell_type": "code",
        "deepnote_to_be_reexecuted": false,
        "execution_millis": 758,
        "execution_start": 1680306930922,
        "source_hash": "f589b21",
        "id": "SF6_xBIsElsS"
      },
      "outputs": [],
      "source": [
        "# Histograma:\n",
        "histogram_plot(games_df,\n",
        "               'metascore',\n",
        "               1,\n",
        "               'Distribuição de Avaliações Metacritic')"
      ]
    },
    {
      "cell_type": "markdown",
      "metadata": {
        "cell_id": "0bf934012b04405f9754e9f21307bbd9",
        "deepnote_cell_type": "markdown",
        "id": "CYFryShpElsT"
      },
      "source": [
        "Centralidade\n",
        "\n",
        "- Em relação as notas fornecidas pelo Metacritic, temos uma tendência central dos dados entre 70 e 80. A distribuição de notas do Metacritic parece seguir o mesmo padrão das notas fornecidas pelos usuários, o que demonstra que as notas fornecidas pelo site não são tão discrepantes em relação as fornecidas pelos usuários. A correlação exata dessas duas métricas de avaliação será estudada mais a frente."
      ]
    },
    {
      "cell_type": "markdown",
      "metadata": {
        "cell_id": "8288d285a13246158449421785d588f4",
        "deepnote_cell_type": "markdown",
        "id": "p-GxkEOAElsU"
      },
      "source": [
        "Amplitude\n",
        "\n",
        "- Temos uma amplitude de dados variando de 0 a 100."
      ]
    },
    {
      "cell_type": "code",
      "execution_count": null,
      "metadata": {
        "cell_id": "ca7169aa0b6c421d8daf0b578c64a878",
        "deepnote_cell_type": "code",
        "deepnote_to_be_reexecuted": false,
        "execution_millis": 319,
        "execution_start": 1680306931683,
        "source_hash": "f354c1d5",
        "id": "hwh628C8ElsU"
      },
      "outputs": [],
      "source": [
        "_= games_df['metascore'].plot.box(vert= False)"
      ]
    },
    {
      "cell_type": "markdown",
      "metadata": {
        "cell_id": "76f5a358979242678b04bd71d35782e0",
        "deepnote_cell_type": "markdown",
        "id": "4TI7Yu00ElsV"
      },
      "source": [
        "metascore também apresentam muitos outliers a esquerda (valores baixos)\n",
        "e mais da metade dos jogos está avaliado no intervalo de 60 a 80, bem semelhante ao user_score, considerando as escalas."
      ]
    },
    {
      "cell_type": "markdown",
      "metadata": {
        "cell_id": "70d9ab1dd00445fc9353a00804e4b33a",
        "deepnote_cell_type": "markdown",
        "id": "JOsooPz4ElsV"
      },
      "source": [
        "### Análise Bivariada"
      ]
    },
    {
      "cell_type": "markdown",
      "metadata": {
        "cell_id": "6eab376afa9b44b297a06e78138ee40b",
        "deepnote_cell_type": "markdown",
        "id": "jFDafljJElsW"
      },
      "source": [
        "#### Correlação entre as variáveis"
      ]
    },
    {
      "cell_type": "code",
      "execution_count": null,
      "metadata": {
        "cell_id": "3c99e1b696b64fb8bd08d0ccd7ecda96",
        "deepnote_cell_type": "code",
        "deepnote_to_be_reexecuted": false,
        "execution_millis": 54,
        "execution_start": 1680306932007,
        "source_hash": "1840cc72",
        "id": "zoBaKm4SElsW"
      },
      "outputs": [],
      "source": [
        "# Criando matriz de correlações:\n",
        "\n",
        "correlation_matrix = games_df.select_dtypes(include=[np.number]).corr()\n",
        "\n",
        "correlation_matrix"
      ]
    },
    {
      "cell_type": "code",
      "execution_count": null,
      "metadata": {
        "cell_id": "3436331d58e84ebd8b30c518031c5112",
        "deepnote_cell_type": "code",
        "deepnote_to_be_reexecuted": false,
        "execution_millis": 584,
        "execution_start": 1680306932074,
        "source_hash": "6a5995e6",
        "id": "qTcW6oinElsX"
      },
      "outputs": [],
      "source": [
        "# Selecionando as colunas relevantes (excluindo 'sort_no')\n",
        "cols = [col for col in games_df.columns if col != 'sort_no']\n",
        "subset_df = games_df[cols]\n",
        "\n",
        "# Calculando a matriz de correlação\n",
        "correlation_matrix = subset_df.corr()\n",
        "\n",
        "# Criando o Heatmap:\n",
        "fig, ax = plt.subplots(figsize=(16, 6))\n",
        "\n",
        "ax = sns.heatmap(correlation_matrix,\n",
        "                 vmin=-1,\n",
        "                 vmax=1,\n",
        "                 annot=True,\n",
        "                 linewidths=1,\n",
        "                 cmap='coolwarm')\n",
        "\n",
        "# Formatação:\n",
        "plt.title('Correlações de Variáveis', fontdict={'size': 18, 'weight': 'bold'}, pad=16)\n",
        "\n",
        "plt.show()"
      ]
    },
    {
      "cell_type": "markdown",
      "metadata": {
        "cell_id": "c19072abf31949c38d1e9653ff64e427",
        "deepnote_cell_type": "markdown",
        "id": "1WPQ6zGyElsY"
      },
      "source": [
        "<font color='#039c0b'>**Correlação igual a 1**</font>\n",
        "\n",
        "- Correlação positiva perfeita. Quando o valor de uma variável X aumenta, o valor de outra variável Y também aumenta.\n",
        "\n",
        "<font color='#039c0b'>**Correlação acima de 0**</font>\n",
        "\n",
        "- Correlação positiva. Quando o valor de uma variável X aumenta, o valor de outra variável Y tende a aumentar, porém essa regra não é absoluta, tendo valores da variável Y que não se alteram ou diminuem.\n",
        "\n",
        "**Correlação igual a 0**\n",
        "\n",
        "- Não existe correlação entre as duas variáveis.\n",
        "\n",
        "<font color='#a80505'>**Correlação menor que 0**</font>\n",
        "\n",
        "- Correlação negativa. Quando o valor de uma variável X aumenta, o valor de outra variável Y tende a diminuir, porém essa regra não é absoluta, tendo valores da variável Y que não se alteram ou aumentam.\n",
        "\n",
        "<font color='#a80505'>**Correlação igual a -1**</font>\n",
        "\n",
        "- Correlação neagtiva perfeita. Quando o valor de uma variável X aumenta, o valor de outra variável Y diminui."
      ]
    },
    {
      "cell_type": "markdown",
      "metadata": {
        "cell_id": "d7136d02054a404a8d6c63567b951f51",
        "deepnote_cell_type": "text-cell-p",
        "formattedRanges": [],
        "id": "_X41XlPrElsY"
      },
      "source": [
        "A correlação positiva entre user_score e metascore era esperada, apesar de não ser tão forte (>0.8). O que significa que há uma divergência entre as notas dadas pelo site e pelos usuários."
      ]
    },
    {
      "cell_type": "markdown",
      "metadata": {
        "cell_id": "fa163ab3fd3b4a17bbfc300351c19ae1",
        "deepnote_cell_type": "text-cell-p",
        "formattedRanges": [],
        "id": "zUuJpFjxElsZ"
      },
      "source": [
        "Outra correlação que aparece, apesar de fraca, é negativa entre o user_score e release_year. Isso quer dizer que quanto mais novos os jogos, maior o release_year e menor o user_score"
      ]
    },
    {
      "cell_type": "markdown",
      "metadata": {
        "cell_id": "33533b5e2c1744ba8e3635ee1b79ec8c",
        "deepnote_cell_type": "markdown",
        "id": "TgxQp9soElsZ"
      },
      "source": [
        "#### user_score e metascore"
      ]
    },
    {
      "cell_type": "code",
      "execution_count": null,
      "metadata": {
        "cell_id": "119f54fc53a941668799a25416d32268",
        "deepnote_cell_type": "code",
        "deepnote_to_be_reexecuted": false,
        "execution_millis": 2652,
        "execution_start": 1680306932713,
        "source_hash": "5aa5e136",
        "id": "tFmjTumoElsa"
      },
      "outputs": [],
      "source": [
        "def scale_scores(row : pd.DataFrame) -> pd.DataFrame:\n",
        "    row['metascore'] /= 100\n",
        "    row['user_score'] /= 10\n",
        "    return row\n",
        "\n",
        "_= sns.violinplot( games_df[['user_score', 'metascore']].apply(scale_scores, axis= 1) )"
      ]
    },
    {
      "cell_type": "markdown",
      "metadata": {
        "cell_id": "fde4f51bf4c0495497ff6440e50a1a01",
        "deepnote_cell_type": "text-cell-p",
        "formattedRanges": [],
        "id": "gRGUJTNgElsa"
      },
      "source": [
        "Ambos tem comportamento parecido na distribuição, porém devemos olhar a relação dos pares para cada jogo em específico para melhor avaliar a relação"
      ]
    },
    {
      "cell_type": "code",
      "execution_count": null,
      "metadata": {
        "cell_id": "a11f93b2eb6c424d9e74e4dbdc277006",
        "deepnote_cell_type": "code",
        "deepnote_to_be_reexecuted": false,
        "execution_millis": 1228,
        "execution_start": 1680306935371,
        "source_hash": "b283d09a",
        "id": "LUIxqDjHElsb"
      },
      "outputs": [],
      "source": [
        "plt.figure(figsize= (6,6)) # importante deixar quadradro para uma comparaçao justa\n",
        "_= sns.scatterplot(games_df, x= 'user_score', y= 'metascore', size= 0.5, alpha= 0.5)"
      ]
    },
    {
      "cell_type": "markdown",
      "metadata": {
        "cell_id": "96fd64c0640941d0aceb1070949e149e",
        "deepnote_cell_type": "text-cell-p",
        "formattedRanges": [],
        "id": "e3emtyyPElsb"
      },
      "source": [
        "É visível que, apesar da forte tendencia de que jogos com notas altas no metascore sejam bem avaliados pelos usuários, existem muitos casos bem avaliados pelo site, porém com nota bem baixa dos usuários, e vice-versa."
      ]
    },
    {
      "cell_type": "markdown",
      "metadata": {
        "cell_id": "5b5f334962934bbe98428e13e67859d9",
        "deepnote_cell_type": "markdown",
        "id": "ninN-u0HElsc"
      },
      "source": [
        "#### user_score e release_year"
      ]
    },
    {
      "cell_type": "code",
      "execution_count": null,
      "metadata": {
        "cell_id": "3179e3287ca947139a0f8fd33a3ec9ec",
        "deepnote_cell_type": "code",
        "deepnote_to_be_reexecuted": false,
        "execution_millis": 1310,
        "execution_start": 1680306936601,
        "source_hash": "5b45b145",
        "id": "NLFGhsF6Elsc"
      },
      "outputs": [],
      "source": [
        "_= sns.lineplot(games_df, x= 'release_year', y= 'user_score', color= 'darkred')\n",
        "plt.ylim(0, 10)"
      ]
    },
    {
      "cell_type": "markdown",
      "metadata": {
        "cell_id": "3226728cd2284400b3eba91c3f9a97a1",
        "deepnote_cell_type": "text-cell-p",
        "formattedRanges": [],
        "id": "LqRDncpjElsc"
      },
      "source": [
        "Ao longo do tempo, a média das notas dos usuários tem caído. Isso nos leva a pensar se a qualidade dos jogos tem piorado, se os usuários estão mais críticos, ou outras hipóteses como: será que o volume de jogos aumentou muito e também a diversidade dos estilos, o que não agrada a todos e decai as notas?"
      ]
    },
    {
      "cell_type": "markdown",
      "metadata": {
        "cell_id": "628c9d9aedd74c5881c44ae001c9304f",
        "deepnote_cell_type": "markdown",
        "id": "gOnEoh63Elsd"
      },
      "source": [
        "### Análise Multivariável"
      ]
    },
    {
      "cell_type": "markdown",
      "metadata": {
        "cell_id": "f7d4737d19cd4c3facec03a11d763657",
        "deepnote_cell_type": "markdown",
        "id": "RYPAUnYEElsd"
      },
      "source": [
        "#### Padrões nos jogos conforme a avaliação\n"
      ]
    },
    {
      "cell_type": "code",
      "execution_count": null,
      "metadata": {
        "cell_id": "1269300b63e4467b9f601afc88389917",
        "deepnote_cell_type": "code",
        "deepnote_to_be_reexecuted": false,
        "execution_millis": 5,
        "execution_start": 1680306938228,
        "source_hash": "dc8a9ec1",
        "id": "nRULO8prElse"
      },
      "outputs": [],
      "source": [
        "games_df['classification_hue'] = games_df['classification'].map({\n",
        "    'Universal Acclaim' : 'best',\n",
        "    'Generally Favorable' : 'average',\n",
        "    'Mixed or Average' : 'average',\n",
        "    'Generally Unfavorable' : 'worst',\n",
        "    'Overwhelming Dislike' : 'worst'\n",
        "})"
      ]
    },
    {
      "cell_type": "code",
      "execution_count": null,
      "metadata": {
        "cell_id": "e74dac34de5f403ba31bfa4832f5aa4a",
        "deepnote_cell_type": "code",
        "deepnote_to_be_reexecuted": false,
        "execution_millis": 5698,
        "execution_start": 1680306938236,
        "source_hash": "c362f460",
        "id": "BsIGTn-aElsf"
      },
      "outputs": [],
      "source": [
        "import matplotlib.patches as mpatches\n",
        "\n",
        "# removendo sort_no e metascore do gráfico ja que classification é baseada neles\n",
        "fig, axes = plt.subplots(2, 2, figsize= (15,8))\n",
        "axes = axes.flatten()\n",
        "\n",
        "for datetime_col, ax in zip(\n",
        "        ['release_day', 'release_month', 'release_year', 'release_date'],\n",
        "        axes\n",
        "    ):\n",
        "    sns.scatterplot(\n",
        "        games_df,\n",
        "        ax= ax,\n",
        "        x= datetime_col,\n",
        "        y= 'user_score',\n",
        "        hue= 'classification_hue',\n",
        "        hue_order= ['best', 'average', 'worst'],\n",
        "        palette= {'average' : 'grey', 'worst' : 'orange', 'best' : 'green'},\n",
        "        alpha= 0.2\n",
        "    )\n",
        "    ax.tick_params(axis='x', rotation=90)\n",
        "    legend = ax.get_legend()\n",
        "    legend.remove()\n",
        "\n",
        "handles = []\n",
        "for hue, color in {'average' : 'grey', 'worst' : 'orange', 'best' : 'green'}.items():\n",
        "    patch = mpatches.Patch(color= color, label= hue)\n",
        "    handles.append(patch)\n",
        "_= fig.legend(handles= handles, loc= 'center right')"
      ]
    },
    {
      "cell_type": "markdown",
      "metadata": {
        "cell_id": "5325cef4b4ee4961bdbc8e40a4318418",
        "deepnote_cell_type": "markdown",
        "id": "Jxjb8af-Elsh"
      },
      "source": [
        "Note que antes de 2000 os jogos eram muito bem avaliados pelos usuários, e também é uma região que concentra muitos pontos verdes"
      ]
    },
    {
      "cell_type": "code",
      "execution_count": null,
      "metadata": {
        "cell_id": "13a18b487eed4438b8c3652b5e1bc409",
        "deepnote_cell_type": "code",
        "deepnote_to_be_reexecuted": false,
        "execution_millis": 581,
        "execution_start": 1680306943924,
        "source_hash": "68868edb",
        "id": "h6eqNQY3Elsk"
      },
      "outputs": [],
      "source": [
        "_= games_df.groupby(['classification_hue', 'manufacturer'], as_index= False)['title'].count().pivot(\n",
        "    index='manufacturer', columns='classification_hue', values='title'\n",
        ").apply(\n",
        "    lambda row : 100 * row / row.sum(),\n",
        "    axis= 1\n",
        ")[ ['best', 'worst'] ].sort_values('best').plot.barh(\n",
        "    title= 'Parcela de jogos entre os melhores e piores (%)'\n",
        ")"
      ]
    },
    {
      "cell_type": "markdown",
      "metadata": {
        "cell_id": "082d8643b14049c6ae1c132f8641241c",
        "deepnote_cell_type": "markdown",
        "id": "N3uc2cyGElsl"
      },
      "source": [
        "Desconsiderando o novo grupo 'Other', os outros não apresentam diferenças significativas entre eles considerando os melhores jogos. Até os piores a diferença é pequena, mas claramente 'PC' não apresentam tantos jogos ruin como o Xbox em termos percentuais."
      ]
    },
    {
      "cell_type": "code",
      "execution_count": null,
      "metadata": {
        "cell_id": "083c17997d4842719bcf0b66800c3673",
        "deepnote_cell_type": "code",
        "deepnote_to_be_reexecuted": false,
        "execution_millis": 766,
        "execution_start": 1680306944517,
        "source_hash": "336f2c9b",
        "id": "YhtzrRzXElsm"
      },
      "outputs": [],
      "source": [
        "_= games_df.groupby(['classification_hue', 'platform'], as_index= False)['title'].count().pivot(\n",
        "    index='platform', columns='classification_hue', values='title'\n",
        ").apply(\n",
        "    lambda row : 100 * row / row.sum(),\n",
        "    axis= 1\n",
        ")[ ['best', 'worst'] ].sort_values('best').plot.barh(\n",
        "    title= 'Parcela de jogos entre os melhores e piores (%)'\n",
        ")"
      ]
    },
    {
      "cell_type": "markdown",
      "metadata": {
        "cell_id": "6e0c67b381d44fbb9b20c20e578bbef0",
        "deepnote_cell_type": "markdown",
        "id": "r8UwCrdPElsn"
      },
      "source": [
        "Aqui observa-se um obvio sucesso nos jogos da NIntendo 64 e do PS1 e Dreamcast quando comparados as outras plataformas em percentual."
      ]
    },
    {
      "cell_type": "markdown",
      "metadata": {
        "cell_id": "691afbc5b2194fe688028e4a76c985f0",
        "deepnote_cell_type": "markdown",
        "id": "EUlhuC7ZElsn"
      },
      "source": [
        "### Analisando Hipoteses E Respondendo Questionamentos"
      ]
    },
    {
      "cell_type": "markdown",
      "metadata": {
        "cell_id": "757176a711f646c1a0a7b581bc5d2a42",
        "deepnote_cell_type": "markdown",
        "id": "52vrhVE8Elso"
      },
      "source": [
        "#### H1 - Qual o top 10 jogos mais bem avaliados pelo site? E pelos usuários?"
      ]
    },
    {
      "cell_type": "code",
      "execution_count": null,
      "metadata": {
        "cell_id": "476518da12c94cc0b91ca48750545215",
        "deepnote_cell_type": "code",
        "deepnote_to_be_reexecuted": false,
        "execution_millis": 512,
        "execution_start": 1680306945293,
        "source_hash": "d4bfa4",
        "id": "S_S4Qe20Elso"
      },
      "outputs": [],
      "source": [
        "h1_games_df = games_df[['title', 'user_score']].sort_values(by='user_score', ascending=False).head(10)\n",
        "\n",
        "plt.figure(figsize=(10,6))\n",
        "ax = sns.barplot(data=h1_games_df, y='title', x='user_score', orient='h', color='lightblue')\n",
        "ax.set_title('10 Melhores jogos segundo os usuários')\n",
        "ax.set_ylabel('Título do Jogo')\n",
        "ax.set_xlabel('Nota dos Usuários Metacritic')\n",
        "ax.axvline(games_df['user_score'].mean(), color= 'darkgrey')\n",
        "ax.text(games_df['user_score'].mean(), 8.3, 'média', rotation= 'vertical', color= 'darkgrey')\n",
        "plt.show()"
      ]
    },
    {
      "cell_type": "code",
      "execution_count": null,
      "metadata": {
        "cell_id": "2a4555564ef942d09606f3ce4b4626df",
        "deepnote_cell_type": "code",
        "deepnote_to_be_reexecuted": false,
        "execution_millis": 492,
        "execution_start": 1680306945809,
        "source_hash": "68fd90b3",
        "id": "knmiw17FElsp"
      },
      "outputs": [],
      "source": [
        "h1_games_df = games_df[['title', 'metascore']].sort_values(by='metascore', ascending=False).head(10)\n",
        "\n",
        "plt.figure(figsize=(8,6))\n",
        "ax = sns.barplot(data=h1_games_df, y='title', x='metascore', orient='h', color='lightblue')\n",
        "ax.set_title('10 Melhores jogos segundo o Metacritic')\n",
        "ax.set_ylabel('Título do Jogo')\n",
        "ax.set_xlabel('Nota Metacritic')\n",
        "ax.axvline(games_df['metascore'].mean(), color= 'darkgrey')\n",
        "ax.text(games_df['metascore'].mean(), 8.3, 'média', rotation= 'vertical', color= 'darkgrey')\n",
        "plt.show()"
      ]
    },
    {
      "cell_type": "code",
      "execution_count": null,
      "metadata": {
        "cell_id": "869970c95f6c48738a1dc357011e7b2f",
        "deepnote_cell_type": "code",
        "deepnote_to_be_reexecuted": false,
        "execution_millis": 65,
        "execution_start": 1680306946303,
        "source_hash": "2305fefb",
        "id": "MzIEaE6yElsp"
      },
      "outputs": [],
      "source": [
        "pd.merge(\n",
        "    games_df.sort_values(by='user_score', ascending=False).head(10),\n",
        "    games_df.sort_values(by='metascore', ascending=False).head(10)\n",
        ")"
      ]
    },
    {
      "cell_type": "markdown",
      "metadata": {
        "cell_id": "9db92db3939a4436b467504be4ebe1b2",
        "deepnote_cell_type": "markdown",
        "id": "k2NunVaGElsq"
      },
      "source": [
        "Nenhum em comum"
      ]
    },
    {
      "cell_type": "markdown",
      "metadata": {
        "cell_id": "fc50a2f3b30e48ed8bc51e8c5c665369",
        "deepnote_cell_type": "markdown",
        "id": "sg2SPEP4Elsq"
      },
      "source": [
        "#### H2 - Qual a plataforma que mais aparece entre os 100 melhores avaliados pelos usuários?"
      ]
    },
    {
      "cell_type": "code",
      "execution_count": null,
      "metadata": {
        "cell_id": "68b6c9bd6a5b407ea2ea05a61b86207e",
        "deepnote_cell_type": "code",
        "deepnote_to_be_reexecuted": false,
        "execution_millis": 12,
        "execution_start": 1680306946371,
        "source_hash": "68b549d9",
        "id": "J1g3W5SRElsr"
      },
      "outputs": [],
      "source": [
        "h2_games_df = games_df.sort_values(by='user_score', ascending=False).head(100).groupby('platform').count()['user_score'].sort_values(ascending=False).reset_index()"
      ]
    },
    {
      "cell_type": "code",
      "execution_count": null,
      "metadata": {
        "cell_id": "9ecca63aa62d4400990d91443acebf06",
        "deepnote_cell_type": "code",
        "deepnote_to_be_reexecuted": false,
        "execution_millis": 504,
        "execution_start": 1680306946393,
        "source_hash": "1b696623",
        "id": "cGu93DL5Elsr"
      },
      "outputs": [],
      "source": [
        "plt.figure(figsize=(12,6))\n",
        "ax = sns.barplot(data=h2_games_df, y='platform', x='user_score', orient='h', color= 'lightblue')\n",
        "ax.set_ylabel('Plataforma')\n",
        "ax.set_xlabel('Jogos entre os 100 melhores')\n",
        "plt.show()"
      ]
    },
    {
      "cell_type": "code",
      "execution_count": null,
      "metadata": {
        "cell_id": "fb4226c6ce4c4983ae657a43d6e0e21b",
        "deepnote_cell_type": "code",
        "deepnote_to_be_reexecuted": false,
        "execution_millis": 331,
        "execution_start": 1680306946901,
        "source_hash": "c5fe2316",
        "id": "pxAKj93bElss"
      },
      "outputs": [],
      "source": [
        "plt.figure(figsize=(12,6))\n",
        "ax = sns.barplot(\n",
        "    data= games_df.sort_values(\n",
        "            by='user_score', ascending=False\n",
        "        ).head(100).groupby('manufacturer', as_index= False)['user_score'].count().sort_values(\n",
        "            by='user_score', ascending=False\n",
        "        ),\n",
        "    y='manufacturer',\n",
        "    x='user_score',\n",
        "    orient='h',\n",
        "    color= 'lightblue')\n",
        "ax.set_xlabel('Jogos entre os 100 melhores')\n",
        "plt.show()"
      ]
    },
    {
      "cell_type": "markdown",
      "metadata": {
        "cell_id": "5ef649ef6dba48f38611635f40206e37",
        "deepnote_cell_type": "markdown",
        "id": "9kt4jpH8Elss"
      },
      "source": [
        "Considerando a junção dos jogos de PS, eles ultrapassam ligeiramente os jogos de PC, e os da Nintendo também se aproximam bastante."
      ]
    },
    {
      "cell_type": "markdown",
      "metadata": {
        "cell_id": "27ee19f5df36448daf5aa2d3e320953c",
        "deepnote_cell_type": "markdown",
        "id": "wEXIZRd4Elss"
      },
      "source": [
        "#### H3 - As notas dos jogos melhoraram a cada ano? E para cada plataforma ao longo dos anos?"
      ]
    },
    {
      "cell_type": "code",
      "execution_count": null,
      "metadata": {
        "cell_id": "92c800b47d3e40b7a5b3be7a943531dd",
        "deepnote_cell_type": "code",
        "deepnote_to_be_reexecuted": false,
        "execution_millis": 11,
        "execution_start": 1680306947238,
        "source_hash": "adcbc815",
        "id": "JVgVhse-Elst"
      },
      "outputs": [],
      "source": [
        "h3_df1 = games_df.groupby(['release_year'],as_index=False)[['metascore']].mean()\n",
        "h3_df2 = games_df.groupby(['release_year'],as_index=False)[['user_score']].mean()\n",
        "\n",
        "h3_games_df = h3_df1.append(h3_df2)\n",
        "h3_games_df.reset_index(inplace=True, drop=True)\n",
        "h3_games_df['score'] = np.where(h3_games_df['metascore'].isna() == True, h3_games_df['user_score'], h3_games_df['metascore']/10)\n",
        "h3_games_df['source'] = np.where(h3_games_df['metascore'].isna() == True, 'user_score', 'metascore')\n",
        "h3_games_df.drop(columns=['metascore', 'user_score'], inplace=True)"
      ]
    },
    {
      "cell_type": "code",
      "execution_count": null,
      "metadata": {
        "cell_id": "6a6ff39890d7458b859f9cc68c0726c0",
        "deepnote_cell_type": "code",
        "deepnote_to_be_reexecuted": false,
        "execution_millis": 435,
        "execution_start": 1680306947257,
        "source_hash": "55bc6799",
        "id": "UG8f5Bp_Elst"
      },
      "outputs": [],
      "source": [
        "plt.figure(figsize=(10,6))\n",
        "ax = sns.lineplot(data=h3_games_df, x='release_year', y='score', hue='source', errorbar = None)\n",
        "ax.set_xlabel('Ano de Lançamento')\n",
        "ax.set_ylabel('Pontuação')\n",
        "plt.show()"
      ]
    },
    {
      "cell_type": "code",
      "execution_count": null,
      "metadata": {
        "cell_id": "897bcf0fcd384b90b204630df4f6ffda",
        "deepnote_cell_type": "code",
        "deepnote_to_be_reexecuted": false,
        "execution_millis": 513,
        "execution_start": 1680306947697,
        "source_hash": "8969d746",
        "id": "nSGB1DzdElsu"
      },
      "outputs": [],
      "source": [
        "# usaremos a nota dos usuários como parametro\n",
        "plt.figure(figsize=(10,6))\n",
        "ax = sns.lineplot(\n",
        "    data= games_df.drop(games_df[games_df['manufacturer'] == 'Other'].index),\n",
        "    x='release_year',\n",
        "    y='user_score',\n",
        "    hue='manufacturer',\n",
        "    errorbar=None\n",
        ")\n",
        "ax.set_xlabel('Ano de Lançamento')\n",
        "ax.set_ylabel('Pontuação')\n",
        "plt.show()"
      ]
    },
    {
      "cell_type": "markdown",
      "metadata": {
        "cell_id": "a853cc1c6cfc4260876355f8340c0438",
        "deepnote_cell_type": "markdown",
        "id": "Df31FcfoElsw"
      },
      "source": [
        "A média de todos tem caído. Nos ultimos 10 anos, observa-se que apenas a nintendo mantem um patamar minimo das médias, enquanto o restante decai menos, porém continua diminuindo"
      ]
    },
    {
      "cell_type": "code",
      "execution_count": null,
      "metadata": {
        "cell_id": "8d78916d6ec742f0a837822cab26cb49",
        "deepnote_cell_type": "code",
        "deepnote_to_be_reexecuted": false,
        "execution_millis": 1453,
        "execution_start": 1680306948212,
        "source_hash": "a97c8e19",
        "id": "6aweAv0eElsx"
      },
      "outputs": [],
      "source": [
        "plt.figure(figsize=(10,6))\n",
        "ax = sns.lineplot(\n",
        "    data= games_df.query('''\n",
        "        platform in (\"Nintendo 64\", \"GameCube\", \"Wii\", \"Wii U\", \"Switch\")\n",
        "    '''),\n",
        "    x='release_year',\n",
        "    y='user_score',\n",
        "    hue='platform'\n",
        ")\n",
        "ax.set_xlabel('Ano de Lançamento')\n",
        "ax.set_ylabel('Pontuação')\n",
        "ax.set_title('Média de notas dos Consoles da Nintendo ao longo dos anos')\n",
        "plt.show()"
      ]
    },
    {
      "cell_type": "markdown",
      "metadata": {
        "cell_id": "312d5bd4682540099061eccf37274566",
        "deepnote_cell_type": "markdown",
        "id": "nj2qp_NTElsx"
      },
      "source": [
        "Wii e Wii U apresentam um desempenho que vai melhorando ao longo dos lançamentos, porém o restante é mais constante com uma leve oscilação. Uma anomalia é o GameCube que tem um péssimo desempenho no final dos lançamentos."
      ]
    },
    {
      "cell_type": "markdown",
      "metadata": {
        "cell_id": "477fa2a516e749129fb647e53e84f4b0",
        "deepnote_cell_type": "markdown",
        "id": "g9NcMyBKElsy"
      },
      "source": [
        "#### H4 - Tem alguma epoca do ano que apresenta maior sucesso em relação a notas maiores?"
      ]
    },
    {
      "cell_type": "code",
      "execution_count": null,
      "metadata": {
        "cell_id": "d1052697bc0c4cf5bff87199d89d0598",
        "deepnote_cell_type": "code",
        "deepnote_to_be_reexecuted": false,
        "execution_millis": 11,
        "execution_start": 1680306949677,
        "source_hash": "af928596",
        "id": "_Q0WxSsfElsy"
      },
      "outputs": [],
      "source": [
        "h4_df1 = games_df.groupby('release_quarter')[['metascore']].mean()\n",
        "h4_df2 = games_df.groupby('release_quarter')[['user_score']].mean()\n",
        "\n",
        "h4_games_df = h4_df1.append(h4_df2)\n",
        "h4_games_df.reset_index(inplace=True)\n",
        "h4_games_df['score'] = np.where(h4_games_df['metascore'].isna() == True, h4_games_df['user_score'], h4_games_df['metascore']/10)\n",
        "h4_games_df['source'] = np.where(h4_games_df['metascore'].isna() == True, 'user_score', 'metascore')\n",
        "h4_games_df.drop(columns=['metascore', 'user_score'], inplace=True)"
      ]
    },
    {
      "cell_type": "code",
      "execution_count": null,
      "metadata": {
        "cell_id": "8c0eb03cb8204d28abfedb0d10c5996b",
        "deepnote_cell_type": "code",
        "deepnote_to_be_reexecuted": false,
        "execution_millis": 361,
        "execution_start": 1680306949697,
        "source_hash": "cb3279c4",
        "id": "HjBLNGMRElsz"
      },
      "outputs": [],
      "source": [
        "plt.figure(figsize=(12,6))\n",
        "ax = sns.barplot(data=h4_games_df, x='release_quarter', y='score', hue='source')\n",
        "ax.set_xlabel('Nota')\n",
        "ax.set_ylabel('Trimestre')\n",
        "plt.show()"
      ]
    },
    {
      "cell_type": "markdown",
      "metadata": {
        "cell_id": "4cc2c0d84e094953bcf1978ed03d66bb",
        "deepnote_cell_type": "markdown",
        "id": "z88SZuD3Elsz"
      },
      "source": [
        "#### H11 - Qual o número de games produzidos para cada plataforma do Dataset? Esses valores indicam qual porcentagem do total?"
      ]
    },
    {
      "cell_type": "code",
      "execution_count": null,
      "metadata": {
        "cell_id": "b2ecbf71c1024bbaac6840b47e8c4fd8",
        "deepnote_cell_type": "code",
        "deepnote_to_be_reexecuted": false,
        "execution_millis": 8,
        "execution_start": 1680306950063,
        "source_hash": "89c3f385",
        "id": "ftdtuo6HElsz"
      },
      "outputs": [],
      "source": [
        "h11_games_df = games_df.groupby([\"manufacturer\", 'platform'])[['title']].count().sort_values(by='title')\n",
        "h11_games_df['percentage'] = (h11_games_df['title'] / h11_games_df['title'].sum() * 100).round(2)\n",
        "h11_games_df.reset_index(inplace=True)"
      ]
    },
    {
      "cell_type": "code",
      "execution_count": null,
      "metadata": {
        "cell_id": "607b890101b043ae8f586f1a3d763174",
        "deepnote_cell_type": "code",
        "deepnote_to_be_reexecuted": false,
        "execution_millis": 611,
        "execution_start": 1680306950093,
        "source_hash": "7115fb80",
        "id": "uhLOySPDEls0"
      },
      "outputs": [],
      "source": [
        "from matplotlib.colors import to_rgba\n",
        "manufacturer_color = {\n",
        "    'PC' : to_rgba('C1', 0.4),\n",
        "    'PlayStation' : to_rgba('C2', 0.4),\n",
        "    'Nintendo' : to_rgba('C3', 0.4),\n",
        "    'Xbox' : to_rgba('C4', 0.4),\n",
        "    'Other' : to_rgba('C5', 0.4)\n",
        "}\n",
        "\n",
        "plt.figure(figsize=(10,6))\n",
        "\n",
        "plt.barh(\n",
        "    data=h11_games_df,\n",
        "    y='platform',\n",
        "    width='percentage',\n",
        "    color= h11_games_df['platform'].map(platform_manufacturer).map(manufacturer_color)\n",
        ")\n",
        "plt.xlabel('Percentual do Dataset (%)')\n",
        "\n",
        "handles = []\n",
        "for manuf, color in manufacturer_color.items():\n",
        "    label = f'{manuf} ({ h11_games_df[h11_games_df[\"manufacturer\"] == manuf].title.sum() / h11_games_df.title.sum() :.1%})'\n",
        "    patch = mpatches.Patch(color= color, label= label)\n",
        "    handles.append(patch)\n",
        "_= plt.legend(handles= handles, loc= 'center right')"
      ]
    },
    {
      "cell_type": "markdown",
      "metadata": {
        "cell_id": "ed25f3bba4f54f83b6c7b725abee20de",
        "deepnote_cell_type": "markdown",
        "id": "TphgCZeWEls0"
      },
      "source": [
        "#### H14 - Qual a proporção de cada tipo de classificação atribuída aos games? Qual a porcentagem do total de cada uma?"
      ]
    },
    {
      "cell_type": "markdown",
      "metadata": {
        "cell_id": "559be429ecbf4ebf867f1647682b6c3f",
        "deepnote_cell_type": "text-cell-p",
        "formattedRanges": [],
        "id": "gEGGcpQOEls0"
      },
      "source": [
        "Agrupando os dados e realizar a contagem de cada ocorrência das classificações. Após isso, vamos calcular a porcentagem de cada um em relação ao total."
      ]
    },
    {
      "cell_type": "code",
      "execution_count": null,
      "metadata": {
        "cell_id": "8fe9ae54f2c544c8a7baaa3fe5e43fb8",
        "deepnote_cell_type": "code",
        "deepnote_to_be_reexecuted": false,
        "execution_millis": 17,
        "execution_start": 1680306950707,
        "source_hash": "d7acd577",
        "id": "RcIHv2QZEls1"
      },
      "outputs": [],
      "source": [
        "# Contando ocorrências de cada classificação:\n",
        "classification_count = (games_df\n",
        "                        .groupby('classification')[['classification']]\n",
        "                        .count()\n",
        "                        .unstack()\n",
        "                        .reset_index()\n",
        "                        .drop('level_0', axis=1)\n",
        "                        .rename(columns={0: 'quantity'})\n",
        "                        .sort_values(by='quantity', ascending=False))\n",
        "\n",
        "classification_count"
      ]
    },
    {
      "cell_type": "code",
      "execution_count": null,
      "metadata": {
        "cell_id": "deafffd50a874f93b821d3c69dc8b7a9",
        "deepnote_cell_type": "code",
        "deepnote_to_be_reexecuted": false,
        "execution_millis": 54,
        "execution_start": 1680306950730,
        "source_hash": "2d03129f",
        "id": "ZzWoHP0YEls1"
      },
      "outputs": [],
      "source": [
        "# Inserindo porcentagem do total:\n",
        "classification_count['%_total'] = round((classification_count['quantity']/games_df.shape[0]) * 100, 2)\n",
        "\n",
        "(classification_count\n",
        " .style\n",
        " .hide_index()\n",
        " .format({'%_total': '{:.2f}%'}))"
      ]
    },
    {
      "cell_type": "code",
      "execution_count": null,
      "metadata": {
        "cell_id": "c659deee7f254870bc5825ec53e75032",
        "deepnote_cell_type": "code",
        "deepnote_to_be_reexecuted": false,
        "execution_millis": 760,
        "execution_start": 1680306950800,
        "source_hash": "3e157fbf",
        "id": "e2vTFH8REls1"
      },
      "outputs": [],
      "source": [
        "# Definindo parâmetros de tamanho:\n",
        "fig, ax = plt.subplots(figsize=(15, 7))\n",
        "\n",
        "# Criando o barplot:\n",
        "sns.barplot(data=classification_count,\n",
        "            x='quantity',\n",
        "            y='classification',\n",
        "            edgecolor='black',\n",
        "            palette='winter')\n",
        "\n",
        "# Definindo título e ajustando labels nos eixos X e Y:\n",
        "plt.title('Distribuição de Classificações Metacritic',\n",
        "           fontdict={'size': 18, 'weight': 'bold'}, pad=16)\n",
        "\n",
        "plt.xlabel('Núm. Games com a Classificação',\n",
        "           fontdict={'size': 11}, labelpad=3)\n",
        "\n",
        "plt.ylabel('')\n",
        "\n",
        "# Formatando valores do eixo X para ter uma vírgula:\n",
        "ax.get_xaxis().set_major_formatter(\n",
        "    plt.FuncFormatter(lambda number, char: format(int(number), ','))\n",
        "    )\n",
        "\n",
        "# Adicionando tabela com conteúdos\n",
        "row_color = np.full(len(classification_count.index), 'lightskyblue')\n",
        "col_color = np.full(len(classification_count.columns), 'lightskyblue')\n",
        "row_index = np.arange(1,6)\n",
        "\n",
        "data_table = plt.table(cellText=classification_count.values,\n",
        "                       cellLoc='center',\n",
        "                       rowLabels=row_index,\n",
        "                       rowColours=row_color,\n",
        "                       colLabels=classification_count.columns,\n",
        "                       colColours=col_color,\n",
        "                       bbox=[0, -0.41, 1, 0.3])\n",
        "\n",
        "# Preciso aumentar a fonte da tabela\n",
        "plt.show()"
      ]
    },
    {
      "cell_type": "markdown",
      "metadata": {
        "cell_id": "857b6e8d68614c2b8ec0b41bbacba582",
        "deepnote_cell_type": "markdown",
        "id": "zWsiT3CcEls2"
      },
      "source": [
        "#### H16 - Quais são os top 10 games mais bem avaliados pelos usuários e pelo metacritic? Eles são muito diferentes?"
      ]
    },
    {
      "cell_type": "markdown",
      "metadata": {
        "cell_id": "b2a67a66fee4431084a005c7ac882852",
        "deepnote_cell_type": "text-cell-bullet",
        "formattedRanges": [],
        "id": "FiNfLvSeEls2"
      },
      "source": [
        "- User Score"
      ]
    },
    {
      "cell_type": "code",
      "execution_count": null,
      "metadata": {
        "cell_id": "7b414d2335f44e46ad2afe06f5162f28",
        "deepnote_cell_type": "code",
        "deepnote_to_be_reexecuted": false,
        "execution_millis": 8,
        "execution_start": 1680306951563,
        "source_hash": "6c64adcf",
        "id": "FO81hNOSEls2"
      },
      "outputs": [],
      "source": [
        "# Coletando os 10 registros com notas mais altas dos usuários:\n",
        "user_top_10 = (games_df.loc[:, ['title', 'platform', 'user_score',\n",
        "                                  'release_year', 'metascore', 'classification']]\n",
        "               .sort_values('user_score', ascending=False)\n",
        "               .head(10)\n",
        "               .reset_index()\n",
        "               .drop('id', axis=1))"
      ]
    },
    {
      "cell_type": "code",
      "execution_count": null,
      "metadata": {
        "cell_id": "842fa4ac845f4c2cb24d024f11d39e37",
        "deepnote_cell_type": "code",
        "deepnote_to_be_reexecuted": false,
        "execution_millis": 18,
        "execution_start": 1680306951579,
        "source_hash": "3333cb85",
        "id": "OhRyBgrMEls3"
      },
      "outputs": [],
      "source": [
        "# Criando nova variável de variação dos dados:\n",
        "user_top_10['variation'] = (user_top_10['user_score'] - (user_top_10['metascore']/10)).abs()\n",
        "\n",
        "# Redefinindo index para iniciar por 1 em vez de 0:\n",
        "user_top_10.index += 1\n",
        "\n",
        "# Mostrando dados finais:\n",
        "(user_top_10\n",
        " .style\n",
        " .highlight_max(subset='user_score', color='#39fc03')\n",
        " .highlight_max(subset='variation', color='#a82620')\n",
        " .highlight_min(subset='user_score', color='#a82620')\n",
        " .highlight_min(subset='variation', color='#39fc03')\n",
        " .format('{:.1f}', subset='user_score')\n",
        " .format('{:.1f}', subset='variation'))"
      ]
    },
    {
      "cell_type": "markdown",
      "metadata": {
        "cell_id": "46f47ee7dd2647d4bca56dd193872c1b",
        "deepnote_cell_type": "markdown",
        "id": "tXAGQ22QEls3"
      },
      "source": [
        "#### H17 - Quais são os bottom 10 games pior avaliados pelos usuários e pelo metacritic? Eles são muito diferentes?"
      ]
    },
    {
      "cell_type": "markdown",
      "metadata": {
        "cell_id": "ad93a354ff2642ab83b89215cc4eb361",
        "deepnote_cell_type": "markdown",
        "id": "e1UXT4LNEls4"
      },
      "source": [
        "- Pelo user_score"
      ]
    },
    {
      "cell_type": "code",
      "execution_count": null,
      "metadata": {
        "cell_id": "6e83203590814578beab1ee50bf6c674",
        "deepnote_cell_type": "code",
        "deepnote_to_be_reexecuted": false,
        "execution_millis": 82,
        "execution_start": 1680306951608,
        "source_hash": "823fd62",
        "id": "e3X8yBc8Els4"
      },
      "outputs": [],
      "source": [
        "user_bottom_10 = (games_df.query('user_score != -1')[['title', 'platform', 'release_year',\n",
        "                                                        'user_score', 'metascore', 'classification']]\n",
        "               .sort_values('user_score', ascending=True)\n",
        "               .head(10)\n",
        "               .reset_index())\n",
        "\n",
        "# Criando nova variável de variação dos dados:\n",
        "user_bottom_10['variation'] = (user_bottom_10['user_score'] - (user_bottom_10['metascore']/10)).abs()\n",
        "\n",
        "# Redefinindo index para iniciar por 1 em vez de 0:\n",
        "user_bottom_10.index += 1\n",
        "\n",
        "# Mostrando dados finais:\n",
        "(user_bottom_10\n",
        " .style\n",
        " .highlight_max(subset='user_score', color='#39fc03')\n",
        " .highlight_max(subset='variation', color='#a82620')\n",
        " .highlight_min(subset='user_score', color='#a82620')\n",
        " .highlight_min(subset='variation', color='#39fc03')\n",
        " .format('{:.1f}', subset='user_score')\n",
        " .format('{:.1f}', subset='variation'))"
      ]
    },
    {
      "cell_type": "markdown",
      "metadata": {
        "cell_id": "d8c24de149944fa2b5a089734d0cceff",
        "deepnote_cell_type": "markdown",
        "id": "fphQFS5cEls5"
      },
      "source": [
        "- Pelo metascore"
      ]
    },
    {
      "cell_type": "code",
      "execution_count": null,
      "metadata": {
        "cell_id": "b1e1eb25a91142bc8e8a1fbcc3fab78a",
        "deepnote_cell_type": "code",
        "deepnote_to_be_reexecuted": false,
        "execution_millis": 26,
        "execution_start": 1680306951679,
        "source_hash": "61ea2a85",
        "id": "AHvLsPW7Els5"
      },
      "outputs": [],
      "source": [
        "metascore_bottom_10 = (games_df.loc[:, ['title', 'platform', 'release_year',\n",
        "                                       'user_score', 'metascore', 'classification']]\n",
        "               .sort_values('metascore', ascending=True)\n",
        "               .head(10)\n",
        "               .reset_index())\n",
        "\n",
        "# Criando nova variável de variação dos dados:\n",
        "metascore_bottom_10['variation'] = (metascore_bottom_10['metascore']/10) - (metascore_bottom_10['user_score']).abs()\n",
        "\n",
        "# Redefinindo index para iniciar por 1 em vez de 0:\n",
        "metascore_bottom_10.index += 1\n",
        "\n",
        "# Mostrando dados finais:\n",
        "(metascore_bottom_10\n",
        " .style\n",
        " .highlight_max(subset='metascore', color='#39fc03')\n",
        " .highlight_max(subset='variation', color='#39fc03')\n",
        " .highlight_min(subset='metascore', color='#a82620')\n",
        " .highlight_min(subset='variation', color='#a82620')\n",
        " .format('{:.1f}', subset='user_score')\n",
        " .format('{:.1f}', subset='variation'))"
      ]
    },
    {
      "cell_type": "code",
      "execution_count": null,
      "metadata": {
        "cell_id": "0fd759d1162844af9e72410e83b5182a",
        "deepnote_cell_type": "code",
        "deepnote_to_be_reexecuted": false,
        "execution_millis": 18,
        "execution_start": 1680307056221,
        "source_hash": "b7e17e2e",
        "id": "ottJHUnGEls5"
      },
      "outputs": [],
      "source": [
        "h19_games_df = games_df.groupby(['release_month', 'release_year']).count().sort_values(by=['release_year','release_month'], ascending=[True, True])\n",
        "h19_games_df.reset_index(inplace=True)\n",
        "h19_games_df[['release_month', 'release_year']] = h19_games_df[['release_month', 'release_year']].astype(str)\n",
        "h19_games_df['release_year_month'] = h19_games_df[['release_year','release_month']].apply(\"-\".join, axis=1)\n",
        "h19_games_df.drop(columns=['release_month', 'release_year', 'metascore', 'platform', 'release_date', 'sort_no', 'summary', 'title','user_score', 'release_quarter', 'release_day'], inplace=True)\n",
        "h19_games_df = h19_games_df.append(h19_games_df.append(h19_games_df.append(h19_games_df.append(h19_games_df))))\n",
        "h19_games_df.reset_index(drop=True,inplace=True)\n",
        "h19_games_df[['platform','count_of_released_games']] = np.nan\n",
        "h19_games_df.index += 1\n",
        "h19_games_df"
      ]
    },
    {
      "cell_type": "code",
      "execution_count": null,
      "metadata": {
        "cell_id": "499d041cb81d44e8b027874753d12f06",
        "deepnote_cell_type": "code",
        "deepnote_to_be_reexecuted": false,
        "execution_millis": 5951,
        "execution_start": 1680307061443,
        "source_hash": "dc6a4fbd",
        "id": "y3WiSOvgEls6"
      },
      "outputs": [],
      "source": [
        "h19_games_df_2 = games_df.copy()\n",
        "h19_games_df_2[['release_month', 'release_year']] = h19_games_df_2[['release_month', 'release_year']].astype(str)\n",
        "h19_games_df_2['release_year_month'] = h19_games_df_2[['release_year','release_month']].apply(\"-\".join, axis=1)\n",
        "\n",
        "platform_list = ['PC', 'PlayStation 4', 'Switch', 'Xbox 360', 'PlayStation 2']\n",
        "\n",
        "sum_released_games_number = 0\n",
        "platform = 'PC'\n",
        "for index, row in h19_games_df.iterrows():\n",
        "    if index % 321 == 0 and index // 321 < 5:\n",
        "        platform = platform_list[index//321]\n",
        "        sum_released_games_number = 0\n",
        "    year_month = row['release_year_month']\n",
        "    sum_released_games_number += h19_games_df_2.query(f'release_year_month == \"{year_month}\" & platform == \"{platform}\"').shape[0]\n",
        "    h19_games_df.loc[index, 'platform'] = platform\n",
        "    h19_games_df.loc[index, 'count_of_released_games'] = sum_released_games_number\n",
        "\n",
        "h19_games_df"
      ]
    },
    {
      "cell_type": "code",
      "execution_count": null,
      "metadata": {
        "cell_id": "32cc47f3f20143efa836349aa1d3ee30",
        "deepnote_cell_type": "code",
        "deepnote_to_be_reexecuted": false,
        "execution_millis": 1693,
        "execution_start": 1680307082655,
        "source_hash": "7299547f",
        "id": "Z_nrENwXEls6"
      },
      "outputs": [],
      "source": [
        "fig = px.bar(h19_games_df,x='platform', y=\"count_of_released_games\", animation_frame='release_year_month', range_y=[0, 7000])\n",
        "fig.show()"
      ]
    },
    {
      "cell_type": "markdown",
      "metadata": {
        "created_in_deepnote_cell": true,
        "deepnote_cell_type": "markdown",
        "id": "WtBh9TV6Els7"
      },
      "source": [
        "<a style='text-decoration:none;line-height:16px;display:flex;color:#5B5B62;padding:10px;justify-content:end;' href='https://deepnote.com?utm_source=created-in-deepnote-cell&projectId=2de3bbe3-f90a-472d-99e1-fa85ad9b52c8' target=\"_blank\">\n",
        "<img alt='Created in deepnote.com' style='display:inline;max-height:16px;margin:0px;margin-right:7.5px;' src='data:image/svg+xml;base64,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' > </img>\n",
        "Created in <span style='font-weight:600;margin-left:4px;'>Deepnote</span></a>"
      ]
    }
  ],
  "metadata": {
    "deepnote": {},
    "deepnote_execution_queue": [],
    "deepnote_notebook_id": "ccf90c4472aa403ba6449fae06efc42b",
    "kernelspec": {
      "display_name": "Python 3 (ipykernel)",
      "language": "python",
      "name": "python3"
    },
    "language_info": {
      "codemirror_mode": {
        "name": "ipython",
        "version": 3
      },
      "file_extension": ".py",
      "mimetype": "text/x-python",
      "name": "python",
      "nbconvert_exporter": "python",
      "pygments_lexer": "ipython3",
      "version": "3.9.7"
    },
    "colab": {
      "provenance": []
    }
  },
  "nbformat": 4,
  "nbformat_minor": 0
}